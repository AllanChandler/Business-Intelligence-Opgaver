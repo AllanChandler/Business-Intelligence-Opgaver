{
 "cells": [
  {
   "cell_type": "markdown",
   "id": "6633ce06-2d25-45ad-8b72-cdb6609817d1",
   "metadata": {},
   "source": [
    "# Importerer nødvendige biblioteker"
   ]
  },
  {
   "cell_type": "code",
   "execution_count": 10,
   "id": "1812662f-03e2-4595-9303-043031488105",
   "metadata": {},
   "outputs": [],
   "source": [
    "import pandas as pd"
   ]
  },
  {
   "cell_type": "markdown",
   "id": "9a288962-8ecc-4a86-9ad6-036578e06975",
   "metadata": {},
   "source": [
    "## Indlæsning af data\n",
    "Der læses dataene fra to Excel-filer: en for rødvin og en for hvidvin."
   ]
  },
  {
   "cell_type": "code",
   "execution_count": 32,
   "id": "b03cf856-175e-4460-bfe8-0f18253996f9",
   "metadata": {},
   "outputs": [],
   "source": [
    "# Indlæser rødvin og hvidvin fra Excel og bruger den anden række som header\n",
    "rødvin = pd.read_excel(\"winequality-red.xlsx\", header=1)\n",
    "hvidvin = pd.read_excel(\"winequality-white.xlsx\", header=1)"
   ]
  },
  {
   "cell_type": "code",
   "execution_count": 34,
   "id": "fd62f10e-ad2f-4b83-a308-7d68cc21442b",
   "metadata": {},
   "outputs": [
    {
     "data": {
      "text/html": [
       "<div>\n",
       "<style scoped>\n",
       "    .dataframe tbody tr th:only-of-type {\n",
       "        vertical-align: middle;\n",
       "    }\n",
       "\n",
       "    .dataframe tbody tr th {\n",
       "        vertical-align: top;\n",
       "    }\n",
       "\n",
       "    .dataframe thead th {\n",
       "        text-align: right;\n",
       "    }\n",
       "</style>\n",
       "<table border=\"1\" class=\"dataframe\">\n",
       "  <thead>\n",
       "    <tr style=\"text-align: right;\">\n",
       "      <th></th>\n",
       "      <th>fixed acidity</th>\n",
       "      <th>volatile acidity</th>\n",
       "      <th>citric acid</th>\n",
       "      <th>residual sugar</th>\n",
       "      <th>chlorides</th>\n",
       "      <th>free sulfur dioxide</th>\n",
       "      <th>total sulfur dioxide</th>\n",
       "      <th>density</th>\n",
       "      <th>pH</th>\n",
       "      <th>sulphates</th>\n",
       "      <th>alcohol</th>\n",
       "      <th>quality</th>\n",
       "    </tr>\n",
       "  </thead>\n",
       "  <tbody>\n",
       "    <tr>\n",
       "      <th>0</th>\n",
       "      <td>7.4</td>\n",
       "      <td>0.70</td>\n",
       "      <td>0.00</td>\n",
       "      <td>1.9</td>\n",
       "      <td>0.076</td>\n",
       "      <td>11.0</td>\n",
       "      <td>34.0</td>\n",
       "      <td>0.9978</td>\n",
       "      <td>3.51</td>\n",
       "      <td>0.56</td>\n",
       "      <td>9.4</td>\n",
       "      <td>5</td>\n",
       "    </tr>\n",
       "    <tr>\n",
       "      <th>1</th>\n",
       "      <td>7.8</td>\n",
       "      <td>0.88</td>\n",
       "      <td>0.00</td>\n",
       "      <td>2.6</td>\n",
       "      <td>0.098</td>\n",
       "      <td>25.0</td>\n",
       "      <td>67.0</td>\n",
       "      <td>0.9968</td>\n",
       "      <td>3.20</td>\n",
       "      <td>0.68</td>\n",
       "      <td>9.8</td>\n",
       "      <td>5</td>\n",
       "    </tr>\n",
       "    <tr>\n",
       "      <th>2</th>\n",
       "      <td>7.8</td>\n",
       "      <td>0.76</td>\n",
       "      <td>0.04</td>\n",
       "      <td>2.3</td>\n",
       "      <td>0.092</td>\n",
       "      <td>15.0</td>\n",
       "      <td>54.0</td>\n",
       "      <td>0.9970</td>\n",
       "      <td>3.26</td>\n",
       "      <td>0.65</td>\n",
       "      <td>9.8</td>\n",
       "      <td>5</td>\n",
       "    </tr>\n",
       "    <tr>\n",
       "      <th>3</th>\n",
       "      <td>11.2</td>\n",
       "      <td>0.28</td>\n",
       "      <td>0.56</td>\n",
       "      <td>1.9</td>\n",
       "      <td>0.075</td>\n",
       "      <td>17.0</td>\n",
       "      <td>60.0</td>\n",
       "      <td>0.9980</td>\n",
       "      <td>3.16</td>\n",
       "      <td>0.58</td>\n",
       "      <td>9.8</td>\n",
       "      <td>6</td>\n",
       "    </tr>\n",
       "    <tr>\n",
       "      <th>4</th>\n",
       "      <td>7.4</td>\n",
       "      <td>0.70</td>\n",
       "      <td>0.00</td>\n",
       "      <td>1.9</td>\n",
       "      <td>0.076</td>\n",
       "      <td>11.0</td>\n",
       "      <td>34.0</td>\n",
       "      <td>0.9978</td>\n",
       "      <td>3.51</td>\n",
       "      <td>0.56</td>\n",
       "      <td>9.4</td>\n",
       "      <td>5</td>\n",
       "    </tr>\n",
       "  </tbody>\n",
       "</table>\n",
       "</div>"
      ],
      "text/plain": [
       "   fixed acidity  volatile acidity  citric acid  residual sugar  chlorides  \\\n",
       "0            7.4              0.70         0.00             1.9      0.076   \n",
       "1            7.8              0.88         0.00             2.6      0.098   \n",
       "2            7.8              0.76         0.04             2.3      0.092   \n",
       "3           11.2              0.28         0.56             1.9      0.075   \n",
       "4            7.4              0.70         0.00             1.9      0.076   \n",
       "\n",
       "   free sulfur dioxide  total sulfur dioxide  density    pH  sulphates  \\\n",
       "0                 11.0                  34.0   0.9978  3.51       0.56   \n",
       "1                 25.0                  67.0   0.9968  3.20       0.68   \n",
       "2                 15.0                  54.0   0.9970  3.26       0.65   \n",
       "3                 17.0                  60.0   0.9980  3.16       0.58   \n",
       "4                 11.0                  34.0   0.9978  3.51       0.56   \n",
       "\n",
       "   alcohol  quality  \n",
       "0      9.4        5  \n",
       "1      9.8        5  \n",
       "2      9.8        5  \n",
       "3      9.8        6  \n",
       "4      9.4        5  "
      ]
     },
     "execution_count": 34,
     "metadata": {},
     "output_type": "execute_result"
    }
   ],
   "source": [
    "# Viser de første 5 rækker for rødvin\n",
    "rødvin.head()"
   ]
  },
  {
   "cell_type": "code",
   "execution_count": 36,
   "id": "b0f28257-ddfc-4d7c-bfd1-a3ca8cc63e21",
   "metadata": {},
   "outputs": [
    {
     "data": {
      "text/html": [
       "<div>\n",
       "<style scoped>\n",
       "    .dataframe tbody tr th:only-of-type {\n",
       "        vertical-align: middle;\n",
       "    }\n",
       "\n",
       "    .dataframe tbody tr th {\n",
       "        vertical-align: top;\n",
       "    }\n",
       "\n",
       "    .dataframe thead th {\n",
       "        text-align: right;\n",
       "    }\n",
       "</style>\n",
       "<table border=\"1\" class=\"dataframe\">\n",
       "  <thead>\n",
       "    <tr style=\"text-align: right;\">\n",
       "      <th></th>\n",
       "      <th>fixed acidity</th>\n",
       "      <th>volatile acidity</th>\n",
       "      <th>citric acid</th>\n",
       "      <th>residual sugar</th>\n",
       "      <th>chlorides</th>\n",
       "      <th>free sulfur dioxide</th>\n",
       "      <th>total sulfur dioxide</th>\n",
       "      <th>density</th>\n",
       "      <th>pH</th>\n",
       "      <th>sulphates</th>\n",
       "      <th>alcohol</th>\n",
       "      <th>quality</th>\n",
       "    </tr>\n",
       "  </thead>\n",
       "  <tbody>\n",
       "    <tr>\n",
       "      <th>0</th>\n",
       "      <td>7.0</td>\n",
       "      <td>0.27</td>\n",
       "      <td>0.36</td>\n",
       "      <td>20.7</td>\n",
       "      <td>0.045</td>\n",
       "      <td>45.0</td>\n",
       "      <td>170.0</td>\n",
       "      <td>1.0010</td>\n",
       "      <td>3.00</td>\n",
       "      <td>0.45</td>\n",
       "      <td>8.8</td>\n",
       "      <td>6</td>\n",
       "    </tr>\n",
       "    <tr>\n",
       "      <th>1</th>\n",
       "      <td>6.3</td>\n",
       "      <td>0.30</td>\n",
       "      <td>0.34</td>\n",
       "      <td>1.6</td>\n",
       "      <td>0.049</td>\n",
       "      <td>14.0</td>\n",
       "      <td>132.0</td>\n",
       "      <td>0.9940</td>\n",
       "      <td>3.30</td>\n",
       "      <td>0.49</td>\n",
       "      <td>9.5</td>\n",
       "      <td>6</td>\n",
       "    </tr>\n",
       "    <tr>\n",
       "      <th>2</th>\n",
       "      <td>8.1</td>\n",
       "      <td>0.28</td>\n",
       "      <td>0.40</td>\n",
       "      <td>6.9</td>\n",
       "      <td>0.050</td>\n",
       "      <td>30.0</td>\n",
       "      <td>97.0</td>\n",
       "      <td>0.9951</td>\n",
       "      <td>3.26</td>\n",
       "      <td>0.44</td>\n",
       "      <td>10.1</td>\n",
       "      <td>6</td>\n",
       "    </tr>\n",
       "    <tr>\n",
       "      <th>3</th>\n",
       "      <td>7.2</td>\n",
       "      <td>0.23</td>\n",
       "      <td>0.32</td>\n",
       "      <td>8.5</td>\n",
       "      <td>0.058</td>\n",
       "      <td>47.0</td>\n",
       "      <td>186.0</td>\n",
       "      <td>0.9956</td>\n",
       "      <td>3.19</td>\n",
       "      <td>0.40</td>\n",
       "      <td>9.9</td>\n",
       "      <td>6</td>\n",
       "    </tr>\n",
       "    <tr>\n",
       "      <th>4</th>\n",
       "      <td>7.2</td>\n",
       "      <td>0.23</td>\n",
       "      <td>0.32</td>\n",
       "      <td>8.5</td>\n",
       "      <td>0.058</td>\n",
       "      <td>47.0</td>\n",
       "      <td>186.0</td>\n",
       "      <td>0.9956</td>\n",
       "      <td>3.19</td>\n",
       "      <td>0.40</td>\n",
       "      <td>9.9</td>\n",
       "      <td>6</td>\n",
       "    </tr>\n",
       "  </tbody>\n",
       "</table>\n",
       "</div>"
      ],
      "text/plain": [
       "   fixed acidity  volatile acidity  citric acid  residual sugar  chlorides  \\\n",
       "0            7.0              0.27         0.36            20.7      0.045   \n",
       "1            6.3              0.30         0.34             1.6      0.049   \n",
       "2            8.1              0.28         0.40             6.9      0.050   \n",
       "3            7.2              0.23         0.32             8.5      0.058   \n",
       "4            7.2              0.23         0.32             8.5      0.058   \n",
       "\n",
       "   free sulfur dioxide  total sulfur dioxide  density    pH  sulphates  \\\n",
       "0                 45.0                 170.0   1.0010  3.00       0.45   \n",
       "1                 14.0                 132.0   0.9940  3.30       0.49   \n",
       "2                 30.0                  97.0   0.9951  3.26       0.44   \n",
       "3                 47.0                 186.0   0.9956  3.19       0.40   \n",
       "4                 47.0                 186.0   0.9956  3.19       0.40   \n",
       "\n",
       "   alcohol  quality  \n",
       "0      8.8        6  \n",
       "1      9.5        6  \n",
       "2     10.1        6  \n",
       "3      9.9        6  \n",
       "4      9.9        6  "
      ]
     },
     "execution_count": 36,
     "metadata": {},
     "output_type": "execute_result"
    }
   ],
   "source": [
    "# Viser de første 5 rækker for hvidvin\n",
    "hvidvin.head()"
   ]
  },
  {
   "cell_type": "markdown",
   "id": "ea8e344c-c1c5-45ac-b303-40cd1bcf26ba",
   "metadata": {},
   "source": [
    "## Rensning af data\n",
    "Nu renses dataen for begge filer."
   ]
  },
  {
   "cell_type": "code",
   "execution_count": 38,
   "id": "87478a01-0a0e-405f-bd93-6fcad07a25a3",
   "metadata": {},
   "outputs": [
    {
     "name": "stdout",
     "output_type": "stream",
     "text": [
      "<class 'pandas.core.frame.DataFrame'>\n",
      "RangeIndex: 1599 entries, 0 to 1598\n",
      "Data columns (total 12 columns):\n",
      " #   Column                Non-Null Count  Dtype  \n",
      "---  ------                --------------  -----  \n",
      " 0   fixed acidity         1599 non-null   float64\n",
      " 1   volatile acidity      1599 non-null   float64\n",
      " 2   citric acid           1599 non-null   float64\n",
      " 3   residual sugar        1599 non-null   float64\n",
      " 4   chlorides             1599 non-null   float64\n",
      " 5   free sulfur dioxide   1599 non-null   float64\n",
      " 6   total sulfur dioxide  1599 non-null   float64\n",
      " 7   density               1599 non-null   float64\n",
      " 8   pH                    1599 non-null   float64\n",
      " 9   sulphates             1599 non-null   float64\n",
      " 10  alcohol               1599 non-null   float64\n",
      " 11  quality               1599 non-null   int64  \n",
      "dtypes: float64(11), int64(1)\n",
      "memory usage: 150.0 KB\n",
      "<class 'pandas.core.frame.DataFrame'>\n",
      "RangeIndex: 4898 entries, 0 to 4897\n",
      "Data columns (total 12 columns):\n",
      " #   Column                Non-Null Count  Dtype  \n",
      "---  ------                --------------  -----  \n",
      " 0   fixed acidity         4898 non-null   float64\n",
      " 1   volatile acidity      4898 non-null   float64\n",
      " 2   citric acid           4898 non-null   float64\n",
      " 3   residual sugar        4898 non-null   float64\n",
      " 4   chlorides             4898 non-null   float64\n",
      " 5   free sulfur dioxide   4898 non-null   float64\n",
      " 6   total sulfur dioxide  4898 non-null   float64\n",
      " 7   density               4898 non-null   float64\n",
      " 8   pH                    4898 non-null   float64\n",
      " 9   sulphates             4898 non-null   float64\n",
      " 10  alcohol               4898 non-null   float64\n",
      " 11  quality               4898 non-null   int64  \n",
      "dtypes: float64(11), int64(1)\n",
      "memory usage: 459.3 KB\n"
     ]
    }
   ],
   "source": [
    "rødvin.info()\n",
    "hvidvin.info()"
   ]
  },
  {
   "cell_type": "markdown",
   "id": "b85dff52-1176-41e4-9d70-86a7f79f34ab",
   "metadata": {},
   "source": [
    "Som vi kan se, er der ingen manglende data. Alligevel dobbelt-tjekkes der for at være helt sikker."
   ]
  },
  {
   "cell_type": "code",
   "execution_count": 40,
   "id": "9ed4ea59-659b-4705-a685-eb28bbca6835",
   "metadata": {},
   "outputs": [
    {
     "name": "stdout",
     "output_type": "stream",
     "text": [
      "\n",
      "rødvin\n",
      "fixed acidity           0\n",
      "volatile acidity        0\n",
      "citric acid             0\n",
      "residual sugar          0\n",
      "chlorides               0\n",
      "free sulfur dioxide     0\n",
      "total sulfur dioxide    0\n",
      "density                 0\n",
      "pH                      0\n",
      "sulphates               0\n",
      "alcohol                 0\n",
      "quality                 0\n",
      "dtype: int64\n",
      "\n",
      "hvidvin\n",
      "fixed acidity           0\n",
      "volatile acidity        0\n",
      "citric acid             0\n",
      "residual sugar          0\n",
      "chlorides               0\n",
      "free sulfur dioxide     0\n",
      "total sulfur dioxide    0\n",
      "density                 0\n",
      "pH                      0\n",
      "sulphates               0\n",
      "alcohol                 0\n",
      "quality                 0\n",
      "dtype: int64\n"
     ]
    }
   ],
   "source": [
    "print(\"\\nrødvin\")\n",
    "print(rødvin.isnull().sum())\n",
    "\n",
    "print(\"\\nhvidvin\")\n",
    "print(hvidvin.isnull().sum())"
   ]
  },
  {
   "cell_type": "markdown",
   "id": "94123995-27ee-4061-9f34-3967b1f4210a",
   "metadata": {},
   "source": [
    "Som det fremgår, ser det ud til, at alle datatyperne er korrekte, og der er ingen manglende værdier i datasættet. Derfor vurderer vi, at der ikke er behov for rensning af dataene."
   ]
  },
  {
   "cell_type": "markdown",
   "id": "bb52822c-abd9-4bf9-a210-88a305a1aa70",
   "metadata": {},
   "source": [
    "## Sammenlægning af datasæt\n",
    "Nu kombineres de to datasæt til et samlet datasæt."
   ]
  },
  {
   "cell_type": "code",
   "execution_count": 42,
   "id": "89694ab0-41ec-4c8a-9b14-961e412185e8",
   "metadata": {},
   "outputs": [],
   "source": [
    "# Tilføjer en kolonne til at angive, om data kommer fra rødvin eller hvidvin\n",
    "rødvin['vin_type'] = 'red'  \n",
    "hvidvin['vin_type'] = 'white'  \n",
    "\n",
    "# Kombinerer de to datasæt\n",
    "vin_data = pd.concat([rødvin.head(), hvidvin.head()])"
   ]
  },
  {
   "cell_type": "markdown",
   "id": "a0c817c5-4ba2-4517-80e4-34b3464f0caf",
   "metadata": {},
   "source": [
    "## Tjek af det samlede datasæt\n",
    "Nu ses det kombineret datasæt."
   ]
  },
  {
   "cell_type": "code",
   "execution_count": 15,
   "id": "cc419b60-e339-42c5-b4b1-22a9a9f4502a",
   "metadata": {},
   "outputs": [
    {
     "name": "stdout",
     "output_type": "stream",
     "text": [
      "samlet datasæt:\n",
      "   fixed acidity  volatile acidity  citric acid  residual sugar  chlorides  \\\n",
      "0            7.4              0.70         0.00             1.9      0.076   \n",
      "1            7.8              0.88         0.00             2.6      0.098   \n",
      "2            7.8              0.76         0.04             2.3      0.092   \n",
      "3           11.2              0.28         0.56             1.9      0.075   \n",
      "4            7.4              0.70         0.00             1.9      0.076   \n",
      "0            7.0              0.27         0.36            20.7      0.045   \n",
      "1            6.3              0.30         0.34             1.6      0.049   \n",
      "2            8.1              0.28         0.40             6.9      0.050   \n",
      "3            7.2              0.23         0.32             8.5      0.058   \n",
      "4            7.2              0.23         0.32             8.5      0.058   \n",
      "\n",
      "   free sulfur dioxide  total sulfur dioxide  density    pH  sulphates  \\\n",
      "0                 11.0                  34.0   0.9978  3.51       0.56   \n",
      "1                 25.0                  67.0   0.9968  3.20       0.68   \n",
      "2                 15.0                  54.0   0.9970  3.26       0.65   \n",
      "3                 17.0                  60.0   0.9980  3.16       0.58   \n",
      "4                 11.0                  34.0   0.9978  3.51       0.56   \n",
      "0                 45.0                 170.0   1.0010  3.00       0.45   \n",
      "1                 14.0                 132.0   0.9940  3.30       0.49   \n",
      "2                 30.0                  97.0   0.9951  3.26       0.44   \n",
      "3                 47.0                 186.0   0.9956  3.19       0.40   \n",
      "4                 47.0                 186.0   0.9956  3.19       0.40   \n",
      "\n",
      "   alcohol  quality vin_type  \n",
      "0      9.4        5      red  \n",
      "1      9.8        5      red  \n",
      "2      9.8        5      red  \n",
      "3      9.8        6      red  \n",
      "4      9.4        5      red  \n",
      "0      8.8        6    white  \n",
      "1      9.5        6    white  \n",
      "2     10.1        6    white  \n",
      "3      9.9        6    white  \n",
      "4      9.9        6    white  \n"
     ]
    }
   ],
   "source": [
    "print(\"samlet datasæt:\")\n",
    "print(vin_data)"
   ]
  },
  {
   "cell_type": "code",
   "execution_count": 44,
   "id": "a6bf8ea5-d906-4ab8-bcfa-d7ef60dd6e35",
   "metadata": {},
   "outputs": [
    {
     "name": "stdout",
     "output_type": "stream",
     "text": [
      "tilfældig prøve:\n"
     ]
    },
    {
     "data": {
      "text/html": [
       "<div>\n",
       "<style scoped>\n",
       "    .dataframe tbody tr th:only-of-type {\n",
       "        vertical-align: middle;\n",
       "    }\n",
       "\n",
       "    .dataframe tbody tr th {\n",
       "        vertical-align: top;\n",
       "    }\n",
       "\n",
       "    .dataframe thead th {\n",
       "        text-align: right;\n",
       "    }\n",
       "</style>\n",
       "<table border=\"1\" class=\"dataframe\">\n",
       "  <thead>\n",
       "    <tr style=\"text-align: right;\">\n",
       "      <th></th>\n",
       "      <th>fixed acidity</th>\n",
       "      <th>volatile acidity</th>\n",
       "      <th>citric acid</th>\n",
       "      <th>residual sugar</th>\n",
       "      <th>chlorides</th>\n",
       "      <th>free sulfur dioxide</th>\n",
       "      <th>total sulfur dioxide</th>\n",
       "      <th>density</th>\n",
       "      <th>pH</th>\n",
       "      <th>sulphates</th>\n",
       "      <th>alcohol</th>\n",
       "      <th>quality</th>\n",
       "      <th>vin_type</th>\n",
       "    </tr>\n",
       "  </thead>\n",
       "  <tbody>\n",
       "    <tr>\n",
       "      <th>3</th>\n",
       "      <td>7.2</td>\n",
       "      <td>0.23</td>\n",
       "      <td>0.32</td>\n",
       "      <td>8.5</td>\n",
       "      <td>0.058</td>\n",
       "      <td>47.0</td>\n",
       "      <td>186.0</td>\n",
       "      <td>0.9956</td>\n",
       "      <td>3.19</td>\n",
       "      <td>0.40</td>\n",
       "      <td>9.9</td>\n",
       "      <td>6</td>\n",
       "      <td>white</td>\n",
       "    </tr>\n",
       "    <tr>\n",
       "      <th>4</th>\n",
       "      <td>7.4</td>\n",
       "      <td>0.70</td>\n",
       "      <td>0.00</td>\n",
       "      <td>1.9</td>\n",
       "      <td>0.076</td>\n",
       "      <td>11.0</td>\n",
       "      <td>34.0</td>\n",
       "      <td>0.9978</td>\n",
       "      <td>3.51</td>\n",
       "      <td>0.56</td>\n",
       "      <td>9.4</td>\n",
       "      <td>5</td>\n",
       "      <td>red</td>\n",
       "    </tr>\n",
       "    <tr>\n",
       "      <th>1</th>\n",
       "      <td>6.3</td>\n",
       "      <td>0.30</td>\n",
       "      <td>0.34</td>\n",
       "      <td>1.6</td>\n",
       "      <td>0.049</td>\n",
       "      <td>14.0</td>\n",
       "      <td>132.0</td>\n",
       "      <td>0.9940</td>\n",
       "      <td>3.30</td>\n",
       "      <td>0.49</td>\n",
       "      <td>9.5</td>\n",
       "      <td>6</td>\n",
       "      <td>white</td>\n",
       "    </tr>\n",
       "    <tr>\n",
       "      <th>1</th>\n",
       "      <td>7.8</td>\n",
       "      <td>0.88</td>\n",
       "      <td>0.00</td>\n",
       "      <td>2.6</td>\n",
       "      <td>0.098</td>\n",
       "      <td>25.0</td>\n",
       "      <td>67.0</td>\n",
       "      <td>0.9968</td>\n",
       "      <td>3.20</td>\n",
       "      <td>0.68</td>\n",
       "      <td>9.8</td>\n",
       "      <td>5</td>\n",
       "      <td>red</td>\n",
       "    </tr>\n",
       "    <tr>\n",
       "      <th>0</th>\n",
       "      <td>7.4</td>\n",
       "      <td>0.70</td>\n",
       "      <td>0.00</td>\n",
       "      <td>1.9</td>\n",
       "      <td>0.076</td>\n",
       "      <td>11.0</td>\n",
       "      <td>34.0</td>\n",
       "      <td>0.9978</td>\n",
       "      <td>3.51</td>\n",
       "      <td>0.56</td>\n",
       "      <td>9.4</td>\n",
       "      <td>5</td>\n",
       "      <td>red</td>\n",
       "    </tr>\n",
       "    <tr>\n",
       "      <th>4</th>\n",
       "      <td>7.2</td>\n",
       "      <td>0.23</td>\n",
       "      <td>0.32</td>\n",
       "      <td>8.5</td>\n",
       "      <td>0.058</td>\n",
       "      <td>47.0</td>\n",
       "      <td>186.0</td>\n",
       "      <td>0.9956</td>\n",
       "      <td>3.19</td>\n",
       "      <td>0.40</td>\n",
       "      <td>9.9</td>\n",
       "      <td>6</td>\n",
       "      <td>white</td>\n",
       "    </tr>\n",
       "    <tr>\n",
       "      <th>2</th>\n",
       "      <td>7.8</td>\n",
       "      <td>0.76</td>\n",
       "      <td>0.04</td>\n",
       "      <td>2.3</td>\n",
       "      <td>0.092</td>\n",
       "      <td>15.0</td>\n",
       "      <td>54.0</td>\n",
       "      <td>0.9970</td>\n",
       "      <td>3.26</td>\n",
       "      <td>0.65</td>\n",
       "      <td>9.8</td>\n",
       "      <td>5</td>\n",
       "      <td>red</td>\n",
       "    </tr>\n",
       "    <tr>\n",
       "      <th>0</th>\n",
       "      <td>7.0</td>\n",
       "      <td>0.27</td>\n",
       "      <td>0.36</td>\n",
       "      <td>20.7</td>\n",
       "      <td>0.045</td>\n",
       "      <td>45.0</td>\n",
       "      <td>170.0</td>\n",
       "      <td>1.0010</td>\n",
       "      <td>3.00</td>\n",
       "      <td>0.45</td>\n",
       "      <td>8.8</td>\n",
       "      <td>6</td>\n",
       "      <td>white</td>\n",
       "    </tr>\n",
       "    <tr>\n",
       "      <th>2</th>\n",
       "      <td>8.1</td>\n",
       "      <td>0.28</td>\n",
       "      <td>0.40</td>\n",
       "      <td>6.9</td>\n",
       "      <td>0.050</td>\n",
       "      <td>30.0</td>\n",
       "      <td>97.0</td>\n",
       "      <td>0.9951</td>\n",
       "      <td>3.26</td>\n",
       "      <td>0.44</td>\n",
       "      <td>10.1</td>\n",
       "      <td>6</td>\n",
       "      <td>white</td>\n",
       "    </tr>\n",
       "    <tr>\n",
       "      <th>3</th>\n",
       "      <td>11.2</td>\n",
       "      <td>0.28</td>\n",
       "      <td>0.56</td>\n",
       "      <td>1.9</td>\n",
       "      <td>0.075</td>\n",
       "      <td>17.0</td>\n",
       "      <td>60.0</td>\n",
       "      <td>0.9980</td>\n",
       "      <td>3.16</td>\n",
       "      <td>0.58</td>\n",
       "      <td>9.8</td>\n",
       "      <td>6</td>\n",
       "      <td>red</td>\n",
       "    </tr>\n",
       "  </tbody>\n",
       "</table>\n",
       "</div>"
      ],
      "text/plain": [
       "   fixed acidity  volatile acidity  citric acid  residual sugar  chlorides  \\\n",
       "3            7.2              0.23         0.32             8.5      0.058   \n",
       "4            7.4              0.70         0.00             1.9      0.076   \n",
       "1            6.3              0.30         0.34             1.6      0.049   \n",
       "1            7.8              0.88         0.00             2.6      0.098   \n",
       "0            7.4              0.70         0.00             1.9      0.076   \n",
       "4            7.2              0.23         0.32             8.5      0.058   \n",
       "2            7.8              0.76         0.04             2.3      0.092   \n",
       "0            7.0              0.27         0.36            20.7      0.045   \n",
       "2            8.1              0.28         0.40             6.9      0.050   \n",
       "3           11.2              0.28         0.56             1.9      0.075   \n",
       "\n",
       "   free sulfur dioxide  total sulfur dioxide  density    pH  sulphates  \\\n",
       "3                 47.0                 186.0   0.9956  3.19       0.40   \n",
       "4                 11.0                  34.0   0.9978  3.51       0.56   \n",
       "1                 14.0                 132.0   0.9940  3.30       0.49   \n",
       "1                 25.0                  67.0   0.9968  3.20       0.68   \n",
       "0                 11.0                  34.0   0.9978  3.51       0.56   \n",
       "4                 47.0                 186.0   0.9956  3.19       0.40   \n",
       "2                 15.0                  54.0   0.9970  3.26       0.65   \n",
       "0                 45.0                 170.0   1.0010  3.00       0.45   \n",
       "2                 30.0                  97.0   0.9951  3.26       0.44   \n",
       "3                 17.0                  60.0   0.9980  3.16       0.58   \n",
       "\n",
       "   alcohol  quality vin_type  \n",
       "3      9.9        6    white  \n",
       "4      9.4        5      red  \n",
       "1      9.5        6    white  \n",
       "1      9.8        5      red  \n",
       "0      9.4        5      red  \n",
       "4      9.9        6    white  \n",
       "2      9.8        5      red  \n",
       "0      8.8        6    white  \n",
       "2     10.1        6    white  \n",
       "3      9.8        6      red  "
      ]
     },
     "execution_count": 44,
     "metadata": {},
     "output_type": "execute_result"
    }
   ],
   "source": [
    "# Bare for at være sikker på, at det virker ordentligt, tages en tilfældig prøve.\n",
    "print(\"tilfældig prøve:\")\n",
    "vin_data.sample(10)"
   ]
  },
  {
   "cell_type": "markdown",
   "id": "7c31c468-e2fc-483b-b373-10378e72fa30",
   "metadata": {},
   "source": [
    "# Task 8. Discuss which other questions might be of interest for the wine consumers and which of wine distributers"
   ]
  },
  {
   "cell_type": "markdown",
   "id": "fb66c3a3-f74a-4d11-8358-7ba3767845bc",
   "metadata": {},
   "source": [
    "# Costumer"
   ]
  },
  {
   "cell_type": "markdown",
   "id": "1d49c7f9-f423-411c-8c02-460acc3efbe7",
   "metadata": {},
   "source": [
    "###  - How can I choose a wine based on my taste preferences?"
   ]
  },
  {
   "cell_type": "markdown",
   "id": "6c39223b-ccf3-4915-8fcd-94406e3a8f80",
   "metadata": {},
   "source": [
    "###  - Which wines offer the best value for money?"
   ]
  },
  {
   "cell_type": "markdown",
   "id": "8114ebf5-8675-4466-a63c-5ed5ddf6418b",
   "metadata": {},
   "source": [
    "###  - Which wine for specific food?"
   ]
  },
  {
   "cell_type": "markdown",
   "id": "c158c0a2-abf3-4609-9e30-ba2cd5c465e7",
   "metadata": {},
   "source": [
    "# Wine Distributor"
   ]
  },
  {
   "cell_type": "markdown",
   "id": "f759dc89-27d5-4016-b3a1-f643e4ba196f",
   "metadata": {},
   "source": [
    "### - What is the most popular wine?"
   ]
  },
  {
   "cell_type": "markdown",
   "id": "c42c7acf-1db8-4e02-9962-3c8336a3cdd6",
   "metadata": {},
   "source": [
    "### - How can I omptimize inventory, via Quality and Demand"
   ]
  },
  {
   "cell_type": "markdown",
   "id": "9f72e7c4-52e5-4ed0-89d2-2ecf5c68f70c",
   "metadata": {},
   "source": [
    "### - What is defining the value of predicting a wines popularity?"
   ]
  },
  {
   "cell_type": "markdown",
   "id": "5e896843-fd7c-4986-a032-ec1592cbe9bf",
   "metadata": {},
   "source": [
    "# Task 9"
   ]
  },
  {
   "cell_type": "markdown",
   "id": "0b2e5113-1755-4c8d-b33b-89bbfc138161",
   "metadata": {},
   "source": [
    "## Spliting the aggregated data into five subsets by binning the attribute pH"
   ]
  },
  {
   "cell_type": "code",
   "execution_count": 100,
   "id": "19ab38c8-ec75-4690-a948-1a99cbc39e86",
   "metadata": {},
   "outputs": [],
   "source": [
    "rødvin['pH_bin_5'] = pd.cut(rødvin['pH'], bins=5)\n"
   ]
  },
  {
   "cell_type": "code",
   "execution_count": 110,
   "id": "30366730-0db0-4a18-bced-e8e1e68cfda5",
   "metadata": {},
   "outputs": [
    {
     "name": "stdout",
     "output_type": "stream",
     "text": [
      "0       (3.502, 3.756]\n",
      "1       (2.994, 3.248]\n",
      "2       (3.248, 3.502]\n",
      "3       (2.994, 3.248]\n",
      "4       (3.502, 3.756]\n",
      "             ...      \n",
      "1594    (3.248, 3.502]\n",
      "1595    (3.502, 3.756]\n",
      "1596    (3.248, 3.502]\n",
      "1597    (3.502, 3.756]\n",
      "1598    (3.248, 3.502]\n",
      "Name: pH_bin_5, Length: 1599, dtype: category\n",
      "Categories (5, interval[float64, right]): [(2.739, 2.994] < (2.994, 3.248] < (3.248, 3.502] < (3.502, 3.756] < (3.756, 4.01]]\n"
     ]
    }
   ],
   "source": [
    "print(rødvin['pH_bin_5'])"
   ]
  },
  {
   "cell_type": "code",
   "execution_count": 216,
   "id": "a69ef082-6552-4813-8da0-98844b164725",
   "metadata": {},
   "outputs": [],
   "source": [
    "rødvin['pH_bin_10'] = pd.cut(rødvin['pH'], bins=10)"
   ]
  },
  {
   "cell_type": "code",
   "execution_count": 218,
   "id": "9e22a42f-a8a2-4a0d-a751-7b98be7b3946",
   "metadata": {},
   "outputs": [
    {
     "name": "stdout",
     "output_type": "stream",
     "text": [
      "0       (3.502, 3.629]\n",
      "1       (3.121, 3.248]\n",
      "2       (3.248, 3.375]\n",
      "3       (3.121, 3.248]\n",
      "4       (3.502, 3.629]\n",
      "             ...      \n",
      "1594    (3.375, 3.502]\n",
      "1595    (3.502, 3.629]\n",
      "1596    (3.375, 3.502]\n",
      "1597    (3.502, 3.629]\n",
      "1598    (3.375, 3.502]\n",
      "Name: pH_bin_10, Length: 1599, dtype: category\n",
      "Categories (10, interval[float64, right]): [(2.739, 2.867] < (2.867, 2.994] < (2.994, 3.121] < (3.121, 3.248] ... (3.502, 3.629] < (3.629, 3.756] < (3.756, 3.883] < (3.883, 4.01]]\n"
     ]
    }
   ],
   "source": [
    "print(rødvin['pH_bin_10'])"
   ]
  },
  {
   "cell_type": "markdown",
   "id": "584ce221-f7f6-4da0-8a00-6b1b97ed7872",
   "metadata": {},
   "source": [
    "# Calculating the highest subset density"
   ]
  },
  {
   "cell_type": "markdown",
   "id": "762c8219-1646-4338-ad41-fd8d593dfdd6",
   "metadata": {},
   "source": [
    "### Grouping by the pH bins (10 subsets) and calculating the mean density"
   ]
  },
  {
   "cell_type": "code",
   "execution_count": 195,
   "id": "1e0cba47-9e5d-44a1-ad68-b3e871cde9aa",
   "metadata": {},
   "outputs": [],
   "source": [
    "density_10 = rødvin.groupby('pH_bin_10', observed=False)['density'].mean()"
   ]
  },
  {
   "cell_type": "markdown",
   "id": "e67907ea-f056-41e0-b185-6496510cdce6",
   "metadata": {},
   "source": [
    "### Finding the subset with the highest density and defining it"
   ]
  },
  {
   "cell_type": "code",
   "execution_count": 197,
   "id": "cec79290-86c2-4c5f-9d87-870b229abe7e",
   "metadata": {},
   "outputs": [],
   "source": [
    "highest_density_subset = density_10.idxmax()"
   ]
  },
  {
   "cell_type": "markdown",
   "id": "c8194937-bda6-4648-8c4d-857b5be54029",
   "metadata": {},
   "source": [
    "# Printing the result"
   ]
  },
  {
   "cell_type": "code",
   "execution_count": 203,
   "id": "6a70c794-db66-4156-b66b-04ff05966dc6",
   "metadata": {
    "scrolled": true
   },
   "outputs": [
    {
     "name": "stdout",
     "output_type": "stream",
     "text": [
      "The subset with the highest density is: (2.739, 2.867]\n"
     ]
    }
   ],
   "source": [
    "print(f\"The subset with the highest density is: {highest_density_subset}\")"
   ]
  },
  {
   "cell_type": "markdown",
   "id": "ec45949c-a277-439c-84a9-6b1047599750",
   "metadata": {},
   "source": [
    "## Splitting the data in ten subsets"
   ]
  },
  {
   "cell_type": "markdown",
   "id": "92765e9d-e9c1-438c-b29c-a10f1168964f",
   "metadata": {},
   "source": [
    "## Display the density values for each bin"
   ]
  },
  {
   "cell_type": "code",
   "execution_count": 208,
   "id": "8de6b9b5-9c06-4ba2-88d5-a8cf6c8dc6d7",
   "metadata": {},
   "outputs": [
    {
     "name": "stdout",
     "output_type": "stream",
     "text": [
      "pH_bin_10\n",
      "(2.739, 2.867]    1.000200\n",
      "(2.867, 2.994]    0.997939\n",
      "(2.994, 3.121]    0.997864\n",
      "(3.121, 3.248]    0.997331\n",
      "(3.248, 3.375]    0.996618\n",
      "(3.375, 3.502]    0.996339\n",
      "(3.502, 3.629]    0.995946\n",
      "(3.629, 3.756]    0.994848\n",
      "(3.756, 3.883]    0.994117\n",
      "(3.883, 4.01]     0.992665\n",
      "Name: density, dtype: float64\n"
     ]
    }
   ],
   "source": [
    "print(density_10)"
   ]
  },
  {
   "cell_type": "markdown",
   "id": "c420fa28-a603-4cbc-b5b5-b935dedca833",
   "metadata": {},
   "source": [
    "# Task 10"
   ]
  },
  {
   "cell_type": "markdown",
   "id": "e6ceb7ac-7984-4f0f-8f66-c55be1eea5ce",
   "metadata": {},
   "source": [
    " ### Creating a correlation matrix and a heat map of all data and investigate it. "
   ]
  },
  {
   "cell_type": "code",
   "execution_count": 183,
   "id": "77baec76-25c4-4261-bc7b-18c3ca5a794b",
   "metadata": {},
   "outputs": [],
   "source": [
    "rødvin_encoded = pd.get_dummies(rødvin, drop_first=True)\n",
    "correlation_matrix = rødvin_encoded.corr()"
   ]
  },
  {
   "cell_type": "markdown",
   "id": "619c0ef2-a504-4e12-b7ce-191ae5f795da",
   "metadata": {},
   "source": [
    "### Print the correlation matrix to explore relationships"
   ]
  },
  {
   "cell_type": "code",
   "execution_count": 214,
   "id": "783dcc9a-8c9b-4284-b316-1c776ef3ea29",
   "metadata": {},
   "outputs": [
    {
     "name": "stdout",
     "output_type": "stream",
     "text": [
      "                          fixed acidity  volatile acidity  citric acid  \\\n",
      "fixed acidity                  1.000000         -0.256131     0.671703   \n",
      "volatile acidity              -0.256131          1.000000    -0.552496   \n",
      "citric acid                    0.671703         -0.552496     1.000000   \n",
      "residual sugar                 0.114777          0.001918     0.143577   \n",
      "chlorides                      0.093705          0.061298     0.203823   \n",
      "free sulfur dioxide           -0.153794         -0.010504    -0.060978   \n",
      "total sulfur dioxide          -0.113181          0.076470     0.035533   \n",
      "density                        0.668047          0.022026     0.364947   \n",
      "pH                            -0.682978          0.234937    -0.541904   \n",
      "sulphates                      0.183006         -0.260987     0.312770   \n",
      "alcohol                       -0.061668         -0.202288     0.109903   \n",
      "quality                        0.124052         -0.390558     0.226373   \n",
      "pH_bin_5_(2.994, 3.248]        0.519612         -0.152661     0.411274   \n",
      "pH_bin_5_(3.248, 3.502]       -0.321561          0.014645    -0.237520   \n",
      "pH_bin_5_(3.502, 3.756]       -0.344317          0.224787    -0.290251   \n",
      "pH_bin_5_(3.756, 4.01]        -0.124291          0.023298    -0.062596   \n",
      "pH_bin_10_(2.867, 2.994]       0.220782         -0.039350     0.117737   \n",
      "pH_bin_10_(2.994, 3.121]       0.362648         -0.074491     0.304222   \n",
      "pH_bin_10_(3.121, 3.248]       0.334233         -0.119441     0.253156   \n",
      "pH_bin_10_(3.248, 3.375]      -0.074948         -0.019451    -0.036371   \n",
      "pH_bin_10_(3.375, 3.502]      -0.298407          0.039860    -0.242235   \n",
      "pH_bin_10_(3.502, 3.629]      -0.283697          0.212740    -0.253091   \n",
      "pH_bin_10_(3.629, 3.756]      -0.191358          0.068155    -0.132560   \n",
      "pH_bin_10_(3.756, 3.883]      -0.080198          0.006583    -0.027675   \n",
      "pH_bin_10_(3.883, 4.01]       -0.094792          0.025089    -0.058754   \n",
      "\n",
      "                          residual sugar  chlorides  free sulfur dioxide  \\\n",
      "fixed acidity                   0.114777   0.093705            -0.153794   \n",
      "volatile acidity                0.001918   0.061298            -0.010504   \n",
      "citric acid                     0.143577   0.203823            -0.060978   \n",
      "residual sugar                  1.000000   0.055610             0.187049   \n",
      "chlorides                       0.055610   1.000000             0.005562   \n",
      "free sulfur dioxide             0.187049   0.005562             1.000000   \n",
      "total sulfur dioxide            0.203028   0.047400             0.667666   \n",
      "density                         0.355283   0.200632            -0.021946   \n",
      "pH                             -0.085652  -0.265026             0.070377   \n",
      "sulphates                       0.005527   0.371260             0.051658   \n",
      "alcohol                         0.042075  -0.221141            -0.069408   \n",
      "quality                         0.013732  -0.128907            -0.050656   \n",
      "pH_bin_5_(2.994, 3.248]         0.082529   0.189066            -0.062623   \n",
      "pH_bin_5_(3.248, 3.502]        -0.033714  -0.139480             0.061495   \n",
      "pH_bin_5_(3.502, 3.756]        -0.059714  -0.091793            -0.000966   \n",
      "pH_bin_5_(3.756, 4.01]         -0.037110  -0.042736             0.001699   \n",
      "pH_bin_10_(2.867, 2.994]       -0.008429   0.041617            -0.013286   \n",
      "pH_bin_10_(2.994, 3.121]        0.017694   0.218955            -0.042356   \n",
      "pH_bin_10_(3.121, 3.248]        0.079533   0.063953            -0.041176   \n",
      "pH_bin_10_(3.248, 3.375]       -0.015367  -0.060364            -0.030162   \n",
      "pH_bin_10_(3.375, 3.502]       -0.022659  -0.097433             0.108188   \n",
      "pH_bin_10_(3.502, 3.629]       -0.045502  -0.074456             0.010542   \n",
      "pH_bin_10_(3.629, 3.756]       -0.040815  -0.053442            -0.023920   \n",
      "pH_bin_10_(3.756, 3.883]       -0.011960  -0.009952             0.010193   \n",
      "pH_bin_10_(3.883, 4.01]        -0.038685  -0.047860            -0.006585   \n",
      "\n",
      "                          total sulfur dioxide   density        pH  sulphates  \\\n",
      "fixed acidity                        -0.113181  0.668047 -0.682978   0.183006   \n",
      "volatile acidity                      0.076470  0.022026  0.234937  -0.260987   \n",
      "citric acid                           0.035533  0.364947 -0.541904   0.312770   \n",
      "residual sugar                        0.203028  0.355283 -0.085652   0.005527   \n",
      "chlorides                             0.047400  0.200632 -0.265026   0.371260   \n",
      "free sulfur dioxide                   0.667666 -0.021946  0.070377   0.051658   \n",
      "total sulfur dioxide                  1.000000  0.071269 -0.066495   0.042947   \n",
      "density                               0.071269  1.000000 -0.341699   0.148506   \n",
      "pH                                   -0.066495 -0.341699  1.000000  -0.196648   \n",
      "sulphates                             0.042947  0.148506 -0.196648   1.000000   \n",
      "alcohol                              -0.205654 -0.496180  0.205633   0.093595   \n",
      "quality                              -0.185100 -0.174919 -0.057731   0.251397   \n",
      "pH_bin_5_(2.994, 3.248]               0.037163  0.258513 -0.664289   0.092093   \n",
      "pH_bin_5_(3.248, 3.502]              -0.030679 -0.143675  0.328857  -0.133268   \n",
      "pH_bin_5_(3.502, 3.756]              -0.028775 -0.176999  0.576349  -0.019770   \n",
      "pH_bin_5_(3.756, 4.01]                0.018645 -0.121586  0.248713  -0.022195   \n",
      "pH_bin_10_(2.867, 2.994]              0.043597  0.082812 -0.322363   0.197360   \n",
      "pH_bin_10_(2.994, 3.121]              0.010866  0.179082 -0.467506   0.150880   \n",
      "pH_bin_10_(3.121, 3.248]              0.033894  0.167173 -0.424721   0.001838   \n",
      "pH_bin_10_(3.248, 3.375]              0.019870 -0.049622  0.000699  -0.083517   \n",
      "pH_bin_10_(3.375, 3.502]             -0.059515 -0.114791  0.392438  -0.063405   \n",
      "pH_bin_10_(3.502, 3.629]             -0.032116 -0.127227  0.470181  -0.031322   \n",
      "pH_bin_10_(3.629, 3.756]              0.001344 -0.136749  0.330002   0.020015   \n",
      "pH_bin_10_(3.756, 3.883]              0.021796 -0.060435  0.138271  -0.010613   \n",
      "pH_bin_10_(3.883, 4.01]               0.005760 -0.108337  0.208923  -0.020140   \n",
      "\n",
      "                          ...  pH_bin_5_(3.756, 4.01]  \\\n",
      "fixed acidity             ...               -0.124291   \n",
      "volatile acidity          ...                0.023298   \n",
      "citric acid               ...               -0.062596   \n",
      "residual sugar            ...               -0.037110   \n",
      "chlorides                 ...               -0.042736   \n",
      "free sulfur dioxide       ...                0.001699   \n",
      "total sulfur dioxide      ...                0.018645   \n",
      "density                   ...               -0.121586   \n",
      "pH                        ...                0.248713   \n",
      "sulphates                 ...               -0.022195   \n",
      "alcohol                   ...                0.139061   \n",
      "quality                   ...                0.018162   \n",
      "pH_bin_5_(2.994, 3.248]   ...               -0.044401   \n",
      "pH_bin_5_(3.248, 3.502]   ...               -0.075915   \n",
      "pH_bin_5_(3.502, 3.756]   ...               -0.022188   \n",
      "pH_bin_5_(3.756, 4.01]    ...                1.000000   \n",
      "pH_bin_10_(2.867, 2.994]  ...               -0.008690   \n",
      "pH_bin_10_(2.994, 3.121]  ...               -0.020054   \n",
      "pH_bin_10_(3.121, 3.248]  ...               -0.035807   \n",
      "pH_bin_10_(3.248, 3.375]  ...               -0.048347   \n",
      "pH_bin_10_(3.375, 3.502]  ...               -0.035230   \n",
      "pH_bin_10_(3.502, 3.629]  ...               -0.019891   \n",
      "pH_bin_10_(3.629, 3.756]  ...               -0.009012   \n",
      "pH_bin_10_(3.756, 3.883]  ...                0.653833   \n",
      "pH_bin_10_(3.883, 4.01]   ...                0.755218   \n",
      "\n",
      "                          pH_bin_10_(2.867, 2.994]  pH_bin_10_(2.994, 3.121]  \\\n",
      "fixed acidity                             0.220782                  0.362648   \n",
      "volatile acidity                         -0.039350                 -0.074491   \n",
      "citric acid                               0.117737                  0.304222   \n",
      "residual sugar                           -0.008429                  0.017694   \n",
      "chlorides                                 0.041617                  0.218955   \n",
      "free sulfur dioxide                      -0.013286                 -0.042356   \n",
      "total sulfur dioxide                      0.043597                  0.010866   \n",
      "density                                   0.082812                  0.179082   \n",
      "pH                                       -0.322363                 -0.467506   \n",
      "sulphates                                 0.197360                  0.150880   \n",
      "alcohol                                   0.001273                 -0.094940   \n",
      "quality                                   0.023012                  0.024526   \n",
      "pH_bin_5_(2.994, 3.248]                  -0.087755                  0.451664   \n",
      "pH_bin_5_(3.248, 3.502]                  -0.150040                 -0.346246   \n",
      "pH_bin_5_(3.502, 3.756]                  -0.043852                 -0.101197   \n",
      "pH_bin_5_(3.756, 4.01]                   -0.008690                 -0.020054   \n",
      "pH_bin_10_(2.867, 2.994]                  1.000000                 -0.039636   \n",
      "pH_bin_10_(2.994, 3.121]                 -0.039636                  1.000000   \n",
      "pH_bin_10_(3.121, 3.248]                 -0.070770                 -0.163315   \n",
      "pH_bin_10_(3.248, 3.375]                 -0.095555                 -0.220511   \n",
      "pH_bin_10_(3.375, 3.502]                 -0.069630                 -0.160684   \n",
      "pH_bin_10_(3.502, 3.629]                 -0.039312                 -0.090721   \n",
      "pH_bin_10_(3.629, 3.756]                 -0.017812                 -0.041104   \n",
      "pH_bin_10_(3.756, 3.883]                 -0.005682                 -0.013112   \n",
      "pH_bin_10_(3.883, 4.01]                  -0.006563                 -0.015145   \n",
      "\n",
      "                          pH_bin_10_(3.121, 3.248]  pH_bin_10_(3.248, 3.375]  \\\n",
      "fixed acidity                             0.334233                 -0.074948   \n",
      "volatile acidity                         -0.119441                 -0.019451   \n",
      "citric acid                               0.253156                 -0.036371   \n",
      "residual sugar                            0.079533                 -0.015367   \n",
      "chlorides                                 0.063953                 -0.060364   \n",
      "free sulfur dioxide                      -0.041176                 -0.030162   \n",
      "total sulfur dioxide                      0.033894                  0.019870   \n",
      "density                                   0.167173                 -0.049622   \n",
      "pH                                       -0.424721                  0.000699   \n",
      "sulphates                                 0.001838                 -0.083517   \n",
      "alcohol                                  -0.040060                 -0.047586   \n",
      "quality                                   0.056319                 -0.011379   \n",
      "pH_bin_5_(2.994, 3.248]                   0.806446                 -0.488219   \n",
      "pH_bin_5_(3.248, 3.502]                  -0.618221                  0.636862   \n",
      "pH_bin_5_(3.502, 3.756]                  -0.180687                 -0.243966   \n",
      "pH_bin_5_(3.756, 4.01]                   -0.035807                 -0.048347   \n",
      "pH_bin_10_(2.867, 2.994]                 -0.070770                 -0.095555   \n",
      "pH_bin_10_(2.994, 3.121]                 -0.163315                 -0.220511   \n",
      "pH_bin_10_(3.121, 3.248]                  1.000000                 -0.393722   \n",
      "pH_bin_10_(3.248, 3.375]                 -0.393722                  1.000000   \n",
      "pH_bin_10_(3.375, 3.502]                 -0.286901                 -0.387377   \n",
      "pH_bin_10_(3.502, 3.629]                 -0.161981                 -0.218710   \n",
      "pH_bin_10_(3.629, 3.756]                 -0.073391                 -0.099094   \n",
      "pH_bin_10_(3.756, 3.883]                 -0.023412                 -0.031611   \n",
      "pH_bin_10_(3.883, 4.01]                  -0.027042                 -0.036513   \n",
      "\n",
      "                          pH_bin_10_(3.375, 3.502]  pH_bin_10_(3.502, 3.629]  \\\n",
      "fixed acidity                            -0.298407                 -0.283697   \n",
      "volatile acidity                          0.039860                  0.212740   \n",
      "citric acid                              -0.242235                 -0.253091   \n",
      "residual sugar                           -0.022659                 -0.045502   \n",
      "chlorides                                -0.097433                 -0.074456   \n",
      "free sulfur dioxide                       0.108188                  0.010542   \n",
      "total sulfur dioxide                     -0.059515                 -0.032116   \n",
      "density                                  -0.114791                 -0.127227   \n",
      "pH                                        0.392438                  0.470181   \n",
      "sulphates                                -0.063405                 -0.031322   \n",
      "alcohol                                   0.022541                  0.105837   \n",
      "quality                                  -0.039037                 -0.033651   \n",
      "pH_bin_5_(2.994, 3.248]                  -0.355759                 -0.200858   \n",
      "pH_bin_5_(3.248, 3.502]                   0.464074                 -0.343418   \n",
      "pH_bin_5_(3.502, 3.756]                  -0.177775                  0.896475   \n",
      "pH_bin_5_(3.756, 4.01]                   -0.035230                 -0.019891   \n",
      "pH_bin_10_(2.867, 2.994]                 -0.069630                 -0.039312   \n",
      "pH_bin_10_(2.994, 3.121]                 -0.160684                 -0.090721   \n",
      "pH_bin_10_(3.121, 3.248]                 -0.286901                 -0.161981   \n",
      "pH_bin_10_(3.248, 3.375]                 -0.387377                 -0.218710   \n",
      "pH_bin_10_(3.375, 3.502]                  1.000000                 -0.159371   \n",
      "pH_bin_10_(3.502, 3.629]                 -0.159371                  1.000000   \n",
      "pH_bin_10_(3.629, 3.756]                 -0.072208                 -0.040768   \n",
      "pH_bin_10_(3.756, 3.883]                 -0.023035                 -0.013005   \n",
      "pH_bin_10_(3.883, 4.01]                  -0.026607                 -0.015022   \n",
      "\n",
      "                          pH_bin_10_(3.629, 3.756]  pH_bin_10_(3.756, 3.883]  \\\n",
      "fixed acidity                            -0.191358                 -0.080198   \n",
      "volatile acidity                          0.068155                  0.006583   \n",
      "citric acid                              -0.132560                 -0.027675   \n",
      "residual sugar                           -0.040815                 -0.011960   \n",
      "chlorides                                -0.053442                 -0.009952   \n",
      "free sulfur dioxide                      -0.023920                  0.010193   \n",
      "total sulfur dioxide                      0.001344                  0.021796   \n",
      "density                                  -0.136749                 -0.060435   \n",
      "pH                                        0.330002                  0.138271   \n",
      "sulphates                                 0.020015                 -0.010613   \n",
      "alcohol                                   0.147518                  0.087241   \n",
      "quality                                  -0.019996                  0.037448   \n",
      "pH_bin_5_(2.994, 3.248]                  -0.091005                 -0.029031   \n",
      "pH_bin_5_(3.248, 3.502]                  -0.155596                 -0.049636   \n",
      "pH_bin_5_(3.502, 3.756]                   0.406177                 -0.014507   \n",
      "pH_bin_5_(3.756, 4.01]                   -0.009012                  0.653833   \n",
      "pH_bin_10_(2.867, 2.994]                 -0.017812                 -0.005682   \n",
      "pH_bin_10_(2.994, 3.121]                 -0.041104                 -0.013112   \n",
      "pH_bin_10_(3.121, 3.248]                 -0.073391                 -0.023412   \n",
      "pH_bin_10_(3.248, 3.375]                 -0.099094                 -0.031611   \n",
      "pH_bin_10_(3.375, 3.502]                 -0.072208                 -0.023035   \n",
      "pH_bin_10_(3.502, 3.629]                 -0.040768                 -0.013005   \n",
      "pH_bin_10_(3.629, 3.756]                  1.000000                 -0.005892   \n",
      "pH_bin_10_(3.756, 3.883]                 -0.005892                  1.000000   \n",
      "pH_bin_10_(3.883, 4.01]                  -0.006806                 -0.002171   \n",
      "\n",
      "                          pH_bin_10_(3.883, 4.01]  \n",
      "fixed acidity                           -0.094792  \n",
      "volatile acidity                         0.025089  \n",
      "citric acid                             -0.058754  \n",
      "residual sugar                          -0.038685  \n",
      "chlorides                               -0.047860  \n",
      "free sulfur dioxide                     -0.006585  \n",
      "total sulfur dioxide                     0.005760  \n",
      "density                                 -0.108337  \n",
      "pH                                       0.208923  \n",
      "sulphates                               -0.020140  \n",
      "alcohol                                  0.108211  \n",
      "quality                                 -0.008438  \n",
      "pH_bin_5_(2.994, 3.248]                 -0.033533  \n",
      "pH_bin_5_(3.248, 3.502]                 -0.057332  \n",
      "pH_bin_5_(3.502, 3.756]                 -0.016756  \n",
      "pH_bin_5_(3.756, 4.01]                   0.755218  \n",
      "pH_bin_10_(2.867, 2.994]                -0.006563  \n",
      "pH_bin_10_(2.994, 3.121]                -0.015145  \n",
      "pH_bin_10_(3.121, 3.248]                -0.027042  \n",
      "pH_bin_10_(3.248, 3.375]                -0.036513  \n",
      "pH_bin_10_(3.375, 3.502]                -0.026607  \n",
      "pH_bin_10_(3.502, 3.629]                -0.015022  \n",
      "pH_bin_10_(3.629, 3.756]                -0.006806  \n",
      "pH_bin_10_(3.756, 3.883]                -0.002171  \n",
      "pH_bin_10_(3.883, 4.01]                  1.000000  \n",
      "\n",
      "[25 rows x 25 columns]\n"
     ]
    }
   ],
   "source": [
    "print(correlation_matrix)"
   ]
  },
  {
   "cell_type": "markdown",
   "id": "9af5ba22-0fb0-4878-ac36-eda7849cc014",
   "metadata": {},
   "source": [
    "# Tell which wine attribute has the biggest influence on the wine quality. Which has the lowest? Are there any attributes, apart from the wine quality, which are highly correlated?"
   ]
  },
  {
   "cell_type": "markdown",
   "id": "f1380882-a473-41b8-a2ea-6ab7c827f2b0",
   "metadata": {},
   "source": [
    "# Tell which wine attribute has the biggest influence on the wine quality."
   ]
  },
  {
   "cell_type": "code",
   "execution_count": 225,
   "id": "4b03e2ba-7496-42f4-82bf-1153369afa1d",
   "metadata": {},
   "outputs": [],
   "source": [
    "# Assuming 'correlation_matrix' includes a 'quality' column\n",
    "correlation_with_quality = correlation_matrix['quality'].sort_values(ascending=False)"
   ]
  },
  {
   "cell_type": "code",
   "execution_count": 227,
   "id": "d2034c71-1d8b-425a-96b5-5ba8ac175801",
   "metadata": {},
   "outputs": [
    {
     "name": "stdout",
     "output_type": "stream",
     "text": [
      "quality                     1.000000\n",
      "alcohol                     0.476166\n",
      "sulphates                   0.251397\n",
      "citric acid                 0.226373\n",
      "fixed acidity               0.124052\n",
      "pH_bin_5_(2.994, 3.248]     0.065631\n",
      "pH_bin_10_(3.121, 3.248]    0.056319\n",
      "pH_bin_10_(3.756, 3.883]    0.037448\n",
      "pH_bin_10_(2.994, 3.121]    0.024526\n",
      "pH_bin_10_(2.867, 2.994]    0.023012\n",
      "pH_bin_5_(3.756, 4.01]      0.018162\n",
      "residual sugar              0.013732\n",
      "pH_bin_10_(3.883, 4.01]    -0.008438\n",
      "pH_bin_10_(3.248, 3.375]   -0.011379\n",
      "pH_bin_10_(3.629, 3.756]   -0.019996\n",
      "pH_bin_10_(3.502, 3.629]   -0.033651\n",
      "pH_bin_10_(3.375, 3.502]   -0.039037\n",
      "pH_bin_5_(3.502, 3.756]    -0.039644\n",
      "pH_bin_5_(3.248, 3.502]    -0.043579\n",
      "free sulfur dioxide        -0.050656\n",
      "pH                         -0.057731\n",
      "chlorides                  -0.128907\n",
      "density                    -0.174919\n",
      "total sulfur dioxide       -0.185100\n",
      "volatile acidity           -0.390558\n",
      "Name: quality, dtype: float64\n"
     ]
    }
   ],
   "source": [
    "print(correlation_with_quality)"
   ]
  },
  {
   "cell_type": "markdown",
   "id": "32774a48-b57c-4636-a258-f61449bdce4c",
   "metadata": {},
   "source": [
    "# Attribute with the biggest influence"
   ]
  },
  {
   "cell_type": "code",
   "execution_count": 234,
   "id": "171ead53-8d2e-43df-824a-9fc2b70026d4",
   "metadata": {},
   "outputs": [
    {
     "name": "stdout",
     "output_type": "stream",
     "text": [
      "The attribute with the biggest influence is: alcohol\n"
     ]
    }
   ],
   "source": [
    "most_influential = correlation_with_quality.index[1]  # Excluding 'quality' itself\n",
    "print(f\"The attribute with the biggest influence is: {most_influential}\")"
   ]
  },
  {
   "cell_type": "markdown",
   "id": "f2b7bafe-ff41-4691-b5f5-167e79ed23a1",
   "metadata": {},
   "source": [
    "# Which has the lowest?"
   ]
  },
  {
   "cell_type": "code",
   "execution_count": 239,
   "id": "ad5cdd77-1fbd-4355-9ff0-f2f76392521a",
   "metadata": {},
   "outputs": [
    {
     "name": "stdout",
     "output_type": "stream",
     "text": [
      "The attribute with the lowest influence is: volatile acidity\n"
     ]
    }
   ],
   "source": [
    "least_influential = correlation_with_quality.index[-1]\n",
    "print(f\"The attribute with the lowest influence is: {least_influential}\")"
   ]
  },
  {
   "cell_type": "markdown",
   "id": "2512e5ed-5153-48c7-87f5-13d550d19a08",
   "metadata": {},
   "source": [
    "# Are there any attributes, apart from the wine quality, which are highly correlated?"
   ]
  },
  {
   "cell_type": "markdown",
   "id": "dcfc0430-b8a5-4ac0-ab66-5516977ac357",
   "metadata": {},
   "source": [
    "## looking for values close to 1 (strong positive correlation) or -1(strong negative correlation)"
   ]
  },
  {
   "cell_type": "markdown",
   "id": "8937f907-4361-4965-8e74-7638227cf41a",
   "metadata": {},
   "source": [
    "# Finding Highly Correlated Attributes"
   ]
  },
  {
   "cell_type": "markdown",
   "id": "886e985c-d234-4e46-9c8f-8693ff4796bf",
   "metadata": {},
   "source": [
    "### Setting a threshold for \"high correlation\" (e.g., |correlation| > 0.7)"
   ]
  },
  {
   "cell_type": "code",
   "execution_count": 272,
   "id": "bce8160c-24d0-4df4-89b4-920ee91c3229",
   "metadata": {},
   "outputs": [],
   "source": [
    "threshold = 0.7"
   ]
  },
  {
   "cell_type": "markdown",
   "id": "ff2db93b-b164-4d4c-93e7-64812ac3a69d",
   "metadata": {},
   "source": [
    "### Creating a DataFrame for highly correlated pairs"
   ]
  },
  {
   "cell_type": "code",
   "execution_count": 257,
   "id": "8658dcc3-7f94-4061-8e46-71adaa9fbb2c",
   "metadata": {},
   "outputs": [],
   "source": [
    "highly_correlated = correlation_matrix.unstack().reset_index()\n",
    "highly_correlated.columns = ['Attribute 1', 'Attribute 2', 'Correlation']"
   ]
  },
  {
   "cell_type": "markdown",
   "id": "256b130f-1b6a-41c5-97df-b7e4d3e1f84e",
   "metadata": {},
   "source": [
    "### Filter out duplicate and self-correlations"
   ]
  },
  {
   "cell_type": "code",
   "execution_count": 259,
   "id": "e2903453-25d6-42f7-88ca-baaf17bbe57b",
   "metadata": {},
   "outputs": [],
   "source": [
    "highly_correlated = highly_correlated[highly_correlated['Attribute 1'] != highly_correlated['Attribute 2']]\n",
    "highly_correlated = highly_correlated[highly_correlated['Correlation'].abs() > threshold]"
   ]
  },
  {
   "cell_type": "markdown",
   "id": "3c81b3cc-9837-43f6-9152-2ae15eda3739",
   "metadata": {},
   "source": [
    "###  Sort by correlation strength"
   ]
  },
  {
   "cell_type": "code",
   "execution_count": 263,
   "id": "38f66cbd-6b76-440b-834c-faa2b10d4f0c",
   "metadata": {},
   "outputs": [],
   "source": [
    "highly_correlated = highly_correlated.sort_values(by='Correlation', ascending=False)"
   ]
  },
  {
   "cell_type": "markdown",
   "id": "99540e9b-cc75-4083-8683-97438eb7a2ea",
   "metadata": {},
   "source": [
    "### Display the result"
   ]
  },
  {
   "cell_type": "code",
   "execution_count": 261,
   "id": "caf86b0c-bf36-4ce8-969d-c0a65fbbdfb9",
   "metadata": {},
   "outputs": [
    {
     "name": "stdout",
     "output_type": "stream",
     "text": [
      "                  Attribute 1               Attribute 2  Correlation\n",
      "313   pH_bin_5_(2.994, 3.248]   pH_bin_5_(3.248, 3.502]    -0.766600\n",
      "318   pH_bin_5_(2.994, 3.248]  pH_bin_10_(3.121, 3.248]     0.806446\n",
      "337   pH_bin_5_(3.248, 3.502]   pH_bin_5_(2.994, 3.248]    -0.766600\n",
      "371   pH_bin_5_(3.502, 3.756]  pH_bin_10_(3.502, 3.629]     0.896475\n",
      "399    pH_bin_5_(3.756, 4.01]   pH_bin_10_(3.883, 4.01]     0.755218\n",
      "462  pH_bin_10_(3.121, 3.248]   pH_bin_5_(2.994, 3.248]     0.806446\n",
      "539  pH_bin_10_(3.502, 3.629]   pH_bin_5_(3.502, 3.756]     0.896475\n",
      "615   pH_bin_10_(3.883, 4.01]    pH_bin_5_(3.756, 4.01]     0.755218\n"
     ]
    }
   ],
   "source": [
    "print(highly_correlated)"
   ]
  },
  {
   "cell_type": "code",
   "execution_count": null,
   "id": "ee2b994a-2fe3-4289-8b06-87636f5a0bcf",
   "metadata": {},
   "outputs": [],
   "source": []
  }
 ],
 "metadata": {
  "kernelspec": {
   "display_name": "Python [conda env:base] *",
   "language": "python",
   "name": "conda-base-py"
  },
  "language_info": {
   "codemirror_mode": {
    "name": "ipython",
    "version": 3
   },
   "file_extension": ".py",
   "mimetype": "text/x-python",
   "name": "python",
   "nbconvert_exporter": "python",
   "pygments_lexer": "ipython3",
   "version": "3.12.7"
  }
 },
 "nbformat": 4,
 "nbformat_minor": 5
}

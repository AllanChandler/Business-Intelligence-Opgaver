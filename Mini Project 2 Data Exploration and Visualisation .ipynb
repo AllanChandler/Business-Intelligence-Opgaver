{
 "cells": [
  {
   "cell_type": "markdown",
   "id": "6633ce06-2d25-45ad-8b72-cdb6609817d1",
   "metadata": {},
   "source": [
    "# Importerer nødvendige biblioteker"
   ]
  },
  {
   "cell_type": "code",
   "execution_count": 2,
   "id": "1812662f-03e2-4595-9303-043031488105",
   "metadata": {},
   "outputs": [],
   "source": [
    "import pandas as pd\n",
    "import matplotlib.pyplot as plt\n",
    "import seaborn as sns\n",
    "import numpy as np\n",
    "from sklearn.decomposition import PCA\n",
    "from sklearn.preprocessing import StandardScaler\n",
    "import streamlit as st\n",
    "import plotly.express as px\n",
    "import wikipedia"
   ]
  },
  {
   "cell_type": "markdown",
   "id": "9a288962-8ecc-4a86-9ad6-036578e06975",
   "metadata": {},
   "source": [
    "# Task 1:\n",
    "## Indlæsning af data\n",
    "Der læses dataene fra to Excel-filer: en for rødvin og en for hvidvin."
   ]
  },
  {
   "cell_type": "code",
   "execution_count": 4,
   "id": "b03cf856-175e-4460-bfe8-0f18253996f9",
   "metadata": {},
   "outputs": [],
   "source": [
    "# Indlæser rødvin og hvidvin fra Excel og bruger den anden række som header\n",
    "rødvin = pd.read_excel(\"winequality-red.xlsx\", header=1)\n",
    "hvidvin = pd.read_excel(\"winequality-white.xlsx\", header=1)"
   ]
  },
  {
   "cell_type": "code",
   "execution_count": 5,
   "id": "fd62f10e-ad2f-4b83-a308-7d68cc21442b",
   "metadata": {},
   "outputs": [
    {
     "data": {
      "text/html": [
       "<div>\n",
       "<style scoped>\n",
       "    .dataframe tbody tr th:only-of-type {\n",
       "        vertical-align: middle;\n",
       "    }\n",
       "\n",
       "    .dataframe tbody tr th {\n",
       "        vertical-align: top;\n",
       "    }\n",
       "\n",
       "    .dataframe thead th {\n",
       "        text-align: right;\n",
       "    }\n",
       "</style>\n",
       "<table border=\"1\" class=\"dataframe\">\n",
       "  <thead>\n",
       "    <tr style=\"text-align: right;\">\n",
       "      <th></th>\n",
       "      <th>fixed acidity</th>\n",
       "      <th>volatile acidity</th>\n",
       "      <th>citric acid</th>\n",
       "      <th>residual sugar</th>\n",
       "      <th>chlorides</th>\n",
       "      <th>free sulfur dioxide</th>\n",
       "      <th>total sulfur dioxide</th>\n",
       "      <th>density</th>\n",
       "      <th>pH</th>\n",
       "      <th>sulphates</th>\n",
       "      <th>alcohol</th>\n",
       "      <th>quality</th>\n",
       "    </tr>\n",
       "  </thead>\n",
       "  <tbody>\n",
       "    <tr>\n",
       "      <th>0</th>\n",
       "      <td>7.4</td>\n",
       "      <td>0.70</td>\n",
       "      <td>0.00</td>\n",
       "      <td>1.9</td>\n",
       "      <td>0.076</td>\n",
       "      <td>11.0</td>\n",
       "      <td>34.0</td>\n",
       "      <td>0.9978</td>\n",
       "      <td>3.51</td>\n",
       "      <td>0.56</td>\n",
       "      <td>9.4</td>\n",
       "      <td>5</td>\n",
       "    </tr>\n",
       "    <tr>\n",
       "      <th>1</th>\n",
       "      <td>7.8</td>\n",
       "      <td>0.88</td>\n",
       "      <td>0.00</td>\n",
       "      <td>2.6</td>\n",
       "      <td>0.098</td>\n",
       "      <td>25.0</td>\n",
       "      <td>67.0</td>\n",
       "      <td>0.9968</td>\n",
       "      <td>3.20</td>\n",
       "      <td>0.68</td>\n",
       "      <td>9.8</td>\n",
       "      <td>5</td>\n",
       "    </tr>\n",
       "    <tr>\n",
       "      <th>2</th>\n",
       "      <td>7.8</td>\n",
       "      <td>0.76</td>\n",
       "      <td>0.04</td>\n",
       "      <td>2.3</td>\n",
       "      <td>0.092</td>\n",
       "      <td>15.0</td>\n",
       "      <td>54.0</td>\n",
       "      <td>0.9970</td>\n",
       "      <td>3.26</td>\n",
       "      <td>0.65</td>\n",
       "      <td>9.8</td>\n",
       "      <td>5</td>\n",
       "    </tr>\n",
       "    <tr>\n",
       "      <th>3</th>\n",
       "      <td>11.2</td>\n",
       "      <td>0.28</td>\n",
       "      <td>0.56</td>\n",
       "      <td>1.9</td>\n",
       "      <td>0.075</td>\n",
       "      <td>17.0</td>\n",
       "      <td>60.0</td>\n",
       "      <td>0.9980</td>\n",
       "      <td>3.16</td>\n",
       "      <td>0.58</td>\n",
       "      <td>9.8</td>\n",
       "      <td>6</td>\n",
       "    </tr>\n",
       "    <tr>\n",
       "      <th>4</th>\n",
       "      <td>7.4</td>\n",
       "      <td>0.70</td>\n",
       "      <td>0.00</td>\n",
       "      <td>1.9</td>\n",
       "      <td>0.076</td>\n",
       "      <td>11.0</td>\n",
       "      <td>34.0</td>\n",
       "      <td>0.9978</td>\n",
       "      <td>3.51</td>\n",
       "      <td>0.56</td>\n",
       "      <td>9.4</td>\n",
       "      <td>5</td>\n",
       "    </tr>\n",
       "  </tbody>\n",
       "</table>\n",
       "</div>"
      ],
      "text/plain": [
       "   fixed acidity  volatile acidity  citric acid  residual sugar  chlorides  \\\n",
       "0            7.4              0.70         0.00             1.9      0.076   \n",
       "1            7.8              0.88         0.00             2.6      0.098   \n",
       "2            7.8              0.76         0.04             2.3      0.092   \n",
       "3           11.2              0.28         0.56             1.9      0.075   \n",
       "4            7.4              0.70         0.00             1.9      0.076   \n",
       "\n",
       "   free sulfur dioxide  total sulfur dioxide  density    pH  sulphates  \\\n",
       "0                 11.0                  34.0   0.9978  3.51       0.56   \n",
       "1                 25.0                  67.0   0.9968  3.20       0.68   \n",
       "2                 15.0                  54.0   0.9970  3.26       0.65   \n",
       "3                 17.0                  60.0   0.9980  3.16       0.58   \n",
       "4                 11.0                  34.0   0.9978  3.51       0.56   \n",
       "\n",
       "   alcohol  quality  \n",
       "0      9.4        5  \n",
       "1      9.8        5  \n",
       "2      9.8        5  \n",
       "3      9.8        6  \n",
       "4      9.4        5  "
      ]
     },
     "execution_count": 5,
     "metadata": {},
     "output_type": "execute_result"
    }
   ],
   "source": [
    "# Viser de første 5 rækker for rødvin\n",
    "rødvin.head()"
   ]
  },
  {
   "cell_type": "code",
   "execution_count": 6,
   "id": "b0f28257-ddfc-4d7c-bfd1-a3ca8cc63e21",
   "metadata": {},
   "outputs": [
    {
     "data": {
      "text/html": [
       "<div>\n",
       "<style scoped>\n",
       "    .dataframe tbody tr th:only-of-type {\n",
       "        vertical-align: middle;\n",
       "    }\n",
       "\n",
       "    .dataframe tbody tr th {\n",
       "        vertical-align: top;\n",
       "    }\n",
       "\n",
       "    .dataframe thead th {\n",
       "        text-align: right;\n",
       "    }\n",
       "</style>\n",
       "<table border=\"1\" class=\"dataframe\">\n",
       "  <thead>\n",
       "    <tr style=\"text-align: right;\">\n",
       "      <th></th>\n",
       "      <th>fixed acidity</th>\n",
       "      <th>volatile acidity</th>\n",
       "      <th>citric acid</th>\n",
       "      <th>residual sugar</th>\n",
       "      <th>chlorides</th>\n",
       "      <th>free sulfur dioxide</th>\n",
       "      <th>total sulfur dioxide</th>\n",
       "      <th>density</th>\n",
       "      <th>pH</th>\n",
       "      <th>sulphates</th>\n",
       "      <th>alcohol</th>\n",
       "      <th>quality</th>\n",
       "    </tr>\n",
       "  </thead>\n",
       "  <tbody>\n",
       "    <tr>\n",
       "      <th>0</th>\n",
       "      <td>7.0</td>\n",
       "      <td>0.27</td>\n",
       "      <td>0.36</td>\n",
       "      <td>20.7</td>\n",
       "      <td>0.045</td>\n",
       "      <td>45.0</td>\n",
       "      <td>170.0</td>\n",
       "      <td>1.0010</td>\n",
       "      <td>3.00</td>\n",
       "      <td>0.45</td>\n",
       "      <td>8.8</td>\n",
       "      <td>6</td>\n",
       "    </tr>\n",
       "    <tr>\n",
       "      <th>1</th>\n",
       "      <td>6.3</td>\n",
       "      <td>0.30</td>\n",
       "      <td>0.34</td>\n",
       "      <td>1.6</td>\n",
       "      <td>0.049</td>\n",
       "      <td>14.0</td>\n",
       "      <td>132.0</td>\n",
       "      <td>0.9940</td>\n",
       "      <td>3.30</td>\n",
       "      <td>0.49</td>\n",
       "      <td>9.5</td>\n",
       "      <td>6</td>\n",
       "    </tr>\n",
       "    <tr>\n",
       "      <th>2</th>\n",
       "      <td>8.1</td>\n",
       "      <td>0.28</td>\n",
       "      <td>0.40</td>\n",
       "      <td>6.9</td>\n",
       "      <td>0.050</td>\n",
       "      <td>30.0</td>\n",
       "      <td>97.0</td>\n",
       "      <td>0.9951</td>\n",
       "      <td>3.26</td>\n",
       "      <td>0.44</td>\n",
       "      <td>10.1</td>\n",
       "      <td>6</td>\n",
       "    </tr>\n",
       "    <tr>\n",
       "      <th>3</th>\n",
       "      <td>7.2</td>\n",
       "      <td>0.23</td>\n",
       "      <td>0.32</td>\n",
       "      <td>8.5</td>\n",
       "      <td>0.058</td>\n",
       "      <td>47.0</td>\n",
       "      <td>186.0</td>\n",
       "      <td>0.9956</td>\n",
       "      <td>3.19</td>\n",
       "      <td>0.40</td>\n",
       "      <td>9.9</td>\n",
       "      <td>6</td>\n",
       "    </tr>\n",
       "    <tr>\n",
       "      <th>4</th>\n",
       "      <td>7.2</td>\n",
       "      <td>0.23</td>\n",
       "      <td>0.32</td>\n",
       "      <td>8.5</td>\n",
       "      <td>0.058</td>\n",
       "      <td>47.0</td>\n",
       "      <td>186.0</td>\n",
       "      <td>0.9956</td>\n",
       "      <td>3.19</td>\n",
       "      <td>0.40</td>\n",
       "      <td>9.9</td>\n",
       "      <td>6</td>\n",
       "    </tr>\n",
       "  </tbody>\n",
       "</table>\n",
       "</div>"
      ],
      "text/plain": [
       "   fixed acidity  volatile acidity  citric acid  residual sugar  chlorides  \\\n",
       "0            7.0              0.27         0.36            20.7      0.045   \n",
       "1            6.3              0.30         0.34             1.6      0.049   \n",
       "2            8.1              0.28         0.40             6.9      0.050   \n",
       "3            7.2              0.23         0.32             8.5      0.058   \n",
       "4            7.2              0.23         0.32             8.5      0.058   \n",
       "\n",
       "   free sulfur dioxide  total sulfur dioxide  density    pH  sulphates  \\\n",
       "0                 45.0                 170.0   1.0010  3.00       0.45   \n",
       "1                 14.0                 132.0   0.9940  3.30       0.49   \n",
       "2                 30.0                  97.0   0.9951  3.26       0.44   \n",
       "3                 47.0                 186.0   0.9956  3.19       0.40   \n",
       "4                 47.0                 186.0   0.9956  3.19       0.40   \n",
       "\n",
       "   alcohol  quality  \n",
       "0      8.8        6  \n",
       "1      9.5        6  \n",
       "2     10.1        6  \n",
       "3      9.9        6  \n",
       "4      9.9        6  "
      ]
     },
     "execution_count": 6,
     "metadata": {},
     "output_type": "execute_result"
    }
   ],
   "source": [
    "# Viser de første 5 rækker for hvidvin\n",
    "hvidvin.head()"
   ]
  },
  {
   "cell_type": "markdown",
   "id": "ea8e344c-c1c5-45ac-b303-40cd1bcf26ba",
   "metadata": {},
   "source": [
    "# Task 2:\n",
    "## Rensning af data\n",
    "Nu renses dataen for begge filer."
   ]
  },
  {
   "cell_type": "code",
   "execution_count": 8,
   "id": "87478a01-0a0e-405f-bd93-6fcad07a25a3",
   "metadata": {},
   "outputs": [
    {
     "name": "stdout",
     "output_type": "stream",
     "text": [
      "<class 'pandas.core.frame.DataFrame'>\n",
      "RangeIndex: 1599 entries, 0 to 1598\n",
      "Data columns (total 12 columns):\n",
      " #   Column                Non-Null Count  Dtype  \n",
      "---  ------                --------------  -----  \n",
      " 0   fixed acidity         1599 non-null   float64\n",
      " 1   volatile acidity      1599 non-null   float64\n",
      " 2   citric acid           1599 non-null   float64\n",
      " 3   residual sugar        1599 non-null   float64\n",
      " 4   chlorides             1599 non-null   float64\n",
      " 5   free sulfur dioxide   1599 non-null   float64\n",
      " 6   total sulfur dioxide  1599 non-null   float64\n",
      " 7   density               1599 non-null   float64\n",
      " 8   pH                    1599 non-null   float64\n",
      " 9   sulphates             1599 non-null   float64\n",
      " 10  alcohol               1599 non-null   float64\n",
      " 11  quality               1599 non-null   int64  \n",
      "dtypes: float64(11), int64(1)\n",
      "memory usage: 150.0 KB\n",
      "<class 'pandas.core.frame.DataFrame'>\n",
      "RangeIndex: 4898 entries, 0 to 4897\n",
      "Data columns (total 12 columns):\n",
      " #   Column                Non-Null Count  Dtype  \n",
      "---  ------                --------------  -----  \n",
      " 0   fixed acidity         4898 non-null   float64\n",
      " 1   volatile acidity      4898 non-null   float64\n",
      " 2   citric acid           4898 non-null   float64\n",
      " 3   residual sugar        4898 non-null   float64\n",
      " 4   chlorides             4898 non-null   float64\n",
      " 5   free sulfur dioxide   4898 non-null   float64\n",
      " 6   total sulfur dioxide  4898 non-null   float64\n",
      " 7   density               4898 non-null   float64\n",
      " 8   pH                    4898 non-null   float64\n",
      " 9   sulphates             4898 non-null   float64\n",
      " 10  alcohol               4898 non-null   float64\n",
      " 11  quality               4898 non-null   int64  \n",
      "dtypes: float64(11), int64(1)\n",
      "memory usage: 459.3 KB\n"
     ]
    }
   ],
   "source": [
    "rødvin.info()\n",
    "hvidvin.info()"
   ]
  },
  {
   "cell_type": "markdown",
   "id": "b85dff52-1176-41e4-9d70-86a7f79f34ab",
   "metadata": {},
   "source": [
    "Som vi kan se, er der ingen manglende data. Alligevel dobbelt-tjekkes der for at være helt sikker."
   ]
  },
  {
   "cell_type": "code",
   "execution_count": 10,
   "id": "9ed4ea59-659b-4705-a685-eb28bbca6835",
   "metadata": {},
   "outputs": [
    {
     "name": "stdout",
     "output_type": "stream",
     "text": [
      "\n",
      "rødvin\n",
      "fixed acidity           0\n",
      "volatile acidity        0\n",
      "citric acid             0\n",
      "residual sugar          0\n",
      "chlorides               0\n",
      "free sulfur dioxide     0\n",
      "total sulfur dioxide    0\n",
      "density                 0\n",
      "pH                      0\n",
      "sulphates               0\n",
      "alcohol                 0\n",
      "quality                 0\n",
      "dtype: int64\n",
      "\n",
      "hvidvin\n",
      "fixed acidity           0\n",
      "volatile acidity        0\n",
      "citric acid             0\n",
      "residual sugar          0\n",
      "chlorides               0\n",
      "free sulfur dioxide     0\n",
      "total sulfur dioxide    0\n",
      "density                 0\n",
      "pH                      0\n",
      "sulphates               0\n",
      "alcohol                 0\n",
      "quality                 0\n",
      "dtype: int64\n"
     ]
    }
   ],
   "source": [
    "print(\"\\nrødvin\")\n",
    "print(rødvin.isnull().sum())\n",
    "\n",
    "print(\"\\nhvidvin\")\n",
    "print(hvidvin.isnull().sum())"
   ]
  },
  {
   "cell_type": "markdown",
   "id": "94123995-27ee-4061-9f34-3967b1f4210a",
   "metadata": {},
   "source": [
    "Som det fremgår, ser det ud til, at alle datatyperne er korrekte, og der er ingen manglende værdier i datasættet. Derfor vurderer vi, at der ikke er behov for rensning af dataene."
   ]
  },
  {
   "cell_type": "markdown",
   "id": "bb52822c-abd9-4bf9-a210-88a305a1aa70",
   "metadata": {},
   "source": [
    "# Task 3:\n",
    "## Sammenlægning af datasæt\n",
    "Nu kombineres de to datasæt til et samlet datasæt."
   ]
  },
  {
   "cell_type": "code",
   "execution_count": 13,
   "id": "89694ab0-41ec-4c8a-9b14-961e412185e8",
   "metadata": {},
   "outputs": [],
   "source": [
    "# Tilføjer en kolonne til at angive, om data kommer fra rødvin eller hvidvin\n",
    "rødvin['vin_type'] = 'red'  \n",
    "hvidvin['vin_type'] = 'white'  \n",
    "\n",
    "# Kombinerer de to datasæt\n",
    "vin_data = pd.concat([rødvin.head(), hvidvin.head()])"
   ]
  },
  {
   "cell_type": "markdown",
   "id": "a0c817c5-4ba2-4517-80e4-34b3464f0caf",
   "metadata": {},
   "source": [
    "## Tjek af det samlede datasæt\n",
    "Nu ses det kombineret datasæt."
   ]
  },
  {
   "cell_type": "code",
   "execution_count": 15,
   "id": "cc419b60-e339-42c5-b4b1-22a9a9f4502a",
   "metadata": {},
   "outputs": [
    {
     "name": "stdout",
     "output_type": "stream",
     "text": [
      "samlet datasæt:\n",
      "   fixed acidity  volatile acidity  citric acid  residual sugar  chlorides  \\\n",
      "0            7.4              0.70         0.00             1.9      0.076   \n",
      "1            7.8              0.88         0.00             2.6      0.098   \n",
      "2            7.8              0.76         0.04             2.3      0.092   \n",
      "3           11.2              0.28         0.56             1.9      0.075   \n",
      "4            7.4              0.70         0.00             1.9      0.076   \n",
      "0            7.0              0.27         0.36            20.7      0.045   \n",
      "1            6.3              0.30         0.34             1.6      0.049   \n",
      "2            8.1              0.28         0.40             6.9      0.050   \n",
      "3            7.2              0.23         0.32             8.5      0.058   \n",
      "4            7.2              0.23         0.32             8.5      0.058   \n",
      "\n",
      "   free sulfur dioxide  total sulfur dioxide  density    pH  sulphates  \\\n",
      "0                 11.0                  34.0   0.9978  3.51       0.56   \n",
      "1                 25.0                  67.0   0.9968  3.20       0.68   \n",
      "2                 15.0                  54.0   0.9970  3.26       0.65   \n",
      "3                 17.0                  60.0   0.9980  3.16       0.58   \n",
      "4                 11.0                  34.0   0.9978  3.51       0.56   \n",
      "0                 45.0                 170.0   1.0010  3.00       0.45   \n",
      "1                 14.0                 132.0   0.9940  3.30       0.49   \n",
      "2                 30.0                  97.0   0.9951  3.26       0.44   \n",
      "3                 47.0                 186.0   0.9956  3.19       0.40   \n",
      "4                 47.0                 186.0   0.9956  3.19       0.40   \n",
      "\n",
      "   alcohol  quality vin_type  \n",
      "0      9.4        5      red  \n",
      "1      9.8        5      red  \n",
      "2      9.8        5      red  \n",
      "3      9.8        6      red  \n",
      "4      9.4        5      red  \n",
      "0      8.8        6    white  \n",
      "1      9.5        6    white  \n",
      "2     10.1        6    white  \n",
      "3      9.9        6    white  \n",
      "4      9.9        6    white  \n"
     ]
    }
   ],
   "source": [
    "print(\"samlet datasæt:\")\n",
    "print(vin_data)"
   ]
  },
  {
   "cell_type": "code",
   "execution_count": 16,
   "id": "a6bf8ea5-d906-4ab8-bcfa-d7ef60dd6e35",
   "metadata": {},
   "outputs": [
    {
     "name": "stdout",
     "output_type": "stream",
     "text": [
      "tilfældig prøve:\n"
     ]
    },
    {
     "data": {
      "text/html": [
       "<div>\n",
       "<style scoped>\n",
       "    .dataframe tbody tr th:only-of-type {\n",
       "        vertical-align: middle;\n",
       "    }\n",
       "\n",
       "    .dataframe tbody tr th {\n",
       "        vertical-align: top;\n",
       "    }\n",
       "\n",
       "    .dataframe thead th {\n",
       "        text-align: right;\n",
       "    }\n",
       "</style>\n",
       "<table border=\"1\" class=\"dataframe\">\n",
       "  <thead>\n",
       "    <tr style=\"text-align: right;\">\n",
       "      <th></th>\n",
       "      <th>fixed acidity</th>\n",
       "      <th>volatile acidity</th>\n",
       "      <th>citric acid</th>\n",
       "      <th>residual sugar</th>\n",
       "      <th>chlorides</th>\n",
       "      <th>free sulfur dioxide</th>\n",
       "      <th>total sulfur dioxide</th>\n",
       "      <th>density</th>\n",
       "      <th>pH</th>\n",
       "      <th>sulphates</th>\n",
       "      <th>alcohol</th>\n",
       "      <th>quality</th>\n",
       "      <th>vin_type</th>\n",
       "    </tr>\n",
       "  </thead>\n",
       "  <tbody>\n",
       "    <tr>\n",
       "      <th>2</th>\n",
       "      <td>7.8</td>\n",
       "      <td>0.76</td>\n",
       "      <td>0.04</td>\n",
       "      <td>2.3</td>\n",
       "      <td>0.092</td>\n",
       "      <td>15.0</td>\n",
       "      <td>54.0</td>\n",
       "      <td>0.9970</td>\n",
       "      <td>3.26</td>\n",
       "      <td>0.65</td>\n",
       "      <td>9.8</td>\n",
       "      <td>5</td>\n",
       "      <td>red</td>\n",
       "    </tr>\n",
       "    <tr>\n",
       "      <th>0</th>\n",
       "      <td>7.4</td>\n",
       "      <td>0.70</td>\n",
       "      <td>0.00</td>\n",
       "      <td>1.9</td>\n",
       "      <td>0.076</td>\n",
       "      <td>11.0</td>\n",
       "      <td>34.0</td>\n",
       "      <td>0.9978</td>\n",
       "      <td>3.51</td>\n",
       "      <td>0.56</td>\n",
       "      <td>9.4</td>\n",
       "      <td>5</td>\n",
       "      <td>red</td>\n",
       "    </tr>\n",
       "    <tr>\n",
       "      <th>2</th>\n",
       "      <td>8.1</td>\n",
       "      <td>0.28</td>\n",
       "      <td>0.40</td>\n",
       "      <td>6.9</td>\n",
       "      <td>0.050</td>\n",
       "      <td>30.0</td>\n",
       "      <td>97.0</td>\n",
       "      <td>0.9951</td>\n",
       "      <td>3.26</td>\n",
       "      <td>0.44</td>\n",
       "      <td>10.1</td>\n",
       "      <td>6</td>\n",
       "      <td>white</td>\n",
       "    </tr>\n",
       "    <tr>\n",
       "      <th>3</th>\n",
       "      <td>7.2</td>\n",
       "      <td>0.23</td>\n",
       "      <td>0.32</td>\n",
       "      <td>8.5</td>\n",
       "      <td>0.058</td>\n",
       "      <td>47.0</td>\n",
       "      <td>186.0</td>\n",
       "      <td>0.9956</td>\n",
       "      <td>3.19</td>\n",
       "      <td>0.40</td>\n",
       "      <td>9.9</td>\n",
       "      <td>6</td>\n",
       "      <td>white</td>\n",
       "    </tr>\n",
       "    <tr>\n",
       "      <th>1</th>\n",
       "      <td>6.3</td>\n",
       "      <td>0.30</td>\n",
       "      <td>0.34</td>\n",
       "      <td>1.6</td>\n",
       "      <td>0.049</td>\n",
       "      <td>14.0</td>\n",
       "      <td>132.0</td>\n",
       "      <td>0.9940</td>\n",
       "      <td>3.30</td>\n",
       "      <td>0.49</td>\n",
       "      <td>9.5</td>\n",
       "      <td>6</td>\n",
       "      <td>white</td>\n",
       "    </tr>\n",
       "    <tr>\n",
       "      <th>3</th>\n",
       "      <td>11.2</td>\n",
       "      <td>0.28</td>\n",
       "      <td>0.56</td>\n",
       "      <td>1.9</td>\n",
       "      <td>0.075</td>\n",
       "      <td>17.0</td>\n",
       "      <td>60.0</td>\n",
       "      <td>0.9980</td>\n",
       "      <td>3.16</td>\n",
       "      <td>0.58</td>\n",
       "      <td>9.8</td>\n",
       "      <td>6</td>\n",
       "      <td>red</td>\n",
       "    </tr>\n",
       "    <tr>\n",
       "      <th>4</th>\n",
       "      <td>7.2</td>\n",
       "      <td>0.23</td>\n",
       "      <td>0.32</td>\n",
       "      <td>8.5</td>\n",
       "      <td>0.058</td>\n",
       "      <td>47.0</td>\n",
       "      <td>186.0</td>\n",
       "      <td>0.9956</td>\n",
       "      <td>3.19</td>\n",
       "      <td>0.40</td>\n",
       "      <td>9.9</td>\n",
       "      <td>6</td>\n",
       "      <td>white</td>\n",
       "    </tr>\n",
       "    <tr>\n",
       "      <th>4</th>\n",
       "      <td>7.4</td>\n",
       "      <td>0.70</td>\n",
       "      <td>0.00</td>\n",
       "      <td>1.9</td>\n",
       "      <td>0.076</td>\n",
       "      <td>11.0</td>\n",
       "      <td>34.0</td>\n",
       "      <td>0.9978</td>\n",
       "      <td>3.51</td>\n",
       "      <td>0.56</td>\n",
       "      <td>9.4</td>\n",
       "      <td>5</td>\n",
       "      <td>red</td>\n",
       "    </tr>\n",
       "    <tr>\n",
       "      <th>0</th>\n",
       "      <td>7.0</td>\n",
       "      <td>0.27</td>\n",
       "      <td>0.36</td>\n",
       "      <td>20.7</td>\n",
       "      <td>0.045</td>\n",
       "      <td>45.0</td>\n",
       "      <td>170.0</td>\n",
       "      <td>1.0010</td>\n",
       "      <td>3.00</td>\n",
       "      <td>0.45</td>\n",
       "      <td>8.8</td>\n",
       "      <td>6</td>\n",
       "      <td>white</td>\n",
       "    </tr>\n",
       "    <tr>\n",
       "      <th>1</th>\n",
       "      <td>7.8</td>\n",
       "      <td>0.88</td>\n",
       "      <td>0.00</td>\n",
       "      <td>2.6</td>\n",
       "      <td>0.098</td>\n",
       "      <td>25.0</td>\n",
       "      <td>67.0</td>\n",
       "      <td>0.9968</td>\n",
       "      <td>3.20</td>\n",
       "      <td>0.68</td>\n",
       "      <td>9.8</td>\n",
       "      <td>5</td>\n",
       "      <td>red</td>\n",
       "    </tr>\n",
       "  </tbody>\n",
       "</table>\n",
       "</div>"
      ],
      "text/plain": [
       "   fixed acidity  volatile acidity  citric acid  residual sugar  chlorides  \\\n",
       "2            7.8              0.76         0.04             2.3      0.092   \n",
       "0            7.4              0.70         0.00             1.9      0.076   \n",
       "2            8.1              0.28         0.40             6.9      0.050   \n",
       "3            7.2              0.23         0.32             8.5      0.058   \n",
       "1            6.3              0.30         0.34             1.6      0.049   \n",
       "3           11.2              0.28         0.56             1.9      0.075   \n",
       "4            7.2              0.23         0.32             8.5      0.058   \n",
       "4            7.4              0.70         0.00             1.9      0.076   \n",
       "0            7.0              0.27         0.36            20.7      0.045   \n",
       "1            7.8              0.88         0.00             2.6      0.098   \n",
       "\n",
       "   free sulfur dioxide  total sulfur dioxide  density    pH  sulphates  \\\n",
       "2                 15.0                  54.0   0.9970  3.26       0.65   \n",
       "0                 11.0                  34.0   0.9978  3.51       0.56   \n",
       "2                 30.0                  97.0   0.9951  3.26       0.44   \n",
       "3                 47.0                 186.0   0.9956  3.19       0.40   \n",
       "1                 14.0                 132.0   0.9940  3.30       0.49   \n",
       "3                 17.0                  60.0   0.9980  3.16       0.58   \n",
       "4                 47.0                 186.0   0.9956  3.19       0.40   \n",
       "4                 11.0                  34.0   0.9978  3.51       0.56   \n",
       "0                 45.0                 170.0   1.0010  3.00       0.45   \n",
       "1                 25.0                  67.0   0.9968  3.20       0.68   \n",
       "\n",
       "   alcohol  quality vin_type  \n",
       "2      9.8        5      red  \n",
       "0      9.4        5      red  \n",
       "2     10.1        6    white  \n",
       "3      9.9        6    white  \n",
       "1      9.5        6    white  \n",
       "3      9.8        6      red  \n",
       "4      9.9        6    white  \n",
       "4      9.4        5      red  \n",
       "0      8.8        6    white  \n",
       "1      9.8        5      red  "
      ]
     },
     "execution_count": 16,
     "metadata": {},
     "output_type": "execute_result"
    }
   ],
   "source": [
    "# Bare for at være sikker på, at det virker ordentligt, tages en tilfældig prøve.\n",
    "print(\"tilfældig prøve:\")\n",
    "vin_data.sample(10)"
   ]
  },
  {
   "cell_type": "markdown",
   "id": "75ea710f-50b7-4f73-906f-711a3708bd1c",
   "metadata": {},
   "source": [
    "# Task 4:\n",
    "## Udforskning af afhængige og uafhængige variabler\n",
    "De tre dataframes udforskes, og de afhængige samt uafhængige variabler identificeres."
   ]
  },
  {
   "cell_type": "code",
   "execution_count": 18,
   "id": "af95c55f-4d66-4854-a8d9-44ec2c1cada3",
   "metadata": {},
   "outputs": [
    {
     "name": "stdout",
     "output_type": "stream",
     "text": [
      "Rødvin features:\n",
      "Index(['fixed acidity', 'volatile acidity', 'citric acid', 'residual sugar',\n",
      "       'chlorides', 'free sulfur dioxide', 'total sulfur dioxide', 'density',\n",
      "       'pH', 'sulphates', 'alcohol', 'quality', 'vin_type'],\n",
      "      dtype='object')\n",
      "       fixed acidity  volatile acidity  citric acid  residual sugar  \\\n",
      "count    1599.000000       1599.000000  1599.000000     1599.000000   \n",
      "mean        8.319637          0.527821     0.270976        2.538806   \n",
      "std         1.741096          0.179060     0.194801        1.409928   \n",
      "min         4.600000          0.120000     0.000000        0.900000   \n",
      "25%         7.100000          0.390000     0.090000        1.900000   \n",
      "50%         7.900000          0.520000     0.260000        2.200000   \n",
      "75%         9.200000          0.640000     0.420000        2.600000   \n",
      "max        15.900000          1.580000     1.000000       15.500000   \n",
      "\n",
      "         chlorides  free sulfur dioxide  total sulfur dioxide      density  \\\n",
      "count  1599.000000          1599.000000           1599.000000  1599.000000   \n",
      "mean      0.087467            15.874922             46.467792     0.996747   \n",
      "std       0.047065            10.460157             32.895324     0.001887   \n",
      "min       0.012000             1.000000              6.000000     0.990070   \n",
      "25%       0.070000             7.000000             22.000000     0.995600   \n",
      "50%       0.079000            14.000000             38.000000     0.996750   \n",
      "75%       0.090000            21.000000             62.000000     0.997835   \n",
      "max       0.611000            72.000000            289.000000     1.003690   \n",
      "\n",
      "                pH    sulphates      alcohol      quality  \n",
      "count  1599.000000  1599.000000  1599.000000  1599.000000  \n",
      "mean      3.311113     0.658149    10.422983     5.636023  \n",
      "std       0.154386     0.169507     1.065668     0.807569  \n",
      "min       2.740000     0.330000     8.400000     3.000000  \n",
      "25%       3.210000     0.550000     9.500000     5.000000  \n",
      "50%       3.310000     0.620000    10.200000     6.000000  \n",
      "75%       3.400000     0.730000    11.100000     6.000000  \n",
      "max       4.010000     2.000000    14.900000     8.000000  \n",
      "\n",
      "Hvidvin features:\n",
      "Index(['fixed acidity', 'volatile acidity', 'citric acid', 'residual sugar',\n",
      "       'chlorides', 'free sulfur dioxide', 'total sulfur dioxide', 'density',\n",
      "       'pH', 'sulphates', 'alcohol', 'quality', 'vin_type'],\n",
      "      dtype='object')\n",
      "       fixed acidity  volatile acidity  citric acid  residual sugar  \\\n",
      "count    4898.000000       4898.000000  4898.000000     4898.000000   \n",
      "mean        6.854788          0.278241     0.334192        6.391415   \n",
      "std         0.843868          0.100795     0.121020        5.072058   \n",
      "min         3.800000          0.080000     0.000000        0.600000   \n",
      "25%         6.300000          0.210000     0.270000        1.700000   \n",
      "50%         6.800000          0.260000     0.320000        5.200000   \n",
      "75%         7.300000          0.320000     0.390000        9.900000   \n",
      "max        14.200000          1.100000     1.660000       65.800000   \n",
      "\n",
      "         chlorides  free sulfur dioxide  total sulfur dioxide      density  \\\n",
      "count  4898.000000          4898.000000           4898.000000  4898.000000   \n",
      "mean      0.045772            35.308085            138.360657     0.994027   \n",
      "std       0.021848            17.007137             42.498065     0.002991   \n",
      "min       0.009000             2.000000              9.000000     0.987110   \n",
      "25%       0.036000            23.000000            108.000000     0.991723   \n",
      "50%       0.043000            34.000000            134.000000     0.993740   \n",
      "75%       0.050000            46.000000            167.000000     0.996100   \n",
      "max       0.346000           289.000000            440.000000     1.038980   \n",
      "\n",
      "                pH    sulphates      alcohol      quality  \n",
      "count  4898.000000  4898.000000  4898.000000  4898.000000  \n",
      "mean      3.188267     0.489847    10.514267     5.877909  \n",
      "std       0.151001     0.114126     1.230621     0.885639  \n",
      "min       2.720000     0.220000     8.000000     3.000000  \n",
      "25%       3.090000     0.410000     9.500000     5.000000  \n",
      "50%       3.180000     0.470000    10.400000     6.000000  \n",
      "75%       3.280000     0.550000    11.400000     6.000000  \n",
      "max       3.820000     1.080000    14.200000     9.000000  \n",
      "\n",
      "Samlet vin_data features:\n",
      "Index(['fixed acidity', 'volatile acidity', 'citric acid', 'residual sugar',\n",
      "       'chlorides', 'free sulfur dioxide', 'total sulfur dioxide', 'density',\n",
      "       'pH', 'sulphates', 'alcohol', 'quality', 'vin_type'],\n",
      "      dtype='object')\n",
      "       fixed acidity  volatile acidity  citric acid  residual sugar  \\\n",
      "count      10.000000         10.000000    10.000000        10.00000   \n",
      "mean        7.740000          0.463000     0.234000         5.68000   \n",
      "std         1.314196          0.261153     0.204841         5.99459   \n",
      "min         6.300000          0.230000     0.000000         1.60000   \n",
      "25%         7.200000          0.272500     0.010000         1.90000   \n",
      "50%         7.400000          0.290000     0.320000         2.45000   \n",
      "75%         7.800000          0.700000     0.355000         8.10000   \n",
      "max        11.200000          0.880000     0.560000        20.70000   \n",
      "\n",
      "       chlorides  free sulfur dioxide  total sulfur dioxide    density  \\\n",
      "count  10.000000            10.000000             10.000000  10.000000   \n",
      "mean    0.067700            26.200000            102.000000   0.996870   \n",
      "std     0.018457            15.112908             61.645942   0.001963   \n",
      "min     0.045000            11.000000             34.000000   0.994000   \n",
      "25%     0.052000            14.250000             55.500000   0.995600   \n",
      "50%     0.066500            21.000000             82.000000   0.996900   \n",
      "75%     0.076000            41.250000            160.500000   0.997800   \n",
      "max     0.098000            47.000000            186.000000   1.001000   \n",
      "\n",
      "              pH  sulphates    alcohol    quality  \n",
      "count  10.000000  10.000000  10.000000  10.000000  \n",
      "mean    3.258000   0.521000   9.640000   5.600000  \n",
      "std     0.155478   0.100161   0.374759   0.516398  \n",
      "min     3.000000   0.400000   8.800000   5.000000  \n",
      "25%     3.190000   0.442500   9.425000   5.000000  \n",
      "50%     3.230000   0.525000   9.800000   6.000000  \n",
      "75%     3.290000   0.575000   9.875000   6.000000  \n",
      "max     3.510000   0.680000  10.100000   6.000000  \n"
     ]
    }
   ],
   "source": [
    "# Udforsker rødvin\n",
    "print(\"Rødvin features:\")\n",
    "print(rødvin.columns)\n",
    "print(rødvin.describe())\n",
    "\n",
    "# Udforsker hvidvin\n",
    "print(\"\\nHvidvin features:\")\n",
    "print(hvidvin.columns)\n",
    "print(hvidvin.describe())\n",
    "\n",
    "# Udforsker samlet vin_data\n",
    "print(\"\\nSamlet vin_data features:\")\n",
    "print(vin_data.columns)\n",
    "print(vin_data.describe())"
   ]
  },
  {
   "cell_type": "markdown",
   "id": "76e93fb3-3147-4068-9abf-5e0eb3492157",
   "metadata": {},
   "source": [
    "De tre dataframes for rødvin, hvidvin og samlet vin indeholder 12 kemiske egenskaber samt en kvalitetsvurdering. Den afhængige variabel er quality, mens de øvrige kemiske egenskaber er de uafhængige variabler."
   ]
  },
  {
   "cell_type": "markdown",
   "id": "40065226-dc78-41e2-8da3-596ff3894ec4",
   "metadata": {},
   "source": [
    "# Task 5:\n",
    "## Transformation af kategoriske data til numeriske værdier\n",
    "Variabelen vin_type, der indeholder tekstværdierne red og white, omdannes til numeriske værdier 0 og 1 ved hjælp af en kodningsteknik."
   ]
  },
  {
   "cell_type": "code",
   "execution_count": 21,
   "id": "a5ab7dd6-ab59-447c-9ee8-996a0c32d212",
   "metadata": {},
   "outputs": [],
   "source": [
    "# Omdanner 'vin_type' fra tekst ('red'/'white') til tal (0/1)\n",
    "vin_data['vin_type'] = vin_data['vin_type'].map({'red': 0, 'white': 1})"
   ]
  },
  {
   "cell_type": "code",
   "execution_count": 22,
   "id": "5beeae8d-5d8a-4668-9e5a-ac58c9f60ec5",
   "metadata": {},
   "outputs": [
    {
     "name": "stdout",
     "output_type": "stream",
     "text": [
      "\n",
      "De første 10 rækker efter transformation af vin_type:\n",
      "   vin_type\n",
      "0         0\n",
      "1         0\n",
      "2         0\n",
      "3         0\n",
      "4         0\n",
      "0         1\n",
      "1         1\n",
      "2         1\n",
      "3         1\n",
      "4         1\n"
     ]
    }
   ],
   "source": [
    "# Tjekker om kodningen er udført korrekt\n",
    "print(\"\\nDe første 10 rækker efter transformation af vin_type:\")\n",
    "print(vin_data[['vin_type']].head(10))"
   ]
  },
  {
   "cell_type": "markdown",
   "id": "b66c1d02-865d-495a-a339-4c8fbf513685",
   "metadata": {},
   "source": [
    "# Task 6:\n",
    "## Beskrivende statistik for alle numeriske kolonner"
   ]
  },
  {
   "cell_type": "code",
   "execution_count": 24,
   "id": "9d645e5f-a9ba-4cc7-b2e0-9dbe8a536cce",
   "metadata": {},
   "outputs": [
    {
     "data": {
      "text/html": [
       "<div>\n",
       "<style scoped>\n",
       "    .dataframe tbody tr th:only-of-type {\n",
       "        vertical-align: middle;\n",
       "    }\n",
       "\n",
       "    .dataframe tbody tr th {\n",
       "        vertical-align: top;\n",
       "    }\n",
       "\n",
       "    .dataframe thead th {\n",
       "        text-align: right;\n",
       "    }\n",
       "</style>\n",
       "<table border=\"1\" class=\"dataframe\">\n",
       "  <thead>\n",
       "    <tr style=\"text-align: right;\">\n",
       "      <th></th>\n",
       "      <th>fixed acidity</th>\n",
       "      <th>volatile acidity</th>\n",
       "      <th>citric acid</th>\n",
       "      <th>residual sugar</th>\n",
       "      <th>chlorides</th>\n",
       "      <th>free sulfur dioxide</th>\n",
       "      <th>total sulfur dioxide</th>\n",
       "      <th>density</th>\n",
       "      <th>pH</th>\n",
       "      <th>sulphates</th>\n",
       "      <th>alcohol</th>\n",
       "      <th>quality</th>\n",
       "      <th>vin_type</th>\n",
       "    </tr>\n",
       "  </thead>\n",
       "  <tbody>\n",
       "    <tr>\n",
       "      <th>count</th>\n",
       "      <td>10.000000</td>\n",
       "      <td>10.000000</td>\n",
       "      <td>10.000000</td>\n",
       "      <td>10.00000</td>\n",
       "      <td>10.000000</td>\n",
       "      <td>10.000000</td>\n",
       "      <td>10.000000</td>\n",
       "      <td>10.000000</td>\n",
       "      <td>10.000000</td>\n",
       "      <td>10.000000</td>\n",
       "      <td>10.000000</td>\n",
       "      <td>10.000000</td>\n",
       "      <td>10.000000</td>\n",
       "    </tr>\n",
       "    <tr>\n",
       "      <th>mean</th>\n",
       "      <td>7.740000</td>\n",
       "      <td>0.463000</td>\n",
       "      <td>0.234000</td>\n",
       "      <td>5.68000</td>\n",
       "      <td>0.067700</td>\n",
       "      <td>26.200000</td>\n",
       "      <td>102.000000</td>\n",
       "      <td>0.996870</td>\n",
       "      <td>3.258000</td>\n",
       "      <td>0.521000</td>\n",
       "      <td>9.640000</td>\n",
       "      <td>5.600000</td>\n",
       "      <td>0.500000</td>\n",
       "    </tr>\n",
       "    <tr>\n",
       "      <th>std</th>\n",
       "      <td>1.314196</td>\n",
       "      <td>0.261153</td>\n",
       "      <td>0.204841</td>\n",
       "      <td>5.99459</td>\n",
       "      <td>0.018457</td>\n",
       "      <td>15.112908</td>\n",
       "      <td>61.645942</td>\n",
       "      <td>0.001963</td>\n",
       "      <td>0.155478</td>\n",
       "      <td>0.100161</td>\n",
       "      <td>0.374759</td>\n",
       "      <td>0.516398</td>\n",
       "      <td>0.527046</td>\n",
       "    </tr>\n",
       "    <tr>\n",
       "      <th>min</th>\n",
       "      <td>6.300000</td>\n",
       "      <td>0.230000</td>\n",
       "      <td>0.000000</td>\n",
       "      <td>1.60000</td>\n",
       "      <td>0.045000</td>\n",
       "      <td>11.000000</td>\n",
       "      <td>34.000000</td>\n",
       "      <td>0.994000</td>\n",
       "      <td>3.000000</td>\n",
       "      <td>0.400000</td>\n",
       "      <td>8.800000</td>\n",
       "      <td>5.000000</td>\n",
       "      <td>0.000000</td>\n",
       "    </tr>\n",
       "    <tr>\n",
       "      <th>25%</th>\n",
       "      <td>7.200000</td>\n",
       "      <td>0.272500</td>\n",
       "      <td>0.010000</td>\n",
       "      <td>1.90000</td>\n",
       "      <td>0.052000</td>\n",
       "      <td>14.250000</td>\n",
       "      <td>55.500000</td>\n",
       "      <td>0.995600</td>\n",
       "      <td>3.190000</td>\n",
       "      <td>0.442500</td>\n",
       "      <td>9.425000</td>\n",
       "      <td>5.000000</td>\n",
       "      <td>0.000000</td>\n",
       "    </tr>\n",
       "    <tr>\n",
       "      <th>50%</th>\n",
       "      <td>7.400000</td>\n",
       "      <td>0.290000</td>\n",
       "      <td>0.320000</td>\n",
       "      <td>2.45000</td>\n",
       "      <td>0.066500</td>\n",
       "      <td>21.000000</td>\n",
       "      <td>82.000000</td>\n",
       "      <td>0.996900</td>\n",
       "      <td>3.230000</td>\n",
       "      <td>0.525000</td>\n",
       "      <td>9.800000</td>\n",
       "      <td>6.000000</td>\n",
       "      <td>0.500000</td>\n",
       "    </tr>\n",
       "    <tr>\n",
       "      <th>75%</th>\n",
       "      <td>7.800000</td>\n",
       "      <td>0.700000</td>\n",
       "      <td>0.355000</td>\n",
       "      <td>8.10000</td>\n",
       "      <td>0.076000</td>\n",
       "      <td>41.250000</td>\n",
       "      <td>160.500000</td>\n",
       "      <td>0.997800</td>\n",
       "      <td>3.290000</td>\n",
       "      <td>0.575000</td>\n",
       "      <td>9.875000</td>\n",
       "      <td>6.000000</td>\n",
       "      <td>1.000000</td>\n",
       "    </tr>\n",
       "    <tr>\n",
       "      <th>max</th>\n",
       "      <td>11.200000</td>\n",
       "      <td>0.880000</td>\n",
       "      <td>0.560000</td>\n",
       "      <td>20.70000</td>\n",
       "      <td>0.098000</td>\n",
       "      <td>47.000000</td>\n",
       "      <td>186.000000</td>\n",
       "      <td>1.001000</td>\n",
       "      <td>3.510000</td>\n",
       "      <td>0.680000</td>\n",
       "      <td>10.100000</td>\n",
       "      <td>6.000000</td>\n",
       "      <td>1.000000</td>\n",
       "    </tr>\n",
       "  </tbody>\n",
       "</table>\n",
       "</div>"
      ],
      "text/plain": [
       "       fixed acidity  volatile acidity  citric acid  residual sugar  \\\n",
       "count      10.000000         10.000000    10.000000        10.00000   \n",
       "mean        7.740000          0.463000     0.234000         5.68000   \n",
       "std         1.314196          0.261153     0.204841         5.99459   \n",
       "min         6.300000          0.230000     0.000000         1.60000   \n",
       "25%         7.200000          0.272500     0.010000         1.90000   \n",
       "50%         7.400000          0.290000     0.320000         2.45000   \n",
       "75%         7.800000          0.700000     0.355000         8.10000   \n",
       "max        11.200000          0.880000     0.560000        20.70000   \n",
       "\n",
       "       chlorides  free sulfur dioxide  total sulfur dioxide    density  \\\n",
       "count  10.000000            10.000000             10.000000  10.000000   \n",
       "mean    0.067700            26.200000            102.000000   0.996870   \n",
       "std     0.018457            15.112908             61.645942   0.001963   \n",
       "min     0.045000            11.000000             34.000000   0.994000   \n",
       "25%     0.052000            14.250000             55.500000   0.995600   \n",
       "50%     0.066500            21.000000             82.000000   0.996900   \n",
       "75%     0.076000            41.250000            160.500000   0.997800   \n",
       "max     0.098000            47.000000            186.000000   1.001000   \n",
       "\n",
       "              pH  sulphates    alcohol    quality   vin_type  \n",
       "count  10.000000  10.000000  10.000000  10.000000  10.000000  \n",
       "mean    3.258000   0.521000   9.640000   5.600000   0.500000  \n",
       "std     0.155478   0.100161   0.374759   0.516398   0.527046  \n",
       "min     3.000000   0.400000   8.800000   5.000000   0.000000  \n",
       "25%     3.190000   0.442500   9.425000   5.000000   0.000000  \n",
       "50%     3.230000   0.525000   9.800000   6.000000   0.500000  \n",
       "75%     3.290000   0.575000   9.875000   6.000000   1.000000  \n",
       "max     3.510000   0.680000  10.100000   6.000000   1.000000  "
      ]
     },
     "execution_count": 24,
     "metadata": {},
     "output_type": "execute_result"
    }
   ],
   "source": [
    "vin_data.describe()"
   ]
  },
  {
   "cell_type": "markdown",
   "id": "34957b0e-d549-401e-bce4-3e8ef1f00346",
   "metadata": {},
   "source": [
    "## Statistik for rødvin og hvidvin separat"
   ]
  },
  {
   "cell_type": "code",
   "execution_count": 26,
   "id": "376fb375-35fb-48a8-87e8-6323432add43",
   "metadata": {},
   "outputs": [
    {
     "data": {
      "text/html": [
       "<div>\n",
       "<style scoped>\n",
       "    .dataframe tbody tr th:only-of-type {\n",
       "        vertical-align: middle;\n",
       "    }\n",
       "\n",
       "    .dataframe tbody tr th {\n",
       "        vertical-align: top;\n",
       "    }\n",
       "\n",
       "    .dataframe thead tr th {\n",
       "        text-align: left;\n",
       "    }\n",
       "\n",
       "    .dataframe thead tr:last-of-type th {\n",
       "        text-align: right;\n",
       "    }\n",
       "</style>\n",
       "<table border=\"1\" class=\"dataframe\">\n",
       "  <thead>\n",
       "    <tr>\n",
       "      <th></th>\n",
       "      <th colspan=\"5\" halign=\"left\">quality</th>\n",
       "      <th colspan=\"5\" halign=\"left\">alcohol</th>\n",
       "      <th colspan=\"5\" halign=\"left\">residual sugar</th>\n",
       "    </tr>\n",
       "    <tr>\n",
       "      <th></th>\n",
       "      <th>mean</th>\n",
       "      <th>median</th>\n",
       "      <th>std</th>\n",
       "      <th>min</th>\n",
       "      <th>max</th>\n",
       "      <th>mean</th>\n",
       "      <th>median</th>\n",
       "      <th>std</th>\n",
       "      <th>min</th>\n",
       "      <th>max</th>\n",
       "      <th>mean</th>\n",
       "      <th>median</th>\n",
       "      <th>std</th>\n",
       "      <th>min</th>\n",
       "      <th>max</th>\n",
       "    </tr>\n",
       "    <tr>\n",
       "      <th>vin_type</th>\n",
       "      <th></th>\n",
       "      <th></th>\n",
       "      <th></th>\n",
       "      <th></th>\n",
       "      <th></th>\n",
       "      <th></th>\n",
       "      <th></th>\n",
       "      <th></th>\n",
       "      <th></th>\n",
       "      <th></th>\n",
       "      <th></th>\n",
       "      <th></th>\n",
       "      <th></th>\n",
       "      <th></th>\n",
       "      <th></th>\n",
       "    </tr>\n",
       "  </thead>\n",
       "  <tbody>\n",
       "    <tr>\n",
       "      <th>0</th>\n",
       "      <td>5.2</td>\n",
       "      <td>5.0</td>\n",
       "      <td>0.447214</td>\n",
       "      <td>5</td>\n",
       "      <td>6</td>\n",
       "      <td>9.64</td>\n",
       "      <td>9.8</td>\n",
       "      <td>0.219089</td>\n",
       "      <td>9.4</td>\n",
       "      <td>9.8</td>\n",
       "      <td>2.12</td>\n",
       "      <td>1.9</td>\n",
       "      <td>0.319374</td>\n",
       "      <td>1.9</td>\n",
       "      <td>2.6</td>\n",
       "    </tr>\n",
       "    <tr>\n",
       "      <th>1</th>\n",
       "      <td>6.0</td>\n",
       "      <td>6.0</td>\n",
       "      <td>0.000000</td>\n",
       "      <td>6</td>\n",
       "      <td>6</td>\n",
       "      <td>9.64</td>\n",
       "      <td>9.9</td>\n",
       "      <td>0.517687</td>\n",
       "      <td>8.8</td>\n",
       "      <td>10.1</td>\n",
       "      <td>9.24</td>\n",
       "      <td>8.5</td>\n",
       "      <td>7.004855</td>\n",
       "      <td>1.6</td>\n",
       "      <td>20.7</td>\n",
       "    </tr>\n",
       "  </tbody>\n",
       "</table>\n",
       "</div>"
      ],
      "text/plain": [
       "         quality                          alcohol                              \\\n",
       "            mean median       std min max    mean median       std  min   max   \n",
       "vin_type                                                                        \n",
       "0            5.2    5.0  0.447214   5   6    9.64    9.8  0.219089  9.4   9.8   \n",
       "1            6.0    6.0  0.000000   6   6    9.64    9.9  0.517687  8.8  10.1   \n",
       "\n",
       "         residual sugar                              \n",
       "                   mean median       std  min   max  \n",
       "vin_type                                             \n",
       "0                  2.12    1.9  0.319374  1.9   2.6  \n",
       "1                  9.24    8.5  7.004855  1.6  20.7  "
      ]
     },
     "execution_count": 26,
     "metadata": {},
     "output_type": "execute_result"
    }
   ],
   "source": [
    "vin_data.groupby(\"vin_type\")[[\"quality\", \"alcohol\", \"residual sugar\"]].agg([\"mean\", \"median\", \"std\", \"min\", \"max\"]) "
   ]
  },
  {
   "cell_type": "markdown",
   "id": "12592404-ad37-42d1-a80b-75851ef2c0f6",
   "metadata": {},
   "source": [
    "## Normalfordeling\n",
    "Histogrammerne med KDE viser fordelingen af de numeriske kolonner, og vurderer, om de følger en normalfordeling."
   ]
  },
  {
   "cell_type": "code",
   "execution_count": 28,
   "id": "7cb26a1c-6bdd-4fa1-9457-01176295980d",
   "metadata": {},
   "outputs": [
    {
     "data": {
      "image/png": "[encoded data removed]",
      "text/plain": [
       "<Figure size 600x400 with 1 Axes>"
      ]
     },
     "metadata": {},
     "output_type": "display_data"
    },
    {
     "data": {
      "image/png": "[encoded data removed]",
      "text/plain": [
       "<Figure size 600x400 with 1 Axes>"
      ]
     },
     "metadata": {},
     "output_type": "display_data"
    },
    {
     "data": {
      "image/png": "[encoded data removed]",
      "text/plain": [
       "<Figure size 600x400 with 1 Axes>"
      ]
     },
     "metadata": {},
     "output_type": "display_data"
    },
    {
     "data": {
      "image/png": "[encoded data removed]",
      "text/plain": [
       "<Figure size 600x400 with 1 Axes>"
      ]
     },
     "metadata": {},
     "output_type": "display_data"
    },
    {
     "data": {
      "image/png": "[encoded data removed]",
      "text/plain": [
       "<Figure size 600x400 with 1 Axes>"
      ]
     },
     "metadata": {},
     "output_type": "display_data"
    },
    {
     "data": {
      "image/png": "[encoded data removed]",
      "text/plain": [
       "<Figure size 600x400 with 1 Axes>"
      ]
     },
     "metadata": {},
     "output_type": "display_data"
    },
    {
     "data": {
      "image/png": "[encoded data removed]",
      "text/plain": [
       "<Figure size 600x400 with 1 Axes>"
      ]
     },
     "metadata": {},
     "output_type": "display_data"
    },
    {
     "data": {
      "image/png": "[encoded data removed]",
      "text/plain": [
       "<Figure size 600x400 with 1 Axes>"
      ]
     },
     "metadata": {},
     "output_type": "display_data"
    },
    {
     "data": {
      "image/png": "[encoded data removed]",
      "text/plain": [
       "<Figure size 600x400 with 1 Axes>"
      ]
     },
     "metadata": {},
     "output_type": "display_data"
    },
    {
     "data": {
      "image/png": "[encoded data removed]",
      "text/plain": [
       "<Figure size 600x400 with 1 Axes>"
      ]
     },
     "metadata": {},
     "output_type": "display_data"
    },
    {
     "data": {
      "image/png": "[encoded data removed]",
      "text/plain": [
       "<Figure size 600x400 with 1 Axes>"
      ]
     },
     "metadata": {},
     "output_type": "display_data"
    },
    {
     "data": {
      "image/png": "[encoded data removed]",
      "text/plain": [
       "<Figure size 600x400 with 1 Axes>"
      ]
     },
     "metadata": {},
     "output_type": "display_data"
    },
    {
     "data": {
      "image/png": "[encoded data removed]",
      "text/plain": [
       "<Figure size 600x400 with 1 Axes>"
      ]
     },
     "metadata": {},
     "output_type": "display_data"
    }
   ],
   "source": [
    "numeriske_kolonner = vin_data.select_dtypes(include='number').columns\n",
    "\n",
    "for kolonne in numeriske_kolonner:\n",
    "    plt.figure(figsize=(6, 4))\n",
    "    sns.histplot(vin_data[kolonne], kde=True, bins=30)\n",
    "    plt.title(f'Histogram med KDE for {kolonne}')\n",
    "    plt.xlabel(kolonne)\n",
    "    plt.ylabel(\"Frekvens\")\n",
    "    plt.tight_layout()\n",
    "    plt.savefig(f'{kolonne}_histogram.png')\n",
    "    plt.show()"
   ]
  },
  {
   "cell_type": "markdown",
   "id": "871e8ca7-f5ae-4f48-871f-1e5eb8d7bad0",
   "metadata": {},
   "source": [
    "Histogrammerne viser ikke normalfordeling. Kurverne er enten højreskæve, venstreskæve eller fladet ud."
   ]
  },
  {
   "cell_type": "markdown",
   "id": "a54b0bde-7efd-4501-b877-e2aeb84a0494",
   "metadata": {},
   "source": [
    "# Task 7:\n",
    "## Kvalitet – Sammenligning af gennemsnitlig kvalitet mellem rødvin og hvidvin\n",
    "Nu sammenlignes gennemsnittene af kvaliteten for rødvin og hvidvin."
   ]
  },
  {
   "cell_type": "code",
   "execution_count": 31,
   "id": "bcaf72cd-00f6-4664-a958-a794bfc12fc7",
   "metadata": {},
   "outputs": [
    {
     "data": {
      "image/png": "[encoded data removed]",
      "text/plain": [
       "<Figure size 640x480 with 1 Axes>"
      ]
     },
     "metadata": {},
     "output_type": "display_data"
    },
    {
     "name": "stdout",
     "output_type": "stream",
     "text": [
      "Gennemsnitlig kvalitet:\n",
      "vin_type\n",
      "red      5.2\n",
      "white    6.0\n",
      "Name: quality, dtype: float64\n"
     ]
    }
   ],
   "source": [
    "# Omdanner vin_type tilbage til tekst for bedre læsbarhed i grafer og grupperinger\n",
    "# Tidligere var 'vin_type' kodet som 0 og 1 i opgave 5\n",
    "vin_data['vin_type'] = vin_data['vin_type'].map({0: 'red', 1: 'white'})\n",
    "\n",
    "# Boxplot for kvalitet\n",
    "sns.boxplot(x='vin_type', y='quality', data=vin_data)\n",
    "plt.title('Kvalitet for rød og hvid vin')\n",
    "plt.show()\n",
    "\n",
    "# Gennemsnit:\n",
    "mean_quality = vin_data.groupby(\"vin_type\")[\"quality\"].mean()\n",
    "print(\"Gennemsnitlig kvalitet:\")\n",
    "print(mean_quality)\n",
    "\n",
    "diff = mean_quality['white'] - mean_quality['red']"
   ]
  },
  {
   "cell_type": "markdown",
   "id": "166358d2-13e7-4bfa-9de6-305bf474b56d",
   "metadata": {},
   "source": [
    "Hvidvin har i gennemsnit 0.80 højere kvalitet end rødvin."
   ]
  },
  {
   "cell_type": "markdown",
   "id": "85edcfa4-4d55-4ca5-96e5-12881188c420",
   "metadata": {},
   "source": [
    "## Alkohol – Sammenligning af gennemsnitligt alkoholindhold mellem rødvin og hvidvin\n",
    "Nu sammenlignes gennemsnittene af alkoholindholdet for rødvin og hvidvin."
   ]
  },
  {
   "cell_type": "code",
   "execution_count": 34,
   "id": "8c629469-e24a-4c9e-bc78-5b08bbaefef6",
   "metadata": {},
   "outputs": [
    {
     "data": {
      "image/png": "[encoded data removed]",
      "text/plain": [
       "<Figure size 640x480 with 1 Axes>"
      ]
     },
     "metadata": {},
     "output_type": "display_data"
    },
    {
     "name": "stdout",
     "output_type": "stream",
     "text": [
      "\n",
      " Gennemsnitligt alkoholindhold:\n",
      "vin_type\n",
      "red      9.64\n",
      "white    9.64\n",
      "Name: alcohol, dtype: float64\n"
     ]
    }
   ],
   "source": [
    "sns.barplot(x='vin_type', y='alcohol', data=vin_data)\n",
    "plt.title(\"Gennemsnitligt alkoholindhold\")\n",
    "plt.show()\n",
    "\n",
    "print(\"\\n Gennemsnitligt alkoholindhold:\")\n",
    "print(vin_data.groupby(\"vin_type\")[\"alcohol\"].mean())"
   ]
  },
  {
   "cell_type": "markdown",
   "id": "6cc42f2b-e159-4104-8bf2-cd5e3214258f",
   "metadata": {},
   "source": [
    "Gennemsnitligt alkoholindhold er det samme for både rødvin og hvidvin, på 9.64%."
   ]
  },
  {
   "cell_type": "markdown",
   "id": "6b4623b6-fcd0-42c5-8584-e5231fbb94a7",
   "metadata": {},
   "source": [
    "## Restsukker – Sammenligning af gennemsnitligt restsukker mellem rødvin og hvidvin\n",
    "Nu sammenlignes gennemsnittene af restsukker for rødvin og hvidvin."
   ]
  },
  {
   "cell_type": "code",
   "execution_count": 37,
   "id": "ecf86332-e7fa-4531-a676-430830e859d9",
   "metadata": {},
   "outputs": [
    {
     "data": {
      "image/png": "[encoded data removed]",
      "text/plain": [
       "<Figure size 640x480 with 1 Axes>"
      ]
     },
     "metadata": {},
     "output_type": "display_data"
    },
    {
     "name": "stdout",
     "output_type": "stream",
     "text": [
      "\n",
      " Gennemsnitligt restsukker:\n",
      "vin_type\n",
      "red      2.12\n",
      "white    9.24\n",
      "Name: residual sugar, dtype: float64\n"
     ]
    }
   ],
   "source": [
    "sns.barplot(x='vin_type', y='residual sugar', data=vin_data)\n",
    "plt.title(\"Gennemsnitligt restsukker\")\n",
    "plt.show()\n",
    "\n",
    "print(\"\\n Gennemsnitligt restsukker:\")\n",
    "print(vin_data.groupby(\"vin_type\")[\"residual sugar\"].mean())"
   ]
  },
  {
   "cell_type": "markdown",
   "id": "c7d70686-03ef-46eb-9cbe-4bd09497d3bf",
   "metadata": {},
   "source": [
    "Gennemsnitligt restsukker er betydeligt højere for hvidvin 9.24 sammenlignet med rødvin 2.12."
   ]
  },
  {
   "cell_type": "markdown",
   "id": "d41f2808-abf8-4444-beee-9653e85643b1",
   "metadata": {},
   "source": [
    "## Forholdet mellem alkohol, restsukker og vinens kvalitet\n",
    "Nu undersøges forholdet mellem alkoholindhold, restsukker og vinens kvalitet ved hjælp af scatterplots og korrelationer."
   ]
  },
  {
   "cell_type": "code",
   "execution_count": 40,
   "id": "c527ff06-40c7-49ad-9b42-df01184b9b84",
   "metadata": {},
   "outputs": [
    {
     "data": {
      "image/png": "[encoded data removed]",
      "text/plain": [
       "<Figure size 640x480 with 1 Axes>"
      ]
     },
     "metadata": {},
     "output_type": "display_data"
    },
    {
     "data": {
      "image/png": "[encoded data removed]",
      "text/plain": [
       "<Figure size 640x480 with 1 Axes>"
      ]
     },
     "metadata": {},
     "output_type": "display_data"
    },
    {
     "name": "stdout",
     "output_type": "stream",
     "text": [
      "\n",
      " Korrelation mellem alkohol og kvalitet:\n",
      "          alcohol   quality\n",
      "alcohol  1.000000  0.091863\n",
      "quality  0.091863  1.000000\n",
      "\n",
      " Korrelation mellem restsukker og kvalitet:\n",
      "                residual sugar   quality\n",
      "residual sugar        1.000000  0.503224\n",
      "quality               0.503224  1.000000\n"
     ]
    }
   ],
   "source": [
    "# Alkohol vs kvalitet\n",
    "sns.scatterplot(x=\"alcohol\", y=\"quality\", hue=\"vin_type\", data=vin_data)\n",
    "plt.title(\"Alkohol vs Kvalitet\")\n",
    "plt.show()\n",
    "\n",
    "# Restsukker vs kvalitet\n",
    "sns.scatterplot(x=\"residual sugar\", y=\"quality\", hue=\"vin_type\", data=vin_data)\n",
    "plt.title(\"Restsukker vs Kvalitet\")\n",
    "plt.show()\n",
    "\n",
    "# Korrelationer\n",
    "print(\"\\n Korrelation mellem alkohol og kvalitet:\")\n",
    "print(vin_data[[\"alcohol\", \"quality\"]].corr())\n",
    "\n",
    "print(\"\\n Korrelation mellem restsukker og kvalitet:\")\n",
    "print(vin_data[[\"residual sugar\", \"quality\"]].corr())"
   ]
  },
  {
   "cell_type": "markdown",
   "id": "f0f700fe-0ef2-443b-88bc-a084fac292ba",
   "metadata": {},
   "source": [
    "Alkoholindholdet har en meget svag positiv sammenhæng med vinens kvalitet (korrelation: 0.091863). Alkohol ser derfor næsten ikke ud til at påvirke kvaliteten i særlig stor grad.\n",
    "\n",
    "Restsukker har en moderat positiv sammenhæng med kvaliteten (korrelation: 0.503224). Det ser ud til, at sødere vine i gennemsnit vurderes som højere kvalitet."
   ]
  },
  {
   "cell_type": "markdown",
   "id": "05324a27-967c-4822-9630-0844aa643e2d",
   "metadata": {},
   "source": [
    "# Task 8:\n",
    "## Hvad Forbrugere og vinforhandlere kan være interesserede i\n",
    "Forbrugere er interesserede i at vælge vine baseret på deres smag og madkombinationer, mens vinforhandlere fokuserer på at forudsige efterspørgslen og optimere lagerstyring."
   ]
  },
  {
   "cell_type": "markdown",
   "id": "0962f508-797c-4823-9828-4e2eb8155d3e",
   "metadata": {},
   "source": [
    "### Forbrugere\n",
    "\n",
    "Hvordan vælger jeg vin efter mine smagspræferencer og budget?\n",
    "\n",
    "Hvilke vine giver den bedste værdi for pengene?\n",
    "\n",
    "Hvilken vin passer til specifikke retter?\n",
    "\n",
    "### Vinforhandlere\n",
    "\n",
    "Hvilke vine er de mest populære?\n",
    "\n",
    "Hvordan kan jeg optimere lagerbeholdningen baseret på kvalitet og efterspørgsel?\n",
    "\n",
    "Hvad definerer værdien af at forudsige en vins popularitet?"
   ]
  },
  {
   "cell_type": "markdown",
   "id": "8576a5a2-7c54-49bd-8a13-e83601fdd59e",
   "metadata": {},
   "source": [
    "# Task 9:\n",
    "## Opdeling af de aggregerede data i fem og ti subsets ved at opdele pH-atributten i intervaller\n",
    "pH-værdierne i datasættet opdeles i 5 og 10 intervaller for at analysere fordelingen af pH-niveauerne. Dette giver indsigt i, hvordan pH-værdierne er fordelt i datasættet, og hvilke intervaller der har den højeste tæthed."
   ]
  },
  {
   "cell_type": "code",
   "execution_count": 45,
   "id": "8d90faa4-a4cf-4ef3-8fe3-5818e0f281a4",
   "metadata": {},
   "outputs": [
    {
     "name": "stdout",
     "output_type": "stream",
     "text": [
      "0       (3.502, 3.756]\n",
      "1       (2.994, 3.248]\n",
      "2       (3.248, 3.502]\n",
      "3       (2.994, 3.248]\n",
      "4       (3.502, 3.756]\n",
      "             ...      \n",
      "1594    (3.248, 3.502]\n",
      "1595    (3.502, 3.756]\n",
      "1596    (3.248, 3.502]\n",
      "1597    (3.502, 3.756]\n",
      "1598    (3.248, 3.502]\n",
      "Name: pH_bin_5, Length: 1599, dtype: category\n",
      "Categories (5, interval[float64, right]): [(2.739, 2.994] < (2.994, 3.248] < (3.248, 3.502] < (3.502, 3.756] < (3.756, 4.01]]\n"
     ]
    }
   ],
   "source": [
    "rødvin['pH_bin_5'] = pd.cut(rødvin['pH'], bins=5)\n",
    "print(rødvin['pH_bin_5'])"
   ]
  },
  {
   "cell_type": "code",
   "execution_count": 46,
   "id": "4dce45cf-8f13-4ed0-956f-25055f9bf1c1",
   "metadata": {},
   "outputs": [
    {
     "name": "stdout",
     "output_type": "stream",
     "text": [
      "0       (3.502, 3.629]\n",
      "1       (3.121, 3.248]\n",
      "2       (3.248, 3.375]\n",
      "3       (3.121, 3.248]\n",
      "4       (3.502, 3.629]\n",
      "             ...      \n",
      "1594    (3.375, 3.502]\n",
      "1595    (3.502, 3.629]\n",
      "1596    (3.375, 3.502]\n",
      "1597    (3.502, 3.629]\n",
      "1598    (3.375, 3.502]\n",
      "Name: pH_bin_10, Length: 1599, dtype: category\n",
      "Categories (10, interval[float64, right]): [(2.739, 2.867] < (2.867, 2.994] < (2.994, 3.121] < (3.121, 3.248] ... (3.502, 3.629] < (3.629, 3.756] < (3.756, 3.883] < (3.883, 4.01]]\n"
     ]
    }
   ],
   "source": [
    "rødvin['pH_bin_10'] = pd.cut(rødvin['pH'], bins=10)\n",
    "print(rødvin['pH_bin_10'])"
   ]
  },
  {
   "cell_type": "markdown",
   "id": "32cf3e27-b97f-4964-8437-3d1b2e17a9b0",
   "metadata": {},
   "source": [
    "### Udregner højest subset tæthed"
   ]
  },
  {
   "cell_type": "code",
   "execution_count": 48,
   "id": "4728949e-b688-4c38-bd3a-230e315fcc77",
   "metadata": {},
   "outputs": [],
   "source": [
    "density_10 = rødvin.groupby('pH_bin_10', observed=False)['density'].mean()\n",
    "highest_density_subset = density_10.idxmax()"
   ]
  },
  {
   "cell_type": "markdown",
   "id": "20867f50-f7dd-4099-abf3-475f04eb3e5a",
   "metadata": {},
   "source": [
    "### viser intervallet med den højeste tæthed."
   ]
  },
  {
   "cell_type": "code",
   "execution_count": 50,
   "id": "150ac4e4-d483-4084-a758-d81b078c7c5f",
   "metadata": {},
   "outputs": [
    {
     "name": "stdout",
     "output_type": "stream",
     "text": [
      "Højest subset tæthed: (2.739, 2.867]\n"
     ]
    }
   ],
   "source": [
    "print(f\"Højest subset tæthed: {highest_density_subset}\")"
   ]
  },
  {
   "cell_type": "markdown",
   "id": "1eceb821-d89b-403c-8e5a-65649a31bc6b",
   "metadata": {},
   "source": [
    "### Viser tæthedsværdierne for hvert interval"
   ]
  },
  {
   "cell_type": "code",
   "execution_count": 52,
   "id": "cc1d3103-4f01-4590-96f4-10a181ea9356",
   "metadata": {},
   "outputs": [
    {
     "name": "stdout",
     "output_type": "stream",
     "text": [
      "pH_bin_10\n",
      "(2.739, 2.867]    1.000200\n",
      "(2.867, 2.994]    0.997939\n",
      "(2.994, 3.121]    0.997864\n",
      "(3.121, 3.248]    0.997331\n",
      "(3.248, 3.375]    0.996618\n",
      "(3.375, 3.502]    0.996339\n",
      "(3.502, 3.629]    0.995946\n",
      "(3.629, 3.756]    0.994848\n",
      "(3.756, 3.883]    0.994117\n",
      "(3.883, 4.01]     0.992665\n",
      "Name: density, dtype: float64\n"
     ]
    }
   ],
   "source": [
    "print(density_10)"
   ]
  },
  {
   "cell_type": "markdown",
   "id": "f6382966-0c41-48af-8248-8e52150a3474",
   "metadata": {},
   "source": [
    "# Task 10:\n",
    "## Laver en korrelationsmatrix og heatmap for dataene. Find hvilken vinattribut der har størst og lavest indflydelse på vinens kvalitet. Er der andre stærkt korrelerede attributter, som ikke er vinens kvalitet?"
   ]
  },
  {
   "cell_type": "markdown",
   "id": "f20357f9-44bc-4867-8f84-0d00a55c1136",
   "metadata": {},
   "source": [
    "### korrelationsmatrix og et heatmap for alle dataene og undersøger det"
   ]
  },
  {
   "cell_type": "code",
   "execution_count": 55,
   "id": "94b7fdc9-7c27-489c-853c-29db4bbe437a",
   "metadata": {},
   "outputs": [],
   "source": [
    "rødvin_encoded = pd.get_dummies(rødvin, drop_first=True)\n",
    "correlation_matrix = rødvin_encoded.corr()"
   ]
  },
  {
   "cell_type": "markdown",
   "id": "9ba658b6-1b4c-49ef-ab54-890d83709c49",
   "metadata": {},
   "source": [
    "### korrelationsmatrixen for at udforske relationerne"
   ]
  },
  {
   "cell_type": "code",
   "execution_count": 57,
   "id": "75658b78-6a48-4080-92fa-5503a9bf8aa0",
   "metadata": {},
   "outputs": [
    {
     "name": "stdout",
     "output_type": "stream",
     "text": [
      "                          fixed acidity  volatile acidity  citric acid  \\\n",
      "fixed acidity                  1.000000         -0.256131     0.671703   \n",
      "volatile acidity              -0.256131          1.000000    -0.552496   \n",
      "citric acid                    0.671703         -0.552496     1.000000   \n",
      "residual sugar                 0.114777          0.001918     0.143577   \n",
      "chlorides                      0.093705          0.061298     0.203823   \n",
      "free sulfur dioxide           -0.153794         -0.010504    -0.060978   \n",
      "total sulfur dioxide          -0.113181          0.076470     0.035533   \n",
      "density                        0.668047          0.022026     0.364947   \n",
      "pH                            -0.682978          0.234937    -0.541904   \n",
      "sulphates                      0.183006         -0.260987     0.312770   \n",
      "alcohol                       -0.061668         -0.202288     0.109903   \n",
      "quality                        0.124052         -0.390558     0.226373   \n",
      "pH_bin_5_(2.994, 3.248]        0.519612         -0.152661     0.411274   \n",
      "pH_bin_5_(3.248, 3.502]       -0.321561          0.014645    -0.237520   \n",
      "pH_bin_5_(3.502, 3.756]       -0.344317          0.224787    -0.290251   \n",
      "pH_bin_5_(3.756, 4.01]        -0.124291          0.023298    -0.062596   \n",
      "pH_bin_10_(2.867, 2.994]       0.220782         -0.039350     0.117737   \n",
      "pH_bin_10_(2.994, 3.121]       0.362648         -0.074491     0.304222   \n",
      "pH_bin_10_(3.121, 3.248]       0.334233         -0.119441     0.253156   \n",
      "pH_bin_10_(3.248, 3.375]      -0.074948         -0.019451    -0.036371   \n",
      "pH_bin_10_(3.375, 3.502]      -0.298407          0.039860    -0.242235   \n",
      "pH_bin_10_(3.502, 3.629]      -0.283697          0.212740    -0.253091   \n",
      "pH_bin_10_(3.629, 3.756]      -0.191358          0.068155    -0.132560   \n",
      "pH_bin_10_(3.756, 3.883]      -0.080198          0.006583    -0.027675   \n",
      "pH_bin_10_(3.883, 4.01]       -0.094792          0.025089    -0.058754   \n",
      "\n",
      "                          residual sugar  chlorides  free sulfur dioxide  \\\n",
      "fixed acidity                   0.114777   0.093705            -0.153794   \n",
      "volatile acidity                0.001918   0.061298            -0.010504   \n",
      "citric acid                     0.143577   0.203823            -0.060978   \n",
      "residual sugar                  1.000000   0.055610             0.187049   \n",
      "chlorides                       0.055610   1.000000             0.005562   \n",
      "free sulfur dioxide             0.187049   0.005562             1.000000   \n",
      "total sulfur dioxide            0.203028   0.047400             0.667666   \n",
      "density                         0.355283   0.200632            -0.021946   \n",
      "pH                             -0.085652  -0.265026             0.070377   \n",
      "sulphates                       0.005527   0.371260             0.051658   \n",
      "alcohol                         0.042075  -0.221141            -0.069408   \n",
      "quality                         0.013732  -0.128907            -0.050656   \n",
      "pH_bin_5_(2.994, 3.248]         0.082529   0.189066            -0.062623   \n",
      "pH_bin_5_(3.248, 3.502]        -0.033714  -0.139480             0.061495   \n",
      "pH_bin_5_(3.502, 3.756]        -0.059714  -0.091793            -0.000966   \n",
      "pH_bin_5_(3.756, 4.01]         -0.037110  -0.042736             0.001699   \n",
      "pH_bin_10_(2.867, 2.994]       -0.008429   0.041617            -0.013286   \n",
      "pH_bin_10_(2.994, 3.121]        0.017694   0.218955            -0.042356   \n",
      "pH_bin_10_(3.121, 3.248]        0.079533   0.063953            -0.041176   \n",
      "pH_bin_10_(3.248, 3.375]       -0.015367  -0.060364            -0.030162   \n",
      "pH_bin_10_(3.375, 3.502]       -0.022659  -0.097433             0.108188   \n",
      "pH_bin_10_(3.502, 3.629]       -0.045502  -0.074456             0.010542   \n",
      "pH_bin_10_(3.629, 3.756]       -0.040815  -0.053442            -0.023920   \n",
      "pH_bin_10_(3.756, 3.883]       -0.011960  -0.009952             0.010193   \n",
      "pH_bin_10_(3.883, 4.01]        -0.038685  -0.047860            -0.006585   \n",
      "\n",
      "                          total sulfur dioxide   density        pH  sulphates  \\\n",
      "fixed acidity                        -0.113181  0.668047 -0.682978   0.183006   \n",
      "volatile acidity                      0.076470  0.022026  0.234937  -0.260987   \n",
      "citric acid                           0.035533  0.364947 -0.541904   0.312770   \n",
      "residual sugar                        0.203028  0.355283 -0.085652   0.005527   \n",
      "chlorides                             0.047400  0.200632 -0.265026   0.371260   \n",
      "free sulfur dioxide                   0.667666 -0.021946  0.070377   0.051658   \n",
      "total sulfur dioxide                  1.000000  0.071269 -0.066495   0.042947   \n",
      "density                               0.071269  1.000000 -0.341699   0.148506   \n",
      "pH                                   -0.066495 -0.341699  1.000000  -0.196648   \n",
      "sulphates                             0.042947  0.148506 -0.196648   1.000000   \n",
      "alcohol                              -0.205654 -0.496180  0.205633   0.093595   \n",
      "quality                              -0.185100 -0.174919 -0.057731   0.251397   \n",
      "pH_bin_5_(2.994, 3.248]               0.037163  0.258513 -0.664289   0.092093   \n",
      "pH_bin_5_(3.248, 3.502]              -0.030679 -0.143675  0.328857  -0.133268   \n",
      "pH_bin_5_(3.502, 3.756]              -0.028775 -0.176999  0.576349  -0.019770   \n",
      "pH_bin_5_(3.756, 4.01]                0.018645 -0.121586  0.248713  -0.022195   \n",
      "pH_bin_10_(2.867, 2.994]              0.043597  0.082812 -0.322363   0.197360   \n",
      "pH_bin_10_(2.994, 3.121]              0.010866  0.179082 -0.467506   0.150880   \n",
      "pH_bin_10_(3.121, 3.248]              0.033894  0.167173 -0.424721   0.001838   \n",
      "pH_bin_10_(3.248, 3.375]              0.019870 -0.049622  0.000699  -0.083517   \n",
      "pH_bin_10_(3.375, 3.502]             -0.059515 -0.114791  0.392438  -0.063405   \n",
      "pH_bin_10_(3.502, 3.629]             -0.032116 -0.127227  0.470181  -0.031322   \n",
      "pH_bin_10_(3.629, 3.756]              0.001344 -0.136749  0.330002   0.020015   \n",
      "pH_bin_10_(3.756, 3.883]              0.021796 -0.060435  0.138271  -0.010613   \n",
      "pH_bin_10_(3.883, 4.01]               0.005760 -0.108337  0.208923  -0.020140   \n",
      "\n",
      "                          ...  pH_bin_5_(3.756, 4.01]  \\\n",
      "fixed acidity             ...               -0.124291   \n",
      "volatile acidity          ...                0.023298   \n",
      "citric acid               ...               -0.062596   \n",
      "residual sugar            ...               -0.037110   \n",
      "chlorides                 ...               -0.042736   \n",
      "free sulfur dioxide       ...                0.001699   \n",
      "total sulfur dioxide      ...                0.018645   \n",
      "density                   ...               -0.121586   \n",
      "pH                        ...                0.248713   \n",
      "sulphates                 ...               -0.022195   \n",
      "alcohol                   ...                0.139061   \n",
      "quality                   ...                0.018162   \n",
      "pH_bin_5_(2.994, 3.248]   ...               -0.044401   \n",
      "pH_bin_5_(3.248, 3.502]   ...               -0.075915   \n",
      "pH_bin_5_(3.502, 3.756]   ...               -0.022188   \n",
      "pH_bin_5_(3.756, 4.01]    ...                1.000000   \n",
      "pH_bin_10_(2.867, 2.994]  ...               -0.008690   \n",
      "pH_bin_10_(2.994, 3.121]  ...               -0.020054   \n",
      "pH_bin_10_(3.121, 3.248]  ...               -0.035807   \n",
      "pH_bin_10_(3.248, 3.375]  ...               -0.048347   \n",
      "pH_bin_10_(3.375, 3.502]  ...               -0.035230   \n",
      "pH_bin_10_(3.502, 3.629]  ...               -0.019891   \n",
      "pH_bin_10_(3.629, 3.756]  ...               -0.009012   \n",
      "pH_bin_10_(3.756, 3.883]  ...                0.653833   \n",
      "pH_bin_10_(3.883, 4.01]   ...                0.755218   \n",
      "\n",
      "                          pH_bin_10_(2.867, 2.994]  pH_bin_10_(2.994, 3.121]  \\\n",
      "fixed acidity                             0.220782                  0.362648   \n",
      "volatile acidity                         -0.039350                 -0.074491   \n",
      "citric acid                               0.117737                  0.304222   \n",
      "residual sugar                           -0.008429                  0.017694   \n",
      "chlorides                                 0.041617                  0.218955   \n",
      "free sulfur dioxide                      -0.013286                 -0.042356   \n",
      "total sulfur dioxide                      0.043597                  0.010866   \n",
      "density                                   0.082812                  0.179082   \n",
      "pH                                       -0.322363                 -0.467506   \n",
      "sulphates                                 0.197360                  0.150880   \n",
      "alcohol                                   0.001273                 -0.094940   \n",
      "quality                                   0.023012                  0.024526   \n",
      "pH_bin_5_(2.994, 3.248]                  -0.087755                  0.451664   \n",
      "pH_bin_5_(3.248, 3.502]                  -0.150040                 -0.346246   \n",
      "pH_bin_5_(3.502, 3.756]                  -0.043852                 -0.101197   \n",
      "pH_bin_5_(3.756, 4.01]                   -0.008690                 -0.020054   \n",
      "pH_bin_10_(2.867, 2.994]                  1.000000                 -0.039636   \n",
      "pH_bin_10_(2.994, 3.121]                 -0.039636                  1.000000   \n",
      "pH_bin_10_(3.121, 3.248]                 -0.070770                 -0.163315   \n",
      "pH_bin_10_(3.248, 3.375]                 -0.095555                 -0.220511   \n",
      "pH_bin_10_(3.375, 3.502]                 -0.069630                 -0.160684   \n",
      "pH_bin_10_(3.502, 3.629]                 -0.039312                 -0.090721   \n",
      "pH_bin_10_(3.629, 3.756]                 -0.017812                 -0.041104   \n",
      "pH_bin_10_(3.756, 3.883]                 -0.005682                 -0.013112   \n",
      "pH_bin_10_(3.883, 4.01]                  -0.006563                 -0.015145   \n",
      "\n",
      "                          pH_bin_10_(3.121, 3.248]  pH_bin_10_(3.248, 3.375]  \\\n",
      "fixed acidity                             0.334233                 -0.074948   \n",
      "volatile acidity                         -0.119441                 -0.019451   \n",
      "citric acid                               0.253156                 -0.036371   \n",
      "residual sugar                            0.079533                 -0.015367   \n",
      "chlorides                                 0.063953                 -0.060364   \n",
      "free sulfur dioxide                      -0.041176                 -0.030162   \n",
      "total sulfur dioxide                      0.033894                  0.019870   \n",
      "density                                   0.167173                 -0.049622   \n",
      "pH                                       -0.424721                  0.000699   \n",
      "sulphates                                 0.001838                 -0.083517   \n",
      "alcohol                                  -0.040060                 -0.047586   \n",
      "quality                                   0.056319                 -0.011379   \n",
      "pH_bin_5_(2.994, 3.248]                   0.806446                 -0.488219   \n",
      "pH_bin_5_(3.248, 3.502]                  -0.618221                  0.636862   \n",
      "pH_bin_5_(3.502, 3.756]                  -0.180687                 -0.243966   \n",
      "pH_bin_5_(3.756, 4.01]                   -0.035807                 -0.048347   \n",
      "pH_bin_10_(2.867, 2.994]                 -0.070770                 -0.095555   \n",
      "pH_bin_10_(2.994, 3.121]                 -0.163315                 -0.220511   \n",
      "pH_bin_10_(3.121, 3.248]                  1.000000                 -0.393722   \n",
      "pH_bin_10_(3.248, 3.375]                 -0.393722                  1.000000   \n",
      "pH_bin_10_(3.375, 3.502]                 -0.286901                 -0.387377   \n",
      "pH_bin_10_(3.502, 3.629]                 -0.161981                 -0.218710   \n",
      "pH_bin_10_(3.629, 3.756]                 -0.073391                 -0.099094   \n",
      "pH_bin_10_(3.756, 3.883]                 -0.023412                 -0.031611   \n",
      "pH_bin_10_(3.883, 4.01]                  -0.027042                 -0.036513   \n",
      "\n",
      "                          pH_bin_10_(3.375, 3.502]  pH_bin_10_(3.502, 3.629]  \\\n",
      "fixed acidity                            -0.298407                 -0.283697   \n",
      "volatile acidity                          0.039860                  0.212740   \n",
      "citric acid                              -0.242235                 -0.253091   \n",
      "residual sugar                           -0.022659                 -0.045502   \n",
      "chlorides                                -0.097433                 -0.074456   \n",
      "free sulfur dioxide                       0.108188                  0.010542   \n",
      "total sulfur dioxide                     -0.059515                 -0.032116   \n",
      "density                                  -0.114791                 -0.127227   \n",
      "pH                                        0.392438                  0.470181   \n",
      "sulphates                                -0.063405                 -0.031322   \n",
      "alcohol                                   0.022541                  0.105837   \n",
      "quality                                  -0.039037                 -0.033651   \n",
      "pH_bin_5_(2.994, 3.248]                  -0.355759                 -0.200858   \n",
      "pH_bin_5_(3.248, 3.502]                   0.464074                 -0.343418   \n",
      "pH_bin_5_(3.502, 3.756]                  -0.177775                  0.896475   \n",
      "pH_bin_5_(3.756, 4.01]                   -0.035230                 -0.019891   \n",
      "pH_bin_10_(2.867, 2.994]                 -0.069630                 -0.039312   \n",
      "pH_bin_10_(2.994, 3.121]                 -0.160684                 -0.090721   \n",
      "pH_bin_10_(3.121, 3.248]                 -0.286901                 -0.161981   \n",
      "pH_bin_10_(3.248, 3.375]                 -0.387377                 -0.218710   \n",
      "pH_bin_10_(3.375, 3.502]                  1.000000                 -0.159371   \n",
      "pH_bin_10_(3.502, 3.629]                 -0.159371                  1.000000   \n",
      "pH_bin_10_(3.629, 3.756]                 -0.072208                 -0.040768   \n",
      "pH_bin_10_(3.756, 3.883]                 -0.023035                 -0.013005   \n",
      "pH_bin_10_(3.883, 4.01]                  -0.026607                 -0.015022   \n",
      "\n",
      "                          pH_bin_10_(3.629, 3.756]  pH_bin_10_(3.756, 3.883]  \\\n",
      "fixed acidity                            -0.191358                 -0.080198   \n",
      "volatile acidity                          0.068155                  0.006583   \n",
      "citric acid                              -0.132560                 -0.027675   \n",
      "residual sugar                           -0.040815                 -0.011960   \n",
      "chlorides                                -0.053442                 -0.009952   \n",
      "free sulfur dioxide                      -0.023920                  0.010193   \n",
      "total sulfur dioxide                      0.001344                  0.021796   \n",
      "density                                  -0.136749                 -0.060435   \n",
      "pH                                        0.330002                  0.138271   \n",
      "sulphates                                 0.020015                 -0.010613   \n",
      "alcohol                                   0.147518                  0.087241   \n",
      "quality                                  -0.019996                  0.037448   \n",
      "pH_bin_5_(2.994, 3.248]                  -0.091005                 -0.029031   \n",
      "pH_bin_5_(3.248, 3.502]                  -0.155596                 -0.049636   \n",
      "pH_bin_5_(3.502, 3.756]                   0.406177                 -0.014507   \n",
      "pH_bin_5_(3.756, 4.01]                   -0.009012                  0.653833   \n",
      "pH_bin_10_(2.867, 2.994]                 -0.017812                 -0.005682   \n",
      "pH_bin_10_(2.994, 3.121]                 -0.041104                 -0.013112   \n",
      "pH_bin_10_(3.121, 3.248]                 -0.073391                 -0.023412   \n",
      "pH_bin_10_(3.248, 3.375]                 -0.099094                 -0.031611   \n",
      "pH_bin_10_(3.375, 3.502]                 -0.072208                 -0.023035   \n",
      "pH_bin_10_(3.502, 3.629]                 -0.040768                 -0.013005   \n",
      "pH_bin_10_(3.629, 3.756]                  1.000000                 -0.005892   \n",
      "pH_bin_10_(3.756, 3.883]                 -0.005892                  1.000000   \n",
      "pH_bin_10_(3.883, 4.01]                  -0.006806                 -0.002171   \n",
      "\n",
      "                          pH_bin_10_(3.883, 4.01]  \n",
      "fixed acidity                           -0.094792  \n",
      "volatile acidity                         0.025089  \n",
      "citric acid                             -0.058754  \n",
      "residual sugar                          -0.038685  \n",
      "chlorides                               -0.047860  \n",
      "free sulfur dioxide                     -0.006585  \n",
      "total sulfur dioxide                     0.005760  \n",
      "density                                 -0.108337  \n",
      "pH                                       0.208923  \n",
      "sulphates                               -0.020140  \n",
      "alcohol                                  0.108211  \n",
      "quality                                 -0.008438  \n",
      "pH_bin_5_(2.994, 3.248]                 -0.033533  \n",
      "pH_bin_5_(3.248, 3.502]                 -0.057332  \n",
      "pH_bin_5_(3.502, 3.756]                 -0.016756  \n",
      "pH_bin_5_(3.756, 4.01]                   0.755218  \n",
      "pH_bin_10_(2.867, 2.994]                -0.006563  \n",
      "pH_bin_10_(2.994, 3.121]                -0.015145  \n",
      "pH_bin_10_(3.121, 3.248]                -0.027042  \n",
      "pH_bin_10_(3.248, 3.375]                -0.036513  \n",
      "pH_bin_10_(3.375, 3.502]                -0.026607  \n",
      "pH_bin_10_(3.502, 3.629]                -0.015022  \n",
      "pH_bin_10_(3.629, 3.756]                -0.006806  \n",
      "pH_bin_10_(3.756, 3.883]                -0.002171  \n",
      "pH_bin_10_(3.883, 4.01]                  1.000000  \n",
      "\n",
      "[25 rows x 25 columns]\n"
     ]
    }
   ],
   "source": [
    "print(correlation_matrix)"
   ]
  },
  {
   "cell_type": "markdown",
   "id": "59bde11d-4131-4f97-9f30-296718cec2df",
   "metadata": {},
   "source": [
    "### vinattribut der har størst indflydelse på vinens kvalitet"
   ]
  },
  {
   "cell_type": "code",
   "execution_count": 59,
   "id": "ee43f06e-7977-4494-902c-b21527836557",
   "metadata": {},
   "outputs": [
    {
     "name": "stdout",
     "output_type": "stream",
     "text": [
      "quality                     1.000000\n",
      "alcohol                     0.476166\n",
      "sulphates                   0.251397\n",
      "citric acid                 0.226373\n",
      "fixed acidity               0.124052\n",
      "pH_bin_5_(2.994, 3.248]     0.065631\n",
      "pH_bin_10_(3.121, 3.248]    0.056319\n",
      "pH_bin_10_(3.756, 3.883]    0.037448\n",
      "pH_bin_10_(2.994, 3.121]    0.024526\n",
      "pH_bin_10_(2.867, 2.994]    0.023012\n",
      "pH_bin_5_(3.756, 4.01]      0.018162\n",
      "residual sugar              0.013732\n",
      "pH_bin_10_(3.883, 4.01]    -0.008438\n",
      "pH_bin_10_(3.248, 3.375]   -0.011379\n",
      "pH_bin_10_(3.629, 3.756]   -0.019996\n",
      "pH_bin_10_(3.502, 3.629]   -0.033651\n",
      "pH_bin_10_(3.375, 3.502]   -0.039037\n",
      "pH_bin_5_(3.502, 3.756]    -0.039644\n",
      "pH_bin_5_(3.248, 3.502]    -0.043579\n",
      "free sulfur dioxide        -0.050656\n",
      "pH                         -0.057731\n",
      "chlorides                  -0.128907\n",
      "density                    -0.174919\n",
      "total sulfur dioxide       -0.185100\n",
      "volatile acidity           -0.390558\n",
      "Name: quality, dtype: float64\n"
     ]
    }
   ],
   "source": [
    "# Antager, at 'korrelationsmatrix' inkluderer en 'quality' kolonne.\n",
    "correlation_with_quality = correlation_matrix['quality'].sort_values(ascending=False)\n",
    "print(correlation_with_quality)"
   ]
  },
  {
   "cell_type": "markdown",
   "id": "5db58016-df98-4180-8bf4-5d7be8c6fccd",
   "metadata": {},
   "source": [
    "## Attributen med størst indflydelse"
   ]
  },
  {
   "cell_type": "code",
   "execution_count": 61,
   "id": "052e7a73-f1f8-420a-861d-bf6bb7a3ef63",
   "metadata": {},
   "outputs": [
    {
     "name": "stdout",
     "output_type": "stream",
     "text": [
      "Attributen med størst indflydelse: alcohol\n"
     ]
    }
   ],
   "source": [
    "most_influential = correlation_with_quality.index[1]  # udelukker 'kvalitet' \n",
    "print(f\"Attributen med størst indflydelse: {most_influential}\")"
   ]
  },
  {
   "cell_type": "markdown",
   "id": "1c632ee1-7bd8-4009-855c-a6c6cbb6d4f8",
   "metadata": {},
   "source": [
    "## Attributen med lavest indflydelse"
   ]
  },
  {
   "cell_type": "code",
   "execution_count": 63,
   "id": "8cca9d34-e8ec-44e5-990d-d9aac291c008",
   "metadata": {},
   "outputs": [
    {
     "name": "stdout",
     "output_type": "stream",
     "text": [
      "Attributen med lavest indflydelse: volatile acidity\n"
     ]
    }
   ],
   "source": [
    "least_influential = correlation_with_quality.index[-1]\n",
    "print(f\"Attributen med lavest indflydelse: {least_influential}\")"
   ]
  },
  {
   "cell_type": "markdown",
   "id": "ac11a8dd-bf39-418e-a580-c2b4748f1399",
   "metadata": {},
   "source": [
    "## Attributter der er stærkt korrelerede"
   ]
  },
  {
   "cell_type": "code",
   "execution_count": 65,
   "id": "14e6ab71-35fd-4ee1-8e15-e1ca24d18c89",
   "metadata": {},
   "outputs": [
    {
     "name": "stdout",
     "output_type": "stream",
     "text": [
      "                  Attribute 1               Attribute 2  Correlation\n",
      "371   pH_bin_5_(3.502, 3.756]  pH_bin_10_(3.502, 3.629]     0.896475\n",
      "539  pH_bin_10_(3.502, 3.629]   pH_bin_5_(3.502, 3.756]     0.896475\n",
      "318   pH_bin_5_(2.994, 3.248]  pH_bin_10_(3.121, 3.248]     0.806446\n",
      "462  pH_bin_10_(3.121, 3.248]   pH_bin_5_(2.994, 3.248]     0.806446\n",
      "399    pH_bin_5_(3.756, 4.01]   pH_bin_10_(3.883, 4.01]     0.755218\n",
      "615   pH_bin_10_(3.883, 4.01]    pH_bin_5_(3.756, 4.01]     0.755218\n",
      "313   pH_bin_5_(2.994, 3.248]   pH_bin_5_(3.248, 3.502]    -0.766600\n",
      "337   pH_bin_5_(3.248, 3.502]   pH_bin_5_(2.994, 3.248]    -0.766600\n"
     ]
    }
   ],
   "source": [
    "# Sætter en threshold for \"høj korrelation\" (f.eks. |korrelation| > 0.7)\n",
    "threshold = 0.7\n",
    "\n",
    "# Opretter et DataFrame for stærkt korrelerede par\n",
    "highly_correlated = correlation_matrix.unstack().reset_index()\n",
    "highly_correlated.columns = ['Attribute 1', 'Attribute 2', 'Correlation']\n",
    "\n",
    "# Filtrer duplikater og selvkorrelationer fra\n",
    "highly_correlated = highly_correlated[highly_correlated['Attribute 1'] != highly_correlated['Attribute 2']]\n",
    "highly_correlated = highly_correlated[highly_correlated['Correlation'].abs() > threshold]\n",
    "\n",
    "# Sorterer efter korrelationsstyrke\n",
    "highly_correlated = highly_correlated.sort_values(by='Correlation', ascending=False)\n",
    "\n",
    "# Printer resultat\n",
    "print(highly_correlated)"
   ]
  },
  {
   "cell_type": "markdown",
   "id": "7d9fcdd1-cbef-47b6-bcf4-4e7a3bcab5f5",
   "metadata": {},
   "source": [
    "# Task 11:\n",
    "## Undersøgelse af 'residual sugar' for outliers\n",
    "Her undersøges variablen 'residual sugar' for at identificere og fjerne eventuelle outliers, som kan forvrænge den statistiske analyse. Dette gøres vha. boxplot og IQR-metoden."
   ]
  },
  {
   "cell_type": "code",
   "execution_count": 67,
   "id": "59613faf-cccd-4eb3-85c6-21e93ab64ba4",
   "metadata": {},
   "outputs": [
    {
     "data": {
      "image/png": "[encoded data removed]",
      "text/plain": [
       "<Figure size 800x600 with 1 Axes>"
      ]
     },
     "metadata": {},
     "output_type": "display_data"
    }
   ],
   "source": [
    "plt.figure(figsize=(8, 6))\n",
    "sns.boxplot(x=rødvin['residual sugar'])\n",
    "plt.title('Box Plot for Residual Sugar')\n",
    "plt.show()"
   ]
  },
  {
   "cell_type": "markdown",
   "id": "db258a5e-87ed-4b6a-89e6-4ac8b3473e21",
   "metadata": {},
   "source": [
    "Der er blevet identificeret afvigere i datasættet."
   ]
  },
  {
   "cell_type": "markdown",
   "id": "777612d4-c16d-42d5-a178-727d71e59661",
   "metadata": {},
   "source": [
    "## Afvigere er fundet på følgende rækker i dataframen"
   ]
  },
  {
   "cell_type": "code",
   "execution_count": 70,
   "id": "5bc6aee6-e595-420c-a104-2bbfe913c718",
   "metadata": {},
   "outputs": [
    {
     "name": "stdout",
     "output_type": "stream",
     "text": [
      "Rækker med outliers i 'residual sugar': [9, 11, 14, 15, 18, 33, 35, 39, 40, 55, 57, 64, 65, 154, 155, 156, 157, 163, 164, 192, 215, 269, 270, 271, 272, 274, 275, 277, 278, 279, 283, 324, 325, 327, 353, 364, 366, 374, 375, 378, 395, 396, 400, 408, 409, 413, 415, 442, 455, 480, 484, 494, 501, 502, 510, 515, 516, 538, 539, 541, 554, 555, 556, 557, 558, 559, 564, 595, 606, 608, 624, 625, 645, 649, 652, 659, 690, 705, 719, 740, 800, 878, 884, 889, 903, 904, 910, 911, 913, 917, 923, 941, 944, 946, 974, 1032, 1038, 1043, 1056, 1057, 1059, 1071, 1074, 1077, 1078, 1079, 1081, 1086, 1094, 1096, 1114, 1133, 1138, 1147, 1176, 1186, 1190, 1203, 1226, 1235, 1239, 1244, 1257, 1276, 1288, 1289, 1295, 1296, 1307, 1331, 1358, 1373, 1388, 1394, 1406, 1412, 1423, 1434, 1435, 1437, 1441, 1445, 1471, 1474, 1476, 1478, 1501, 1514, 1515, 1540, 1552, 1558, 1574, 1577, 1589]\n"
     ]
    }
   ],
   "source": [
    "# Beregner kvartiler og interkvartilafstanden (IQR) for residual sugar\n",
    "Q1 = rødvin['residual sugar'].quantile(0.25)\n",
    "Q3 = rødvin['residual sugar'].quantile(0.75)\n",
    "IQR = Q3 - Q1\n",
    "\n",
    "# Definerer grænserne for outliers baseret på IQR-metoden\n",
    "lower_bound = Q1 - 1.5 * IQR\n",
    "upper_bound = Q3 + 1.5 * IQR\n",
    "\n",
    "# Finder de rækker, hvor værdierne er uden for grænserne (outliers)\n",
    "outliers = rødvin[(rødvin['residual sugar'] < lower_bound) | (rødvin['residual sugar'] > upper_bound)]\n",
    "\n",
    "# Gemmer indeksene for rækker med outliers\n",
    "outlier_rows = outliers.index\n",
    "\n",
    "# Udskriver rækkerne med outliers\n",
    "print(f\"Rækker med outliers i 'residual sugar': {outlier_rows.tolist()}\")"
   ]
  },
  {
   "cell_type": "markdown",
   "id": "3fd777ef-4a5a-47d4-a55c-179f165255a5",
   "metadata": {},
   "source": [
    "Der er identificeret 155 afvigere (outliers) i variablen 'residual sugar' i datasættet."
   ]
  },
  {
   "cell_type": "markdown",
   "id": "f82f3ca9-5c07-48e3-ad45-f9d70869c1af",
   "metadata": {},
   "source": [
    "## Fjerner rækker med afvigere"
   ]
  },
  {
   "cell_type": "code",
   "execution_count": 73,
   "id": "6f7a992d-6b11-4964-bfd0-4d2ba5b6fd6f",
   "metadata": {},
   "outputs": [
    {
     "name": "stdout",
     "output_type": "stream",
     "text": [
      "      fixed acidity  volatile acidity  citric acid  residual sugar  chlorides  \\\n",
      "0               7.4             0.700         0.00             1.9      0.076   \n",
      "1               7.8             0.880         0.00             2.6      0.098   \n",
      "2               7.8             0.760         0.04             2.3      0.092   \n",
      "3              11.2             0.280         0.56             1.9      0.075   \n",
      "4               7.4             0.700         0.00             1.9      0.076   \n",
      "...             ...               ...          ...             ...        ...   \n",
      "1594            6.2             0.600         0.08             2.0      0.090   \n",
      "1595            5.9             0.550         0.10             2.2      0.062   \n",
      "1596            6.3             0.510         0.13             2.3      0.076   \n",
      "1597            5.9             0.645         0.12             2.0      0.075   \n",
      "1598            6.0             0.310         0.47             3.6      0.067   \n",
      "\n",
      "      free sulfur dioxide  total sulfur dioxide  density    pH  sulphates  \\\n",
      "0                    11.0                  34.0  0.99780  3.51       0.56   \n",
      "1                    25.0                  67.0  0.99680  3.20       0.68   \n",
      "2                    15.0                  54.0  0.99700  3.26       0.65   \n",
      "3                    17.0                  60.0  0.99800  3.16       0.58   \n",
      "4                    11.0                  34.0  0.99780  3.51       0.56   \n",
      "...                   ...                   ...      ...   ...        ...   \n",
      "1594                 32.0                  44.0  0.99490  3.45       0.58   \n",
      "1595                 39.0                  51.0  0.99512  3.52       0.76   \n",
      "1596                 29.0                  40.0  0.99574  3.42       0.75   \n",
      "1597                 32.0                  44.0  0.99547  3.57       0.71   \n",
      "1598                 18.0                  42.0  0.99549  3.39       0.66   \n",
      "\n",
      "      alcohol  quality vin_type        pH_bin_5       pH_bin_10  \n",
      "0         9.4        5      red  (3.502, 3.756]  (3.502, 3.629]  \n",
      "1         9.8        5      red  (2.994, 3.248]  (3.121, 3.248]  \n",
      "2         9.8        5      red  (3.248, 3.502]  (3.248, 3.375]  \n",
      "3         9.8        6      red  (2.994, 3.248]  (3.121, 3.248]  \n",
      "4         9.4        5      red  (3.502, 3.756]  (3.502, 3.629]  \n",
      "...       ...      ...      ...             ...             ...  \n",
      "1594     10.5        5      red  (3.248, 3.502]  (3.375, 3.502]  \n",
      "1595     11.2        6      red  (3.502, 3.756]  (3.502, 3.629]  \n",
      "1596     11.0        6      red  (3.248, 3.502]  (3.375, 3.502]  \n",
      "1597     10.2        5      red  (3.502, 3.756]  (3.502, 3.629]  \n",
      "1598     11.0        6      red  (3.248, 3.502]  (3.375, 3.502]  \n",
      "\n",
      "[1444 rows x 15 columns]\n"
     ]
    }
   ],
   "source": [
    "rødvin_cleaned = rødvin.drop(outliers.index)\n",
    "print(rødvin_cleaned)"
   ]
  },
  {
   "cell_type": "markdown",
   "id": "599176ad-67e5-4301-99f8-ad191985b5a7",
   "metadata": {},
   "source": [
    "Der er nu blevet fjernet 155 outliers, da det oprindelige datasæt indeholdt 1599 rækker, og det rensede datasæt består af 1444 rækker."
   ]
  },
  {
   "cell_type": "markdown",
   "id": "e9f57593-ac8a-4fab-9af4-11352ea504d8",
   "metadata": {},
   "source": [
    "## Visualisering af det nye rensede datasæt"
   ]
  },
  {
   "cell_type": "code",
   "execution_count": 76,
   "id": "ac58d2e5-908a-4c3f-bca4-85b8341c8c82",
   "metadata": {},
   "outputs": [
    {
     "data": {
      "image/png": "[encoded data removed]",
      "text/plain": [
       "<Figure size 800x600 with 1 Axes>"
      ]
     },
     "metadata": {},
     "output_type": "display_data"
    }
   ],
   "source": [
    "plt.figure(figsize=(8, 6))\n",
    "sns.boxplot(x=rødvin_cleaned['residual sugar'])\n",
    "plt.title('Box Plot for Residual Sugar')\n",
    "plt.show()"
   ]
  },
  {
   "cell_type": "markdown",
   "id": "0435c0be-84e8-4983-ad96-bd8a2ce0df09",
   "metadata": {},
   "source": [
    "# Task 12:\n",
    "## Fjerner de attributter, der ikke er korrelerede med vinens kvalitet, samt de attributter, der er stærkt korrelerede med en anden uafhængig attribut\n",
    "Her undersøges attributter, der ikke er signifikant korrelerede med vinens kvalitet under 0,3, samt attributter, der er stærkt korrelerede med andre over 0,9. De irrelevante og stærkt korrelerede attributter fjernes, og kun de mest relevante beholdes."
   ]
  },
  {
   "cell_type": "markdown",
   "id": "c5448a9c-1d12-4f4a-bc2e-6fbf11210e77",
   "metadata": {},
   "source": [
    "### Identificerer attributter, der ikke er korrelerede med vinens kvalitet."
   ]
  },
  {
   "cell_type": "code",
   "execution_count": 79,
   "id": "b0048430-d2e5-43e0-85ab-6e131b251d2b",
   "metadata": {},
   "outputs": [
    {
     "name": "stdout",
     "output_type": "stream",
     "text": [
      "Attributter, der er korreleret med vinens kvalitet: ['volatile acidity', 'alcohol', 'quality']\n"
     ]
    }
   ],
   "source": [
    "# Sætter tærskelværdien for at betragte korrelation som signifikant\n",
    "correlation_threshold = 0.3\n",
    "\n",
    "# Beregner den absolutte korrelation af alle attributter med vinens kvalitet\n",
    "quality_correlation = correlation_matrix['quality'].abs()\n",
    "\n",
    "# Filtrerer de attributter, der har en signifikant korrelation med vinens kvalitet\n",
    "relevant_attributes = quality_correlation[quality_correlation > correlation_threshold].index.tolist()\n",
    "\n",
    "# Udskriver de attributter, der er korrelerede med vinens kvalitet\n",
    "print(f\"Attributter, der er korreleret med vinens kvalitet: {relevant_attributes}\")"
   ]
  },
  {
   "cell_type": "markdown",
   "id": "2e9ee742-0107-4152-8f37-035ae2823565",
   "metadata": {},
   "source": [
    "## Identificerer attributter, der er stærkt korrelerede med andre attributter"
   ]
  },
  {
   "cell_type": "code",
   "execution_count": 81,
   "id": "21b35ff8-13fa-49ad-a74f-30b55a704028",
   "metadata": {},
   "outputs": [
    {
     "name": "stdout",
     "output_type": "stream",
     "text": [
      "Stærkt korrelerede attributter:\n",
      "Empty DataFrame\n",
      "Columns: [Attribute 1, Attribute 2, Correlation]\n",
      "Index: []\n"
     ]
    }
   ],
   "source": [
    "high_correlation_threshold = 0.9\n",
    "\n",
    "# Find attribute pairs with high correlation\n",
    "highly_correlated_pairs = correlation_matrix.unstack().reset_index()\n",
    "highly_correlated_pairs.columns = ['Attribute 1', 'Attribute 2', 'Correlation']\n",
    "highly_correlated_pairs = highly_correlated_pairs[\n",
    "    (highly_correlated_pairs['Correlation'].abs() > high_correlation_threshold) &\n",
    "    (highly_correlated_pairs['Attribute 1'] != highly_correlated_pairs['Attribute 2'])\n",
    "]\n",
    "\n",
    "print(f\"Stærkt korrelerede attributter:\\n{highly_correlated_pairs}\")"
   ]
  },
  {
   "cell_type": "markdown",
   "id": "89f3b883-9bad-421a-a434-4b538f4e9a80",
   "metadata": {},
   "source": [
    "## Fjerner unødvendige attributter"
   ]
  },
  {
   "cell_type": "code",
   "execution_count": 83,
   "id": "f77889c3-b429-4098-a7bb-0cf0ae709b75",
   "metadata": {},
   "outputs": [
    {
     "name": "stdout",
     "output_type": "stream",
     "text": [
      "      quality  alcohol  volatile acidity\n",
      "0           5      9.4             0.700\n",
      "1           5      9.8             0.880\n",
      "2           5      9.8             0.760\n",
      "3           6      9.8             0.280\n",
      "4           5      9.4             0.700\n",
      "...       ...      ...               ...\n",
      "1594        5     10.5             0.600\n",
      "1595        6     11.2             0.550\n",
      "1596        6     11.0             0.510\n",
      "1597        5     10.2             0.645\n",
      "1598        6     11.0             0.310\n",
      "\n",
      "[1599 rows x 3 columns]\n"
     ]
    }
   ],
   "source": [
    "# Fjerner de attributter, der er stærkt korrelerede med andre attributter\n",
    "attributes_to_remove = set(highly_correlated_pairs['Attribute 1'])\n",
    "\n",
    "# Laver en liste over de relevante attributter, der ikke er stærkt korrelerede med andre\n",
    "final_attributes = list(set(relevant_attributes) - attributes_to_remove)\n",
    "\n",
    "# Filtrerer dataframen ved hjælp af de relevante attributter\n",
    "rødvin_filtered = rødvin[final_attributes]\n",
    "\n",
    "# Udskriver den filtrerede dataframe\n",
    "print(rødvin_filtered)"
   ]
  },
  {
   "cell_type": "markdown",
   "id": "a3f8cce7-e94a-43c1-b68d-2cb5f7c34adb",
   "metadata": {},
   "source": [
    "Efter at have fjernet de irrelevante og stærkt korrelerede attributter, indeholder den filtrerede dataframe kun de relevante attributter: volatile acidity, alcohol og quality. De andre attributter er blevet fjernet."
   ]
  },
  {
   "cell_type": "markdown",
   "id": "bc8d78bb-76a0-4765-990a-830208366335",
   "metadata": {},
   "source": [
    "# Task 13:\n",
    "## Anvender Principal Component Analysis (PCA) på dataene\n",
    "Her anvendes PCA til at reducere dimensionaliteten af dataene ved at skabe to hovedkomponenter, som bevarer størstedelen af variationen. Dette gør det muligt at analysere dataene mere effektivt og visualisere de vigtigste mønstre."
   ]
  },
  {
   "cell_type": "code",
   "execution_count": 86,
   "id": "989fdc7c-26bb-4334-8c79-0b6210e31ffb",
   "metadata": {},
   "outputs": [
    {
     "data": {
      "image/png": "[encoded data removed]",
      "text/plain": [
       "<Figure size 800x600 with 1 Axes>"
      ]
     },
     "metadata": {},
     "output_type": "display_data"
    },
    {
     "data": {
      "image/png": "[encoded data removed]",
      "text/plain": [
       "<Figure size 800x600 with 1 Axes>"
      ]
     },
     "metadata": {},
     "output_type": "display_data"
    },
    {
     "name": "stdout",
     "output_type": "stream",
     "text": [
      "       PCA1      PCA2 vin_type\n",
      "0 -2.872446 -0.764479      red\n",
      "1 -2.923967 -0.377022      red\n",
      "2 -2.887333 -0.132715      red\n",
      "3  0.071649  1.475487      red\n",
      "4 -2.872446 -0.764479      red\n"
     ]
    }
   ],
   "source": [
    "# Fjerner kolonnen vin_type den er tekst og kan ikke bruges til PCA\n",
    "vin_data_numeric = vin_data.drop(columns=['vin_type'])\n",
    "\n",
    "# Standardiser data: Gør alle features sammenlignelige\n",
    "scaler = StandardScaler()\n",
    "vin_data_scaled = scaler.fit_transform(vin_data_numeric)\n",
    "\n",
    "# Udfører PCA med alle komponenter\n",
    "pca_full = PCA()\n",
    "pca_full.fit(vin_data_scaled)\n",
    "\n",
    "# Beregner den forklarede varians per komponent\n",
    "explained_variance = pca_full.explained_variance_ratio_\n",
    "\n",
    "# Plotter den kumulative forklarede varians\n",
    "plt.figure(figsize=(8, 6))\n",
    "plt.plot(np.cumsum(explained_variance), marker='o', linestyle='--', color='b')\n",
    "plt.xlabel('Antal komponenter')\n",
    "plt.ylabel('Kumulativ forklaret varians')\n",
    "plt.title('Kumulativ forklaret varians som funktion af komponenter')\n",
    "plt.grid(True)\n",
    "plt.show()\n",
    "\n",
    "# Scree Plot (Vis egenværdierne for hver komponent)\n",
    "plt.figure(figsize=(8, 6))\n",
    "plt.plot(range(1, len(explained_variance) + 1), explained_variance, marker='o', linestyle='-', color='r')\n",
    "plt.xlabel('Komponentnummer')\n",
    "plt.ylabel('Forklaret varians')\n",
    "plt.title('Scree Plot')\n",
    "plt.grid(True)\n",
    "plt.show()\n",
    "\n",
    "# Her vælges der 2 komponenter baseret på forklaringen af varians\n",
    "pca = PCA(n_components=2)\n",
    "vin_data_pca = pca.fit_transform(vin_data_scaled)\n",
    "\n",
    "# Gemmer resultatet i en ny DataFrame med de valgte komponenter\n",
    "pca_df = pd.DataFrame(vin_data_pca, columns=['PCA1', 'PCA2'])\n",
    "\n",
    "# Tilføjer vin_type tilbage til den nye DataFrame\n",
    "pca_df['vin_type'] = vin_data['vin_type'].values\n",
    "\n",
    "# Udskriver den nye DataFrame med PCA resultaterne\n",
    "print(pca_df.head())"
   ]
  },
  {
   "cell_type": "markdown",
   "id": "d4f5dc89-ed2e-472b-b3ef-da929b7a32da",
   "metadata": {},
   "source": [
    "Visualiseringerne (kumulativ forklaret varians og scree plot) viser, at de to første PCA-komponenter forklarer størstedelen af variationen i datasættet. Den resulterende DataFrame består nu af de to hovedkomponenter, PCA1 og PCA2, samt den oprindelige vin_type-kolonne, som er tilføjet for at bevare kontekst."
   ]
  },
  {
   "cell_type": "markdown",
   "id": "69651d1c-0956-40a2-9755-eb6f6e1cb813",
   "metadata": {},
   "source": [
    "# Task 14:\n",
    "## Print 10 tilfældige rækker fra det transformerede datasæt som bevis for koncept\n",
    "Som bevis for konceptet udtrækkes 10 tilfældige rækker fra det reducerede datasæt. Dette viser, at PCA-transformationen er blevet anvendt korrekt, og at dataene er reduceret til to dimensioner."
   ]
  },
  {
   "cell_type": "code",
   "execution_count": 89,
   "id": "8d293c07-c8a6-4d0d-9040-b0821cfa7fd1",
   "metadata": {},
   "outputs": [
    {
     "data": {
      "text/html": [
       "<div>\n",
       "<style scoped>\n",
       "    .dataframe tbody tr th:only-of-type {\n",
       "        vertical-align: middle;\n",
       "    }\n",
       "\n",
       "    .dataframe tbody tr th {\n",
       "        vertical-align: top;\n",
       "    }\n",
       "\n",
       "    .dataframe thead th {\n",
       "        text-align: right;\n",
       "    }\n",
       "</style>\n",
       "<table border=\"1\" class=\"dataframe\">\n",
       "  <thead>\n",
       "    <tr style=\"text-align: right;\">\n",
       "      <th></th>\n",
       "      <th>PCA1</th>\n",
       "      <th>PCA2</th>\n",
       "      <th>vin_type</th>\n",
       "    </tr>\n",
       "  </thead>\n",
       "  <tbody>\n",
       "    <tr>\n",
       "      <th>8</th>\n",
       "      <td>2.687340</td>\n",
       "      <td>0.702126</td>\n",
       "      <td>white</td>\n",
       "    </tr>\n",
       "    <tr>\n",
       "      <th>3</th>\n",
       "      <td>0.071649</td>\n",
       "      <td>1.475487</td>\n",
       "      <td>red</td>\n",
       "    </tr>\n",
       "    <tr>\n",
       "      <th>2</th>\n",
       "      <td>-2.887333</td>\n",
       "      <td>-0.132715</td>\n",
       "      <td>red</td>\n",
       "    </tr>\n",
       "    <tr>\n",
       "      <th>9</th>\n",
       "      <td>2.687340</td>\n",
       "      <td>0.702126</td>\n",
       "      <td>white</td>\n",
       "    </tr>\n",
       "    <tr>\n",
       "      <th>6</th>\n",
       "      <td>0.920123</td>\n",
       "      <td>1.157879</td>\n",
       "      <td>white</td>\n",
       "    </tr>\n",
       "    <tr>\n",
       "      <th>7</th>\n",
       "      <td>1.564389</td>\n",
       "      <td>1.734851</td>\n",
       "      <td>white</td>\n",
       "    </tr>\n",
       "    <tr>\n",
       "      <th>0</th>\n",
       "      <td>-2.872446</td>\n",
       "      <td>-0.764479</td>\n",
       "      <td>red</td>\n",
       "    </tr>\n",
       "    <tr>\n",
       "      <th>1</th>\n",
       "      <td>-2.923967</td>\n",
       "      <td>-0.377022</td>\n",
       "      <td>red</td>\n",
       "    </tr>\n",
       "    <tr>\n",
       "      <th>4</th>\n",
       "      <td>-2.872446</td>\n",
       "      <td>-0.764479</td>\n",
       "      <td>red</td>\n",
       "    </tr>\n",
       "    <tr>\n",
       "      <th>5</th>\n",
       "      <td>3.625350</td>\n",
       "      <td>-3.733774</td>\n",
       "      <td>white</td>\n",
       "    </tr>\n",
       "  </tbody>\n",
       "</table>\n",
       "</div>"
      ],
      "text/plain": [
       "       PCA1      PCA2 vin_type\n",
       "8  2.687340  0.702126    white\n",
       "3  0.071649  1.475487      red\n",
       "2 -2.887333 -0.132715      red\n",
       "9  2.687340  0.702126    white\n",
       "6  0.920123  1.157879    white\n",
       "7  1.564389  1.734851    white\n",
       "0 -2.872446 -0.764479      red\n",
       "1 -2.923967 -0.377022      red\n",
       "4 -2.872446 -0.764479      red\n",
       "5  3.625350 -3.733774    white"
      ]
     },
     "execution_count": 89,
     "metadata": {},
     "output_type": "execute_result"
    }
   ],
   "source": [
    "pca_df.sample(10)"
   ]
  },
  {
   "cell_type": "markdown",
   "id": "3bf13b35-602e-4f33-96b9-463e92c2b16b",
   "metadata": {},
   "source": [
    "Det transformerede datasæt viser, at PCA-transformationen er udført korrekt. Dataene er nu reduceret til to hovedkomponenter, PCA1 og PCA2, som bevarer størstedelen af variationen i datasættet. vin_type-kolonnen er tilføjet tilbage for at bevare information om vinens kategori."
   ]
  },
  {
   "cell_type": "markdown",
   "id": "b8c1984d-6193-48eb-b5db-a5be87d40aeb",
   "metadata": {},
   "source": [
    "# Task 15:\n",
    "## Udvikling af interaktiv applikation med Streamlit til dataindlæsning og 2D/3D-visualisering af dataanalyse\n",
    "Bruger Streamlit til at bygge en applikation, der tillader interaktiv dataindlæsning og visualisering af den eksplorative analyse. Applikationen anvender både 2D- og 3D-visualiseringsteknikker.\n",
    "\n",
    "Streamlit-applikationen kræver en separat Python-fil som vi har kaldt for MP2.py, Denne fil kan for eksempel køres i kommandolinjen ved hjælp af følgende kommando:\n",
    "\n",
    "streamlit run MP2.py\n",
    "\n",
    "I dette eksempel har jeg illustreret, hvordan man kan udvikle en interaktiv applikation ved hjælp af Streamlit, der tillader dataindlæsning og visualisering. Nedenfor følger koden, som normalt ville blive brugt:"
   ]
  },
  {
   "cell_type": "code",
   "execution_count": null,
   "id": "b10a1372-3595-439e-8ea2-80830853f225",
   "metadata": {},
   "outputs": [],
   "source": [
    "# Streamlit applikation header\n",
    "st.title(\"🍷 Vin Data Explorer med PCA\")\n",
    "st.write(\"Upload en Excel-fil med vin-data for at analysere og visualisere det i 2D og 3D.\")\n",
    "\n",
    "# Filupload funktion\n",
    "uploaded_file = st.file_uploader(\"Vælg en Excel-fil\", type=\"xlsx\")\n",
    "\n",
    "if uploaded_file is not None:\n",
    "    try:\n",
    "        # Læser data fra Excel-fil\n",
    "        df = pd.read_excel(uploaded_file)  \n",
    "        st.write(\"Eksempel på data:\", df.head())\n",
    "\n",
    "        # Forbereder data: Vælger kun de numeriske kolonner\n",
    "        vin_data_numeric = df.select_dtypes(include=['float64', 'int64'])\n",
    "\n",
    "        # Standardisering af de numeriske data\n",
    "        scaler = StandardScaler()\n",
    "        vin_data_scaled = scaler.fit_transform(vin_data_numeric)\n",
    "\n",
    "        # PCA transformation til 3 komponenter\n",
    "        pca = PCA(n_components=3)\n",
    "        vin_pca = pca.fit_transform(vin_data_scaled)\n",
    "        pca_df = pd.DataFrame(vin_pca, columns=[\"PCA1\", \"PCA2\", \"PCA3\"])\n",
    "\n",
    "        # Tilføjer kvalitetskolonnen (hvis den findes) til pca_df for farvekodning\n",
    "        if 'quality' in df.columns:\n",
    "            pca_df[\"quality\"] = df[\"quality\"]\n",
    "\n",
    "        # 2D visualisering\n",
    "        st.subheader(\"2D PCA-visualisering\")\n",
    "        fig2d = px.scatter(pca_df, x=\"PCA1\", y=\"PCA2\", color=\"quality\")\n",
    "        st.plotly_chart(fig2d)\n",
    "\n",
    "        # 3D visualisering\n",
    "        st.subheader(\"3D PCA-visualisering\")\n",
    "        fig3d = px.scatter_3d(pca_df, x=\"PCA1\", y=\"PCA2\", z=\"PCA3\", color=\"quality\")\n",
    "        st.plotly_chart(fig3d)\n",
    "\n",
    "    except Exception as e:\n",
    "        st.error(f\"Der opstod en fejl under filbehandling: {str(e)}\")"
   ]
  },
  {
   "cell_type": "markdown",
   "id": "ce7dd3f7-819a-44c4-997b-d997bc25dd36",
   "metadata": {},
   "source": [
    "Applikationen tillader brugeren at uploade en Excel-fil med vin-data, hvorefter de numeriske kolonner standardiseres og analyseres med PCA for at reducere dataene til tre hovedkomponenter. Resultaterne visualiseres interaktivt i både 2D og 3D ved hjælp af Plotly, med farvekodning baseret på vinens kvalitet. Dette giver brugeren et visuelt overblik over datastrukturen og mulige mønstre."
   ]
  },
  {
   "cell_type": "markdown",
   "id": "98ff1df5-c386-456c-94fc-ca57e58f898e",
   "metadata": {},
   "source": [
    "# Task 16:\n",
    "## Udvidelse af applikation med information om vinens kvalitet"
   ]
  },
  {
   "cell_type": "code",
   "execution_count": null,
   "id": "cd3d17b2-e9e3-4e28-95a6-235e8c9418db",
   "metadata": {},
   "outputs": [],
   "source": [
    "# Streamlit applikation header\n",
    "st.title(\"🍷 Vin Data Explorer med PCA\")\n",
    "st.write(\"Upload en Excel-fil med vin-data for at analysere og visualisere det i 2D og 3D.\")\n",
    "\n",
    "# Filupload funktion\n",
    "uploaded_file = st.file_uploader(\"Vælg en Excel-fil\", type=\"xlsx\")\n",
    "\n",
    "if uploaded_file is not None:\n",
    "    try:\n",
    "        # Læser data fra Excel-fil\n",
    "        df = pd.read_excel(uploaded_file)  \n",
    "        st.write(\"Eksempel på data:\", df.head())\n",
    "\n",
    "        # Forbereder data: Vælger kun de numeriske kolonner\n",
    "        vin_data_numeric = df.select_dtypes(include=['float64', 'int64'])\n",
    "\n",
    "        # Standardisering af de numeriske data\n",
    "        scaler = StandardScaler()\n",
    "        vin_data_scaled = scaler.fit_transform(vin_data_numeric)\n",
    "\n",
    "        # PCA transformation til 3 komponenter\n",
    "        pca = PCA(n_components=3)\n",
    "        vin_pca = pca.fit_transform(vin_data_scaled)\n",
    "        pca_df = pd.DataFrame(vin_pca, columns=[\"PCA1\", \"PCA2\", \"PCA3\"])\n",
    "\n",
    "        # Tilføjer kvalitetskolonnen (hvis den findes) til pca_df for farvekodning\n",
    "        if 'quality' in df.columns:\n",
    "            pca_df[\"quality\"] = df[\"quality\"]\n",
    "\n",
    "        # 2D visualisering\n",
    "        st.subheader(\"2D PCA-visualisering\")\n",
    "        fig2d = px.scatter(pca_df, x=\"PCA1\", y=\"PCA2\", color=\"quality\")\n",
    "        st.plotly_chart(fig2d)\n",
    "\n",
    "        # 3D visualisering\n",
    "        st.subheader(\"3D PCA-visualisering\")\n",
    "        fig3d = px.scatter_3d(pca_df, x=\"PCA1\", y=\"PCA2\", z=\"PCA3\", color=\"quality\")\n",
    "        st.plotly_chart(fig3d)\n",
    "\n",
    "        # Tilføjer Wikipedia information om vinens kvalitet\n",
    "        try:\n",
    "            # Henter artikel om vinens kvalitet fra Wikipedia\n",
    "            wine_quality_info = wikipedia.page(\"Wine_quality\").content\n",
    "            st.subheader(\"Information om vinens kvalitet\")\n",
    "            # Viser hele artiklen (eller en del af den)\n",
    "            st.write(wine_quality_info)\n",
    "        except wikipedia.exceptions.DisambiguationError as e:\n",
    "            st.error(f\"Fejl: Wikipedia kunne ikke finde præcise resultater for vinens kvalitet. Forsøg at søge på en specifik vin.\")\n",
    "        except wikipedia.exceptions.HTTPTimeoutError:\n",
    "            st.error(\"Fejl: Tid udløb under hentning af Wikipedia-artikel.\")\n",
    "        \n",
    "    except Exception as e:\n",
    "        st.error(f\"Der opstod en fejl under filbehandling: {str(e)}\")"
   ]
  },
  {
   "cell_type": "markdown",
   "id": "613fb45d-c326-4051-844c-819cf6f39fa3",
   "metadata": {},
   "source": [
    "Der er tilføjet en funktion, der henter og viser Wikipedia-information om vinens kvalitet. Brugeren kan nu læse om faktorer som geografisk oprindelse og produktionsmetoder, som påvirker vinens kvalitet. Der er også tilføjet fejlhåndtering for at håndtere eventuelle problemer med at hente artiklen.\n",
    "\n",
    "Dette er hvad der står i vores MP2.py fil for at køre den."
   ]
  }
 ],
 "metadata": {
  "kernelspec": {
   "display_name": "Python [conda env:base] *",
   "language": "python",
   "name": "conda-base-py"
  },
  "language_info": {
   "codemirror_mode": {
    "name": "ipython",
    "version": 3
   },
   "file_extension": ".py",
   "mimetype": "text/x-python",
   "name": "python",
   "nbconvert_exporter": "python",
   "pygments_lexer": "ipython3",
   "version": "3.12.7"
  }
 },
 "nbformat": 4,
 "nbformat_minor": 5
}

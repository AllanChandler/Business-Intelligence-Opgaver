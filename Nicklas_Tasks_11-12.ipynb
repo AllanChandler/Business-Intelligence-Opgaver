{
 "cells": [
  {
   "cell_type": "markdown",
   "id": "94123995-27ee-4061-9f34-3967b1f4210a",
   "metadata": {},
   "source": [
    "Nicklas Tasks 11-12"
   ]
  },
  {
   "cell_type": "markdown",
   "id": "cf40052e-af58-4be5-82c1-9844ddc332ea",
   "metadata": {},
   "source": [
    "# Forberedelse af data til yderligere analyse"
   ]
  },
  {
   "cell_type": "markdown",
   "id": "b9c692c5-2e9e-443d-b7e7-fcdc11b7f75e",
   "metadata": {},
   "source": [
    "## 11. Undersøger funktionen 'residual sugar'. Indeholder den afvigere? På hvilke rækker i dataframen findes de? Fjern disse rækker."
   ]
  },
  {
   "cell_type": "code",
   "execution_count": 287,
   "id": "dca08951-3d29-4d2f-88b8-0ba0cfac27e5",
   "metadata": {},
   "outputs": [],
   "source": [
    "import seaborn as sns"
   ]
  },
  {
   "cell_type": "code",
   "execution_count": 289,
   "id": "17a01f32-dfb7-4331-8e5c-8a01b998a89d",
   "metadata": {},
   "outputs": [],
   "source": [
    "import matplotlib.pyplot as plt"
   ]
  },
  {
   "cell_type": "code",
   "execution_count": 291,
   "id": "505a82b9-ce46-49dc-b7a0-fd0d521e02b9",
   "metadata": {},
   "outputs": [
    {
     "data": {
      "image/png": "[encoded data removed]",
      "text/plain": [
       "<Figure size 800x600 with 1 Axes>"
      ]
     },
     "metadata": {},
     "output_type": "display_data"
    }
   ],
   "source": [
    "plt.figure(figsize=(8, 6))\n",
    "sns.boxplot(x=rødvin['residual sugar'])\n",
    "plt.title('Box Plot for Residual Sugar')\n",
    "plt.show()"
   ]
  },
  {
   "cell_type": "markdown",
   "id": "f8f91779-3180-44bb-b7a6-27782cd12cea",
   "metadata": {},
   "source": [
    "##  JA, den indeholder afvigere"
   ]
  },
  {
   "cell_type": "markdown",
   "id": "266676e5-91ca-4d2e-b375-0dd7ec00e05f",
   "metadata": {},
   "source": [
    "## På hvilke rækker i dataframen findes de?"
   ]
  },
  {
   "cell_type": "markdown",
   "id": "51ffb6df-d141-4aa8-90fb-64046762323d",
   "metadata": {},
   "source": [
    "## Beregning af grænser"
   ]
  },
  {
   "cell_type": "code",
   "execution_count": 4,
   "id": "90ee41e0-98d0-458c-8193-d70cb974b608",
   "metadata": {},
   "outputs": [
    {
     "ename": "NameError",
     "evalue": "name 'rødvin' is not defined",
     "output_type": "error",
     "traceback": [
      "\u001b[1;31m---------------------------------------------------------------------------\u001b[0m",
      "\u001b[1;31mNameError\u001b[0m                                 Traceback (most recent call last)",
      "Cell \u001b[1;32mIn[4], line 1\u001b[0m\n\u001b[1;32m----> 1\u001b[0m Q1 \u001b[38;5;241m=\u001b[39m rødvin[\u001b[38;5;124m'\u001b[39m\u001b[38;5;124mresidual sugar\u001b[39m\u001b[38;5;124m'\u001b[39m]\u001b[38;5;241m.\u001b[39mquantile(\u001b[38;5;241m0.25\u001b[39m)\n\u001b[0;32m      2\u001b[0m Q3 \u001b[38;5;241m=\u001b[39m rødvin[\u001b[38;5;124m'\u001b[39m\u001b[38;5;124mresidual sugar\u001b[39m\u001b[38;5;124m'\u001b[39m]\u001b[38;5;241m.\u001b[39mquantile(\u001b[38;5;241m0.75\u001b[39m)\n\u001b[0;32m      3\u001b[0m IQR \u001b[38;5;241m=\u001b[39m Q3 \u001b[38;5;241m-\u001b[39m Q1\n",
      "\u001b[1;31mNameError\u001b[0m: name 'rødvin' is not defined"
     ]
    }
   ],
   "source": [
    "Q1 = rødvin['residual sugar'].quantile(0.25)\n",
    "Q3 = rødvin['residual sugar'].quantile(0.75)\n",
    "IQR = Q3 - Q1\n",
    "\n",
    "lower_bound = Q1 - 1.5 * IQR\n",
    "upper_bound = Q3 + 1.5 * IQR"
   ]
  },
  {
   "cell_type": "markdown",
   "id": "b7d51179-4f27-4edb-afce-5632090d11dd",
   "metadata": {},
   "source": [
    "## Filtrér afvigere"
   ]
  },
  {
   "cell_type": "code",
   "execution_count": 466,
   "id": "efafbe7f-c36a-45bf-a5ab-9e56352f0cd0",
   "metadata": {},
   "outputs": [],
   "source": [
    "outliers = rødvin[(rødvin['residual sugar'] < lower_bound) | (rødvin['residual sugar'] > upper_bound)]"
   ]
  },
  {
   "cell_type": "markdown",
   "id": "0167979b-68b9-4e09-8b01-0bd91cb51ddc",
   "metadata": {},
   "source": [
    "## Dette vil liste indekserne for de rækker, der indeholder afvigere i 'residual sugar'."
   ]
  },
  {
   "cell_type": "markdown",
   "id": "905f9961-5473-4fbf-839f-0a73b9b85139",
   "metadata": {},
   "source": [
    "### Får hele rækken for indekser"
   ]
  },
  {
   "cell_type": "code",
   "execution_count": 338,
   "id": "a16e2963-2678-45f5-901d-84f52f185c97",
   "metadata": {},
   "outputs": [
    {
     "name": "stdout",
     "output_type": "stream",
     "text": [
      "Rows with outliers in 'residual sugar': [9, 11, 14, 15, 18, 33, 35, 39, 40, 55, 57, 64, 65, 154, 155, 156, 157, 163, 164, 192, 215, 269, 270, 271, 272, 274, 275, 277, 278, 279, 283, 324, 325, 327, 353, 364, 366, 374, 375, 378, 395, 396, 400, 408, 409, 413, 415, 442, 455, 480, 484, 494, 501, 502, 510, 515, 516, 538, 539, 541, 554, 555, 556, 557, 558, 559, 564, 595, 606, 608, 624, 625, 645, 649, 652, 659, 690, 705, 719, 740, 800, 878, 884, 889, 903, 904, 910, 911, 913, 917, 923, 941, 944, 946, 974, 1032, 1038, 1043, 1056, 1057, 1059, 1071, 1074, 1077, 1078, 1079, 1081, 1086, 1094, 1096, 1114, 1133, 1138, 1147, 1176, 1186, 1190, 1203, 1226, 1235, 1239, 1244, 1257, 1276, 1288, 1289, 1295, 1296, 1307, 1331, 1358, 1373, 1388, 1394, 1406, 1412, 1423, 1434, 1435, 1437, 1441, 1445, 1471, 1474, 1476, 1478, 1501, 1514, 1515, 1540, 1552, 1558, 1574, 1577, 1589]\n"
     ]
    }
   ],
   "source": [
    "outlier_rows = outliers.index\n",
    "print(f\"Rows with outliers in 'residual sugar': {outlier_rows.tolist()}\")"
   ]
  },
  {
   "cell_type": "raw",
   "id": "bb815aca-c90f-4d10-8098-2d51d884f31b",
   "metadata": {},
   "source": [
    "outlier_rows = rødvin.index\n",
    "print(f\"Rows with outliers in 'residual sugar': {outlier_rows}\")"
   ]
  },
  {
   "cell_type": "code",
   "execution_count": 344,
   "id": "3757f2be-4f6b-4341-87c6-4434b8b5bc40",
   "metadata": {},
   "outputs": [],
   "source": [
    "## "
   ]
  },
  {
   "cell_type": "markdown",
   "id": "eba5738d-473f-4b41-9086-133f0c230927",
   "metadata": {},
   "source": [
    "## 12. Remove the attributes, which aren’t correlated with the wine quality, as well as the attributes that are highly correlated with another independent attribute."
   ]
  },
  {
   "cell_type": "code",
   "execution_count": null,
   "id": "f9ba1921-1069-472b-8741-95672a58719e",
   "metadata": {},
   "outputs": [],
   "source": []
  },
  {
   "cell_type": "markdown",
   "id": "adcb3652-62b2-4ffa-9855-5bf10842cbd4",
   "metadata": {},
   "source": [
    "# Fjern rækker med afvigere."
   ]
  },
  {
   "cell_type": "code",
   "execution_count": 471,
   "id": "bb27535d-6116-4f0c-bc35-bc6b53507340",
   "metadata": {},
   "outputs": [
    {
     "name": "stdout",
     "output_type": "stream",
     "text": [
      "      fixed acidity  volatile acidity  citric acid  residual sugar  chlorides  \\\n",
      "0               7.4             0.700         0.00             1.9      0.076   \n",
      "1               7.8             0.880         0.00             2.6      0.098   \n",
      "2               7.8             0.760         0.04             2.3      0.092   \n",
      "3              11.2             0.280         0.56             1.9      0.075   \n",
      "4               7.4             0.700         0.00             1.9      0.076   \n",
      "...             ...               ...          ...             ...        ...   \n",
      "1594            6.2             0.600         0.08             2.0      0.090   \n",
      "1595            5.9             0.550         0.10             2.2      0.062   \n",
      "1596            6.3             0.510         0.13             2.3      0.076   \n",
      "1597            5.9             0.645         0.12             2.0      0.075   \n",
      "1598            6.0             0.310         0.47             3.6      0.067   \n",
      "\n",
      "      free sulfur dioxide  total sulfur dioxide  density    pH  sulphates  \\\n",
      "0                    11.0                  34.0  0.99780  3.51       0.56   \n",
      "1                    25.0                  67.0  0.99680  3.20       0.68   \n",
      "2                    15.0                  54.0  0.99700  3.26       0.65   \n",
      "3                    17.0                  60.0  0.99800  3.16       0.58   \n",
      "4                    11.0                  34.0  0.99780  3.51       0.56   \n",
      "...                   ...                   ...      ...   ...        ...   \n",
      "1594                 32.0                  44.0  0.99490  3.45       0.58   \n",
      "1595                 39.0                  51.0  0.99512  3.52       0.76   \n",
      "1596                 29.0                  40.0  0.99574  3.42       0.75   \n",
      "1597                 32.0                  44.0  0.99547  3.57       0.71   \n",
      "1598                 18.0                  42.0  0.99549  3.39       0.66   \n",
      "\n",
      "      alcohol  quality vin_type        pH_bin_5       pH_bin_10  \n",
      "0         9.4        5      red  (3.502, 3.756]  (3.502, 3.629]  \n",
      "1         9.8        5      red  (2.994, 3.248]  (3.121, 3.248]  \n",
      "2         9.8        5      red  (3.248, 3.502]  (3.248, 3.375]  \n",
      "3         9.8        6      red  (2.994, 3.248]  (3.121, 3.248]  \n",
      "4         9.4        5      red  (3.502, 3.756]  (3.502, 3.629]  \n",
      "...       ...      ...      ...             ...             ...  \n",
      "1594     10.5        5      red  (3.248, 3.502]  (3.375, 3.502]  \n",
      "1595     11.2        6      red  (3.502, 3.756]  (3.502, 3.629]  \n",
      "1596     11.0        6      red  (3.248, 3.502]  (3.375, 3.502]  \n",
      "1597     10.2        5      red  (3.502, 3.756]  (3.502, 3.629]  \n",
      "1598     11.0        6      red  (3.248, 3.502]  (3.375, 3.502]  \n",
      "\n",
      "[1444 rows x 15 columns]\n"
     ]
    }
   ],
   "source": [
    "rødvin_cleaned = rødvin.drop(outliers.index)\n",
    "\n",
    "print(rødvin_cleaned)"
   ]
  },
  {
   "cell_type": "markdown",
   "id": "e748fb01-f3b3-4e2d-98f0-e3ec2c6ba2a0",
   "metadata": {},
   "source": [
    "## Visning af resultatet for det rensede datasæt"
   ]
  },
  {
   "cell_type": "code",
   "execution_count": 363,
   "id": "fba34fde-fb5d-449d-bf55-291341a36597",
   "metadata": {},
   "outputs": [
    {
     "data": {
      "image/png": "[encoded data removed]",
      "text/plain": [
       "<Figure size 800x600 with 1 Axes>"
      ]
     },
     "metadata": {},
     "output_type": "display_data"
    }
   ],
   "source": [
    "plt.figure(figsize=(8, 6))\n",
    "sns.boxplot(x=rødvin_cleaned['residual sugar'])\n",
    "plt.title('Box Plot for Residual Sugar')\n",
    "plt.show()"
   ]
  },
  {
   "cell_type": "markdown",
   "id": "8204e1ae-467c-45d4-88b1-b7add22d654b",
   "metadata": {},
   "source": [
    "# 12. Fjern de attributter, der ikke er korrelerede med vinens kvalitet, samt de attributter, der er stærkt korrelerede med en anden uafhængig attribut."
   ]
  },
  {
   "cell_type": "markdown",
   "id": "c965b541-fef1-4cdd-bc83-55dfe20a9430",
   "metadata": {},
   "source": [
    "# Identificér attributter, der ikke er korrelerede med vinens kvalitet."
   ]
  },
  {
   "cell_type": "markdown",
   "id": "4de39f9b-3450-4695-952d-e02ae0c2ed1a",
   "metadata": {},
   "source": [
    "## kriterium for at betragte korrelation som signifikant."
   ]
  },
  {
   "cell_type": "code",
   "execution_count": 401,
   "id": "67c952c9-61ef-4977-8ea4-494f4b78f866",
   "metadata": {},
   "outputs": [],
   "source": [
    "correlation_threshold = 0.3"
   ]
  },
  {
   "cell_type": "markdown",
   "id": "38736069-686d-4b78-b9bc-07330691da81",
   "metadata": {},
   "source": [
    "# Filtrér attributter med signifikant korrelation med vinens kvalitet."
   ]
  },
  {
   "cell_type": "code",
   "execution_count": 403,
   "id": "9af52532-ebf1-4bb0-86d2-ea1233046f01",
   "metadata": {},
   "outputs": [],
   "source": [
    "quality_correlation = correlation_matrix['quality'].abs()\n",
    "relevant_attributes = quality_correlation[quality_correlation > correlation_threshold].index.tolist()"
   ]
  },
  {
   "cell_type": "markdown",
   "id": "04ab5b58-21cb-414c-9d86-c40d4226af6e",
   "metadata": {},
   "source": [
    "## Print resultat"
   ]
  },
  {
   "cell_type": "code",
   "execution_count": 405,
   "id": "73413f42-d5de-47f3-95e2-83cd3248b372",
   "metadata": {},
   "outputs": [
    {
     "name": "stdout",
     "output_type": "stream",
     "text": [
      "Attributes correlated with wine quality: ['volatile acidity', 'alcohol', 'quality']\n"
     ]
    }
   ],
   "source": [
    "print(f\"Attributes correlated with wine quality: {relevant_attributes}\")"
   ]
  },
  {
   "cell_type": "markdown",
   "id": "bedcf4af-3ac8-4a27-8143-cb7d428cf5b0",
   "metadata": {},
   "source": [
    "# Identificér attributter, der er stærkt korrelerede med andre attributter"
   ]
  },
  {
   "cell_type": "markdown",
   "id": "b58a4eb3-113b-4724-bb4b-ecbd70a8caae",
   "metadata": {},
   "source": [
    "## Kriterium for høj korrelation"
   ]
  },
  {
   "cell_type": "code",
   "execution_count": 482,
   "id": "2086ef60-fafc-45e8-b86d-72dadb577cd1",
   "metadata": {},
   "outputs": [],
   "source": [
    "high_correlation_threshold = 0.9"
   ]
  },
  {
   "cell_type": "markdown",
   "id": "04fae76e-2b24-43b0-87f0-f50e77bb4810",
   "metadata": {},
   "source": [
    "# Find attributpar med høj korrelation."
   ]
  },
  {
   "cell_type": "code",
   "execution_count": 427,
   "id": "22f21e85-f2e9-4188-a0fb-acab1baa68f0",
   "metadata": {},
   "outputs": [],
   "source": [
    "# Find attribute pairs with high correlation\n",
    "highly_correlated_pairs = correlation_matrix.unstack().reset_index()\n",
    "highly_correlated_pairs.columns = ['Attribute 1', 'Attribute 2', 'Correlation']\n",
    "highly_correlated_pairs = highly_correlated_pairs[\n",
    "    (highly_correlated_pairs['Correlation'].abs() > high_correlation_threshold) &\n",
    "    (highly_correlated_pairs['Attribute 1'] != highly_correlated_pairs['Attribute 2'])\n",
    "]"
   ]
  },
  {
   "cell_type": "markdown",
   "id": "2f2c932c-5aaa-4899-871e-181a470ce27b",
   "metadata": {},
   "source": [
    "# Bestem hvilke attributter der skal fjernes (behold kun én fra hvert par)."
   ]
  },
  {
   "cell_type": "code",
   "execution_count": 433,
   "id": "474d5c79-b07f-498f-adcf-9acc720108d6",
   "metadata": {},
   "outputs": [
    {
     "name": "stdout",
     "output_type": "stream",
     "text": [
      "Highly correlated pairs:\n",
      "Empty DataFrame\n",
      "Columns: [Attribute 1, Attribute 2, Correlation]\n",
      "Index: []\n"
     ]
    }
   ],
   "source": [
    "print(f\"Highly correlated pairs:\\n{highly_correlated_pairs}\")"
   ]
  },
  {
   "cell_type": "code",
   "execution_count": 495,
   "id": "b74f0db4-ca0e-4395-8e83-b4a8cb73874c",
   "metadata": {},
   "outputs": [],
   "source": [
    "attributes_to_remove = set(highly_correlated_pairs['Attribute 1'])"
   ]
  },
  {
   "cell_type": "markdown",
   "id": "62accbe9-c55a-4d00-aa48-0826552a46b3",
   "metadata": {},
   "source": [
    "## Fjern unødvendige attributter."
   ]
  },
  {
   "cell_type": "markdown",
   "id": "058eb4e6-7a55-4e44-b666-f57eb4a9a7c6",
   "metadata": {},
   "source": [
    "## Konverter det endelige sæt af attributter til en liste."
   ]
  },
  {
   "cell_type": "code",
   "execution_count": 493,
   "id": "fcef8b08-2e20-4fc1-acbf-b52168de7e88",
   "metadata": {},
   "outputs": [],
   "source": [
    "final_attributes = list(set(relevant_attributes) - attributes_to_remove)"
   ]
  },
  {
   "cell_type": "markdown",
   "id": "1238e644-aa81-496d-9415-e06844d64066",
   "metadata": {},
   "source": [
    "## Filtrér dataframen ved hjælp af listen"
   ]
  },
  {
   "cell_type": "code",
   "execution_count": 498,
   "id": "4acae62d-684e-4fcc-8e30-b58b65fcda9e",
   "metadata": {},
   "outputs": [],
   "source": [
    "rødvin_filtered = rødvin[final_attributes]"
   ]
  },
  {
   "cell_type": "markdown",
   "id": "25b11356-7e45-4eac-b4b2-f1fea49d59f4",
   "metadata": {},
   "source": [
    "# Vis den filtrerede dataframetabel"
   ]
  },
  {
   "cell_type": "code",
   "execution_count": 456,
   "id": "18c47830-43e2-43ae-b082-55912c82aeba",
   "metadata": {},
   "outputs": [
    {
     "name": "stdout",
     "output_type": "stream",
     "text": [
      "      quality  volatile acidity  alcohol\n",
      "0           5             0.700      9.4\n",
      "1           5             0.880      9.8\n",
      "2           5             0.760      9.8\n",
      "3           6             0.280      9.8\n",
      "4           5             0.700      9.4\n",
      "...       ...               ...      ...\n",
      "1594        5             0.600     10.5\n",
      "1595        6             0.550     11.2\n",
      "1596        6             0.510     11.0\n",
      "1597        5             0.645     10.2\n",
      "1598        6             0.310     11.0\n",
      "\n",
      "[1599 rows x 3 columns]\n"
     ]
    }
   ],
   "source": [
    "print(rødvin_filtered)"
   ]
  },
  {
   "cell_type": "code",
   "execution_count": null,
   "id": "e158f17c-9aa7-4a9b-8789-6d594a43dd82",
   "metadata": {},
   "outputs": [],
   "source": []
  }
 ],
 "metadata": {
  "kernelspec": {
   "display_name": "Python [conda env:base] *",
   "language": "python",
   "name": "conda-base-py"
  },
  "language_info": {
   "codemirror_mode": {
    "name": "ipython",
    "version": 3
   },
   "file_extension": ".py",
   "mimetype": "text/x-python",
   "name": "python",
   "nbconvert_exporter": "python",
   "pygments_lexer": "ipython3",
   "version": "3.12.7"
  }
 },
 "nbformat": 4,
 "nbformat_minor": 5
}
